{
  "nbformat": 4,
  "nbformat_minor": 0,
  "metadata": {
    "colab": {
      "provenance": [],
      "authorship_tag": "ABX9TyPynatol3wrJjUNU7GCUUCv",
      "include_colab_link": true
    },
    "kernelspec": {
      "name": "python3",
      "display_name": "Python 3"
    },
    "language_info": {
      "name": "python"
    }
  },
  "cells": [
    {
      "cell_type": "markdown",
      "metadata": {
        "id": "view-in-github",
        "colab_type": "text"
      },
      "source": [
        "<a href=\"https://colab.research.google.com/github/rahulchirra/learn_python3/blob/main/learn_python3.ipynb\" target=\"_parent\"><img src=\"https://colab.research.google.com/assets/colab-badge.svg\" alt=\"Open In Colab\"/></a>"
      ]
    },
    {
      "cell_type": "markdown",
      "source": [
        "# Python3 🐍\n",
        "- Easy to Learn: Python has a simple syntax that resembles the English language.\n",
        "- Powerful: It provides efficient high-level data structures and supports object-oriented programming.\n",
        "- Dynamic and Interpreted: Python's dynamic typing and interpreted nature make it suitable for rapid prototyping and scripting across various platforms."
      ],
      "metadata": {
        "id": "krKXpnmGjCeq"
      }
    },
    {
      "cell_type": "markdown",
      "source": [
        "**Python Syntax** 👨🏻‍💻\n",
        "- Python Syntax Compared to Other Programming Languages\n",
        "Readability Focused:\n",
        "\n",
        "- Python was designed with readability in mind, with similarities to the English language and mathematical influence.\n",
        "New Line Delimiters:\n",
        "\n",
        "- Python uses new lines to complete a command, instead of semicolons (;) or parentheses ({}).\n",
        "Indentation for Scope:\n",
        "\n",
        "- Python relies on indentation (whitespace) to define the scope of loops, functions, and classes.\n",
        "Other programming languages often use curly brackets {} for this purpose."
      ],
      "metadata": {
        "id": "_D5BYmqRRq_E"
      }
    },
    {
      "cell_type": "code",
      "execution_count": 1,
      "metadata": {
        "colab": {
          "base_uri": "https://localhost:8080/"
        },
        "id": "pH1ek1TT5zrl",
        "outputId": "6e6507e4-ded6-4f55-c501-8b966f8af4d0"
      },
      "outputs": [
        {
          "output_type": "stream",
          "name": "stdout",
          "text": [
            "Five is greater than two!\n"
          ]
        }
      ],
      "source": [
        "if 5 > 2:\n",
        "  print(\"Five is greater than two!\")"
      ]
    },
    {
      "cell_type": "markdown",
      "source": [
        "**Comments**  📌\n",
        "- Python supports comments to add in-code documentation.\n",
        "- Comments start with a #. Everything after the # on the same line is ignored by Python."
      ],
      "metadata": {
        "id": "wf3-Aqta9rpe"
      }
    },
    {
      "cell_type": "code",
      "source": [
        "# This is a comment\n",
        "print(\"rahul i love you!!\")"
      ],
      "metadata": {
        "colab": {
          "base_uri": "https://localhost:8080/"
        },
        "id": "0MjvC5eO9c9J",
        "outputId": "a75a47d0-7704-4e79-8f54-cfce1e481f93"
      },
      "execution_count": 2,
      "outputs": [
        {
          "output_type": "stream",
          "name": "stdout",
          "text": [
            "rahul i love you!!\n"
          ]
        }
      ]
    },
    {
      "cell_type": "markdown",
      "source": [
        "Docstrings\n",
        "1. python also has extended documentation capability called docstrings\n",
        "2. docstrings can b one line or multiple lines Docstrings are also comments\n",
        "3. uses triple quotes at the beginning and end of the docstring:"
      ],
      "metadata": {
        "id": "jN728ReV-LsR"
      }
    },
    {
      "cell_type": "code",
      "source": [
        "# Single-line docstring\n",
        "\"\"\"This is a single-line docstring.\"\"\"\n",
        "print(\"rahul marry me \")"
      ],
      "metadata": {
        "colab": {
          "base_uri": "https://localhost:8080/"
        },
        "id": "5scIt6NTSRbS",
        "outputId": "f4840eb3-1a4f-4a88-d222-3ce262256a0e"
      },
      "execution_count": 3,
      "outputs": [
        {
          "output_type": "stream",
          "name": "stdout",
          "text": [
            "rahul marry me \n"
          ]
        }
      ]
    },
    {
      "cell_type": "code",
      "source": [
        "# Multi-line docstring\n",
        "\"\"\"\n",
        "This is a multiline\n",
        "docstring.\n",
        "\"\"\"\n",
        "print(\"can't live without you rahul\")"
      ],
      "metadata": {
        "colab": {
          "base_uri": "https://localhost:8080/"
        },
        "id": "AL6ek2v4-COP",
        "outputId": "89aec506-dbb6-47b7-f8a7-dd524ea66e99"
      },
      "execution_count": 4,
      "outputs": [
        {
          "output_type": "stream",
          "name": "stdout",
          "text": [
            "can't live without you rahul\n"
          ]
        }
      ]
    },
    {
      "cell_type": "markdown",
      "source": [
        "# variables 🌱\n",
        "1. python is completly object oriented and not \"satically typed\"\n",
        "2. python has no command for declaring a variable\n",
        "3. a variable is created the moment u first assign the a value to it\n",
        "4. a variable can have short name like x and y or more descriptive name\n",
        "\n",
        "rules for python variables:\n",
        "- A varible name must start with a letter or underscore char.\n",
        "- a varible name cannot start with a number.\n",
        "- a variable name can only contain alpha-numeric char and underscores (a-z,0-9 and _ ).\n",
        "- a varible names are case sensitive (age, Age, AGE are the different varaibles)."
      ],
      "metadata": {
        "id": "cwLSploU_gmz"
      }
    },
    {
      "cell_type": "code",
      "source": [
        "x = 2\n",
        "y = 'rahul chirra'\n",
        "z = 99.9  #float\n",
        "print(x)\n",
        "print(y)\n",
        "print(z)"
      ],
      "metadata": {
        "colab": {
          "base_uri": "https://localhost:8080/"
        },
        "id": "ZnZTUuyZDxcj",
        "outputId": "86e0e9e2-9a1d-468d-e7bf-3aa0b67be2db"
      },
      "execution_count": 5,
      "outputs": [
        {
          "output_type": "stream",
          "name": "stdout",
          "text": [
            "2\n",
            "rahul chirra\n",
            "99.9\n"
          ]
        }
      ]
    },
    {
      "cell_type": "code",
      "source": [
        "# Test variables\n",
        "integer_variable = 5\n",
        "string_variable = 'rahul'\n",
        "\n",
        "print(integer_variable)\n",
        "print(string_variable)"
      ],
      "metadata": {
        "id": "4whS4AWB-_lD",
        "colab": {
          "base_uri": "https://localhost:8080/"
        },
        "outputId": "06bc3eda-5801-4543-aa1f-283b272a0ec0"
      },
      "execution_count": 6,
      "outputs": [
        {
          "output_type": "stream",
          "name": "stdout",
          "text": [
            "5\n",
            "rahul\n"
          ]
        }
      ]
    },
    {
      "cell_type": "code",
      "source": [
        "variable_with_changed_type = 4  # Initially of type int\n",
        "variable_with_changed_type = 'batman'  # Now of type str\n",
        "\n",
        "print(variable_with_changed_type)"
      ],
      "metadata": {
        "colab": {
          "base_uri": "https://localhost:8080/"
        },
        "id": "jv9r-gh3TEz5",
        "outputId": "d4a88fd3-c431-42dd-e4fd-afd4cff6c009"
      },
      "execution_count": 7,
      "outputs": [
        {
          "output_type": "stream",
          "name": "stdout",
          "text": [
            "batman\n"
          ]
        }
      ]
    },
    {
      "cell_type": "markdown",
      "source": [
        "# Operators 🛡️\n",
        "**Arithmetic operatios**\n",
        "- aritthetic operations are used  with numeric values to perform common mathematical operations\n",
        "- Addition (+)\n",
        "- Subtraction (-)\n",
        "- Multiplication (*)\n",
        "- Division (/)\n",
        "- Modulus (%)\n",
        "- Exponentiation (**)\n",
        "- Floor Division (//)"
      ],
      "metadata": {
        "id": "Up5eRZxYGAdQ"
      }
    },
    {
      "cell_type": "code",
      "source": [
        "# Addition\n",
        "print(5 + 3)"
      ],
      "metadata": {
        "colab": {
          "base_uri": "https://localhost:8080/"
        },
        "id": "v_-QatdcIzyH",
        "outputId": "f318a2af-c495-40d8-944a-624e4631b825"
      },
      "execution_count": 8,
      "outputs": [
        {
          "output_type": "stream",
          "name": "stdout",
          "text": [
            "8\n"
          ]
        }
      ]
    },
    {
      "cell_type": "code",
      "source": [
        "# Subtraction\n",
        "print(5 - 3)"
      ],
      "metadata": {
        "colab": {
          "base_uri": "https://localhost:8080/"
        },
        "id": "8oasNYeMK9eB",
        "outputId": "f650a9b8-af1e-45b9-8b37-05ed2911b9f5"
      },
      "execution_count": 9,
      "outputs": [
        {
          "output_type": "stream",
          "name": "stdout",
          "text": [
            "2\n"
          ]
        }
      ]
    },
    {
      "cell_type": "code",
      "source": [
        "# Multiplication\n",
        "print(5 * 3)\n",
        "print(isinstance(5 * 3, int))"
      ],
      "metadata": {
        "colab": {
          "base_uri": "https://localhost:8080/"
        },
        "id": "tyqkRRKsLFvP",
        "outputId": "45fd0db4-9ea2-45ac-81b8-385c3a96fd66"
      },
      "execution_count": 10,
      "outputs": [
        {
          "output_type": "stream",
          "name": "stdout",
          "text": [
            "15\n",
            "True\n"
          ]
        }
      ]
    },
    {
      "cell_type": "code",
      "source": [
        "# Division\n",
        "print(5 / 3)\n",
        "print(8 / 4)\n",
        "print(isinstance(5 / 3, float))\n",
        "print(isinstance(8 / 4, float))"
      ],
      "metadata": {
        "colab": {
          "base_uri": "https://localhost:8080/"
        },
        "id": "Ok9D_xAJLINX",
        "outputId": "4fbc36d5-4d51-4bf4-fb3e-e1aa2bf1db8f"
      },
      "execution_count": 11,
      "outputs": [
        {
          "output_type": "stream",
          "name": "stdout",
          "text": [
            "1.6666666666666667\n",
            "2.0\n",
            "True\n",
            "True\n"
          ]
        }
      ]
    },
    {
      "cell_type": "code",
      "source": [
        "# Modulus\n",
        "print(5 % 3)"
      ],
      "metadata": {
        "colab": {
          "base_uri": "https://localhost:8080/"
        },
        "id": "26HmBnKvLKoa",
        "outputId": "7a977b17-b383-4044-fcd0-c3bb23676d9f"
      },
      "execution_count": 12,
      "outputs": [
        {
          "output_type": "stream",
          "name": "stdout",
          "text": [
            "2\n"
          ]
        }
      ]
    },
    {
      "cell_type": "code",
      "source": [
        "# Exponentiation\n",
        "print(5 ** 3)\n",
        "print(2 ** 3)\n",
        "print(2 ** 4)\n",
        "print(2 ** 5)\n",
        "print(isinstance(5 ** 3, int))"
      ],
      "metadata": {
        "colab": {
          "base_uri": "https://localhost:8080/"
        },
        "id": "azzl921OLNgS",
        "outputId": "a41842d9-bd36-41de-a5d8-561fe7d31044"
      },
      "execution_count": 13,
      "outputs": [
        {
          "output_type": "stream",
          "name": "stdout",
          "text": [
            "125\n",
            "8\n",
            "16\n",
            "32\n",
            "True\n"
          ]
        }
      ]
    },
    {
      "cell_type": "code",
      "source": [
        "# Floor division\n",
        "print(5 // 3)\n",
        "print(6 // 3)\n",
        "print(7 // 3)\n",
        "print(9 // 3)\n",
        "print(isinstance(5 // 3, int))"
      ],
      "metadata": {
        "colab": {
          "base_uri": "https://localhost:8080/"
        },
        "id": "EJQljpq0LBG6",
        "outputId": "6ed6c2d7-5b4a-4252-8b9d-d21effbaa646"
      },
      "execution_count": 14,
      "outputs": [
        {
          "output_type": "stream",
          "name": "stdout",
          "text": [
            "1\n",
            "2\n",
            "2\n",
            "3\n",
            "True\n"
          ]
        }
      ]
    },
    {
      "cell_type": "markdown",
      "source": [
        "# Bitwise Operators: ♻️\n",
        "- AND (&): Sets each bit to 1 if both bits are 1.\n",
        "- OR (|): Sets each bit to 1 if one of the two bits is 1.\n",
        "- NOT (~): Inverts all the bits.\n",
        "- XOR (^): Sets each bit to 1 if only one of the two bits is 1.\n",
        "- Signed Right Shift (>>): Shifts bits to the right, filling with the sign bit.\n",
        "- **Left** Shift (<<): Shifts bits to the left, filling with zeros."
      ],
      "metadata": {
        "id": "UPrP5_9GJmb-"
      }
    },
    {
      "cell_type": "code",
      "source": [
        "# Bitwise operators in Python\n",
        "# AND\n",
        "# Sets each bit to 1 if both bits are 1.\n",
        "# Example: 5 = 0b0101, 3 = 0b0011\n",
        "print(5 & 3)"
      ],
      "metadata": {
        "colab": {
          "base_uri": "https://localhost:8080/"
        },
        "id": "cAYVGsuwKb3D",
        "outputId": "5edbb907-bb1c-4530-c0b6-c65fd4b559b2"
      },
      "execution_count": 15,
      "outputs": [
        {
          "output_type": "stream",
          "name": "stdout",
          "text": [
            "1\n"
          ]
        }
      ]
    },
    {
      "cell_type": "code",
      "source": [
        "# OR\n",
        "# Sets each bit to 1 if one of two bits is 1.\n",
        "# Example: 5 = 0b0101, 3 = 0b0011\n",
        "print(5 | 3)"
      ],
      "metadata": {
        "colab": {
          "base_uri": "https://localhost:8080/"
        },
        "id": "d5yC6AFvKhFa",
        "outputId": "b6266c61-b48f-4318-eb1e-4b0eed0a847b"
      },
      "execution_count": 16,
      "outputs": [
        {
          "output_type": "stream",
          "name": "stdout",
          "text": [
            "7\n"
          ]
        }
      ]
    },
    {
      "cell_type": "code",
      "source": [
        "# NOT\n",
        "# Inverts all the bits.\n",
        "print(~5)"
      ],
      "metadata": {
        "colab": {
          "base_uri": "https://localhost:8080/"
        },
        "id": "IHWtToLwKmaE",
        "outputId": "fa2d1821-e220-4182-ee67-4a9162c3f504"
      },
      "execution_count": 17,
      "outputs": [
        {
          "output_type": "stream",
          "name": "stdout",
          "text": [
            "-6\n"
          ]
        }
      ]
    },
    {
      "cell_type": "code",
      "source": [
        "# XOR\n",
        "# Sets each bit to 1 if only one of two bits is 1.\n",
        "# Example: 5 = 0b0101, 3 = 0b0011\n",
        "print(5 ^ 3)"
      ],
      "metadata": {
        "colab": {
          "base_uri": "https://localhost:8080/"
        },
        "id": "7wvF_F2aKpi7",
        "outputId": "aaded60d-b891-427b-d483-f8c09f25c349"
      },
      "execution_count": 18,
      "outputs": [
        {
          "output_type": "stream",
          "name": "stdout",
          "text": [
            "6\n"
          ]
        }
      ]
    },
    {
      "cell_type": "code",
      "source": [
        "# Signed right shift\n",
        "# Shift right by pushing copies of the leftmost bit in from the left, and let the rightmost bits fall off.\n",
        "# Example: 5 = 0b0101\n",
        "print(5 >> 1)\n",
        "print(5 >> 2)"
      ],
      "metadata": {
        "colab": {
          "base_uri": "https://localhost:8080/"
        },
        "id": "8Qvj0JTuKtzn",
        "outputId": "7c6ba44c-c285-4b13-efba-1f1fdeb88a2e"
      },
      "execution_count": 19,
      "outputs": [
        {
          "output_type": "stream",
          "name": "stdout",
          "text": [
            "2\n",
            "1\n"
          ]
        }
      ]
    },
    {
      "cell_type": "code",
      "source": [
        "# Zero fill left shift\n",
        "# Shift left by pushing zeros in from the right and let the leftmost bits fall off.\n",
        "# Example: 5 = 0b0101\n",
        "print(5 << 1)\n",
        "print(5 << 2)"
      ],
      "metadata": {
        "colab": {
          "base_uri": "https://localhost:8080/"
        },
        "id": "fjs3JCT_JQ5B",
        "outputId": "7aad0b37-716a-46d7-99fa-a1d408ca17e2"
      },
      "execution_count": 20,
      "outputs": [
        {
          "output_type": "stream",
          "name": "stdout",
          "text": [
            "10\n",
            "20\n"
          ]
        }
      ]
    },
    {
      "cell_type": "markdown",
      "source": [
        "# Assignment operators ❎\n",
        "- Assignment operators are used to assign values to variables"
      ],
      "metadata": {
        "id": "lEwjzS0_FFI5"
      }
    },
    {
      "cell_type": "code",
      "source": [
        "# Assignment: =\n",
        "number = 5\n",
        "print(number)"
      ],
      "metadata": {
        "colab": {
          "base_uri": "https://localhost:8080/"
        },
        "id": "hdpXQYXoOI2a",
        "outputId": "2e75b698-feb1-4e41-cf50-499f807630aa"
      },
      "execution_count": 21,
      "outputs": [
        {
          "output_type": "stream",
          "name": "stdout",
          "text": [
            "5\n"
          ]
        }
      ]
    },
    {
      "cell_type": "code",
      "source": [
        "# Multiple assignment\n",
        "# The variables first_variable and second_variable simultaneously get the new values 0 and 1.\n",
        "first_variable, second_variable = 0, 1\n",
        "print(first_variable)\n",
        "print(second_variable)"
      ],
      "metadata": {
        "colab": {
          "base_uri": "https://localhost:8080/"
        },
        "id": "GzkwkkmMOM5E",
        "outputId": "c99b2e69-9a89-4336-f5dc-9f42b300917f"
      },
      "execution_count": 22,
      "outputs": [
        {
          "output_type": "stream",
          "name": "stdout",
          "text": [
            "0\n",
            "1\n"
          ]
        }
      ]
    },
    {
      "cell_type": "code",
      "source": [
        "# Switching variable values using multiple assignment\n",
        "first_variable, second_variable = second_variable, first_variable\n",
        "print(first_variable)\n",
        "print(second_variable)"
      ],
      "metadata": {
        "colab": {
          "base_uri": "https://localhost:8080/"
        },
        "id": "9l-uNGWLOUKC",
        "outputId": "ac86f8f7-4f49-4848-93fd-74f5469e3e67"
      },
      "execution_count": 23,
      "outputs": [
        {
          "output_type": "stream",
          "name": "stdout",
          "text": [
            "1\n",
            "0\n"
          ]
        }
      ]
    },
    {
      "cell_type": "markdown",
      "source": [
        "- Augmented assignment operators\n"
      ],
      "metadata": {
        "id": "Jz-QTSYeFpVP"
      }
    },
    {
      "cell_type": "code",
      "source": [
        "# Assignment: +=\n",
        "number = 5\n",
        "number += 3\n",
        "print(number)"
      ],
      "metadata": {
        "colab": {
          "base_uri": "https://localhost:8080/"
        },
        "id": "ZZus2t-mOWcS",
        "outputId": "ef18755f-80e4-4208-b345-57fdb786ebce"
      },
      "execution_count": 24,
      "outputs": [
        {
          "output_type": "stream",
          "name": "stdout",
          "text": [
            "8\n"
          ]
        }
      ]
    },
    {
      "cell_type": "code",
      "source": [
        "# Assignment: -=\n",
        "number = 5\n",
        "number -= 3\n",
        "print(number)"
      ],
      "metadata": {
        "colab": {
          "base_uri": "https://localhost:8080/"
        },
        "id": "2DXXmJ-jOYxY",
        "outputId": "c53c8582-4d2d-4e08-a5ac-be36b5e7c33b"
      },
      "execution_count": 25,
      "outputs": [
        {
          "output_type": "stream",
          "name": "stdout",
          "text": [
            "2\n"
          ]
        }
      ]
    },
    {
      "cell_type": "code",
      "source": [
        "# Assignment: *=\n",
        "number = 5\n",
        "number *= 3\n",
        "print(number)"
      ],
      "metadata": {
        "colab": {
          "base_uri": "https://localhost:8080/"
        },
        "id": "QPKytELjOa4U",
        "outputId": "bc74260f-86ed-491b-b374-8721bec5f259"
      },
      "execution_count": 26,
      "outputs": [
        {
          "output_type": "stream",
          "name": "stdout",
          "text": [
            "15\n"
          ]
        }
      ]
    },
    {
      "cell_type": "code",
      "source": [
        "# Assignment: /=\n",
        "number = 8\n",
        "number /= 4\n",
        "print(number)"
      ],
      "metadata": {
        "colab": {
          "base_uri": "https://localhost:8080/"
        },
        "id": "Le8xsphYOdCw",
        "outputId": "48e87451-2f63-49b0-d389-7d6fb8493762"
      },
      "execution_count": 27,
      "outputs": [
        {
          "output_type": "stream",
          "name": "stdout",
          "text": [
            "2.0\n"
          ]
        }
      ]
    },
    {
      "cell_type": "code",
      "source": [
        "# Assignment: %=\n",
        "number = 8\n",
        "number %= 3\n",
        "print(number)\n",
        "\n",
        "number = 5\n",
        "number %= 3\n",
        "print(number)"
      ],
      "metadata": {
        "colab": {
          "base_uri": "https://localhost:8080/"
        },
        "id": "bHxXTJajOgJp",
        "outputId": "5ee7c3f4-8fb3-413f-9645-a17313bf89f6"
      },
      "execution_count": 28,
      "outputs": [
        {
          "output_type": "stream",
          "name": "stdout",
          "text": [
            "2\n",
            "2\n"
          ]
        }
      ]
    },
    {
      "cell_type": "code",
      "source": [
        "# Assignment: //=\n",
        "number = 5\n",
        "number //= 3\n",
        "print(number)"
      ],
      "metadata": {
        "colab": {
          "base_uri": "https://localhost:8080/"
        },
        "id": "HeSwTY7IOjKQ",
        "outputId": "ed649500-8ed0-45c3-de62-aef26c4dda08"
      },
      "execution_count": 29,
      "outputs": [
        {
          "output_type": "stream",
          "name": "stdout",
          "text": [
            "1\n"
          ]
        }
      ]
    },
    {
      "cell_type": "code",
      "source": [
        "# Assignment: **=\n",
        "number = 5\n",
        "number **= 3\n",
        "print(number)"
      ],
      "metadata": {
        "colab": {
          "base_uri": "https://localhost:8080/"
        },
        "id": "EoR1FkVTOl05",
        "outputId": "14fed353-e6df-4bd5-b0d6-be8d626410ca"
      },
      "execution_count": 30,
      "outputs": [
        {
          "output_type": "stream",
          "name": "stdout",
          "text": [
            "125\n"
          ]
        }
      ]
    },
    {
      "cell_type": "code",
      "source": [
        "# Assignment: &=\n",
        "number = 5  # 0b0101\n",
        "number &= 3  # 0b0011\n",
        "print(number)  # 0b0001"
      ],
      "metadata": {
        "colab": {
          "base_uri": "https://localhost:8080/"
        },
        "id": "T2gVnF-jOoPx",
        "outputId": "34029f59-36fe-4779-ba75-b61a5a6652da"
      },
      "execution_count": 31,
      "outputs": [
        {
          "output_type": "stream",
          "name": "stdout",
          "text": [
            "1\n"
          ]
        }
      ]
    },
    {
      "cell_type": "code",
      "source": [
        "# Assignment: |=\n",
        "number = 5  # 0b0101\n",
        "number |= 3  # 0b0011\n",
        "print(number)  # 0b0111"
      ],
      "metadata": {
        "colab": {
          "base_uri": "https://localhost:8080/"
        },
        "id": "gjAYuTp4OrCa",
        "outputId": "807bfd38-d51a-4895-cad6-c9ca5e8520fb"
      },
      "execution_count": 32,
      "outputs": [
        {
          "output_type": "stream",
          "name": "stdout",
          "text": [
            "7\n"
          ]
        }
      ]
    },
    {
      "cell_type": "code",
      "source": [
        "# Assignment: ^=\n",
        "number = 5  # 0b0101\n",
        "number ^= 3  # 0b0011\n",
        "print(number)  # 0b0110"
      ],
      "metadata": {
        "colab": {
          "base_uri": "https://localhost:8080/"
        },
        "id": "BWr4VGrmOuH7",
        "outputId": "20767673-ac99-45a1-c895-84ced5c4611b"
      },
      "execution_count": 33,
      "outputs": [
        {
          "output_type": "stream",
          "name": "stdout",
          "text": [
            "6\n"
          ]
        }
      ]
    },
    {
      "cell_type": "code",
      "source": [
        "# Assignment: >>=\n",
        "number = 5\n",
        "number >>= 3\n",
        "print(number)"
      ],
      "metadata": {
        "colab": {
          "base_uri": "https://localhost:8080/"
        },
        "id": "E6sLDTJcGVTX",
        "outputId": "ba9b2984-cbee-4305-850e-048fbad04d24"
      },
      "execution_count": 34,
      "outputs": [
        {
          "output_type": "stream",
          "name": "stdout",
          "text": [
            "0\n"
          ]
        }
      ]
    },
    {
      "cell_type": "code",
      "source": [
        "# Assignment: <<=\n",
        "number = 5\n",
        "number <<= 3\n",
        "print(number)"
      ],
      "metadata": {
        "colab": {
          "base_uri": "https://localhost:8080/"
        },
        "id": "29carZ5EGbVu",
        "outputId": "359b2c2f-f30e-42a3-9dfd-2e8fb0b3fd30"
      },
      "execution_count": 35,
      "outputs": [
        {
          "output_type": "stream",
          "name": "stdout",
          "text": [
            "40\n"
          ]
        }
      ]
    },
    {
      "cell_type": "markdown",
      "source": [
        "# comparison operators 📺\n",
        "- Comparison operators are used to compare two values\n"
      ],
      "metadata": {
        "id": "5SPHV7ruPt-H"
      }
    },
    {
      "cell_type": "code",
      "source": [
        "# Equal\n",
        "number = 5\n",
        "print(number == 5)"
      ],
      "metadata": {
        "colab": {
          "base_uri": "https://localhost:8080/"
        },
        "id": "2_ZsJycqO0bP",
        "outputId": "26484b3d-35e2-4050-8b02-0ecf762898b8"
      },
      "execution_count": 36,
      "outputs": [
        {
          "output_type": "stream",
          "name": "stdout",
          "text": [
            "True\n"
          ]
        }
      ]
    },
    {
      "cell_type": "code",
      "source": [
        "# Not equal\n",
        "number = 5\n",
        "print(number != 3)"
      ],
      "metadata": {
        "colab": {
          "base_uri": "https://localhost:8080/"
        },
        "id": "ljBqrarKQA6C",
        "outputId": "f469977a-0ecd-4007-e8a6-f910c5a10ddb"
      },
      "execution_count": 37,
      "outputs": [
        {
          "output_type": "stream",
          "name": "stdout",
          "text": [
            "True\n"
          ]
        }
      ]
    },
    {
      "cell_type": "code",
      "source": [
        "# Greater than\n",
        "number = 5\n",
        "print(number > 3)"
      ],
      "metadata": {
        "colab": {
          "base_uri": "https://localhost:8080/"
        },
        "id": "rq8GF9sZQEXb",
        "outputId": "a4ce0020-5748-4b65-8249-d1eda7bc6bf2"
      },
      "execution_count": 38,
      "outputs": [
        {
          "output_type": "stream",
          "name": "stdout",
          "text": [
            "True\n"
          ]
        }
      ]
    },
    {
      "cell_type": "code",
      "source": [
        "# Less than\n",
        "number = 5\n",
        "print(number < 8)"
      ],
      "metadata": {
        "colab": {
          "base_uri": "https://localhost:8080/"
        },
        "id": "vXUGvDYDQHFL",
        "outputId": "7b1fcaff-505f-44c7-e25e-3b6cbb81b4b9"
      },
      "execution_count": 39,
      "outputs": [
        {
          "output_type": "stream",
          "name": "stdout",
          "text": [
            "True\n"
          ]
        }
      ]
    },
    {
      "cell_type": "code",
      "source": [
        "# Greater than or equal to\n",
        "number = 5\n",
        "print(number >= 5)\n",
        "print(number >= 4)"
      ],
      "metadata": {
        "colab": {
          "base_uri": "https://localhost:8080/"
        },
        "id": "ABrMPVLDQJPu",
        "outputId": "b830f0d2-2983-4150-b4cd-84448f94c1f6"
      },
      "execution_count": 40,
      "outputs": [
        {
          "output_type": "stream",
          "name": "stdout",
          "text": [
            "True\n",
            "True\n"
          ]
        }
      ]
    },
    {
      "cell_type": "code",
      "source": [
        "# Less than or equal to\n",
        "number = 5\n",
        "print(number <= 5)\n",
        "print(number <= 6)"
      ],
      "metadata": {
        "colab": {
          "base_uri": "https://localhost:8080/"
        },
        "id": "odEJVBJ-QLD9",
        "outputId": "6a11d71a-2583-4d12-e686-b3cd3f5e562c"
      },
      "execution_count": 41,
      "outputs": [
        {
          "output_type": "stream",
          "name": "stdout",
          "text": [
            "True\n",
            "True\n"
          ]
        }
      ]
    },
    {
      "cell_type": "markdown",
      "source": [
        "# Logical operators ⌚\n",
        "- Logical operators are used to combine conditional statements\n",
        "- and\n",
        "- or\n",
        "- not"
      ],
      "metadata": {
        "id": "dDvghgVkQeWW"
      }
    },
    {
      "cell_type": "code",
      "source": [
        "# Let's work with these numbers to illustrate logic operators.\n",
        "first_number = 5\n",
        "second_number = 10"
      ],
      "metadata": {
        "id": "Xs9ppwIzQd-N"
      },
      "execution_count": 42,
      "outputs": []
    },
    {
      "cell_type": "code",
      "source": [
        "# and\n",
        "# Returns True if both statements are true\n",
        "print(first_number > 0 and second_number < 20)"
      ],
      "metadata": {
        "colab": {
          "base_uri": "https://localhost:8080/"
        },
        "id": "17xFvQs6QO1h",
        "outputId": "d9fc8800-a12b-4ea4-8ecb-dfa82d6bc892"
      },
      "execution_count": 43,
      "outputs": [
        {
          "output_type": "stream",
          "name": "stdout",
          "text": [
            "True\n"
          ]
        }
      ]
    },
    {
      "cell_type": "code",
      "source": [
        "# or\n",
        "# Returns True if one of the statements is true\n",
        "print(first_number > 5 or second_number < 20)"
      ],
      "metadata": {
        "colab": {
          "base_uri": "https://localhost:8080/"
        },
        "id": "iROiZIZQQq3U",
        "outputId": "a4b4b8a1-d890-4c76-a924-7a39202a34eb"
      },
      "execution_count": 44,
      "outputs": [
        {
          "output_type": "stream",
          "name": "stdout",
          "text": [
            "True\n"
          ]
        }
      ]
    },
    {
      "cell_type": "code",
      "source": [
        "# not\n",
        "# Reverse the result, returns False if the result is true\n",
        "print(not first_number == second_number)\n",
        "print(first_number != second_number)"
      ],
      "metadata": {
        "colab": {
          "base_uri": "https://localhost:8080/"
        },
        "id": "5cawhnh7Qu_8",
        "outputId": "3d2e63bd-77f0-443a-e571-2315738cd7e1"
      },
      "execution_count": 45,
      "outputs": [
        {
          "output_type": "stream",
          "name": "stdout",
          "text": [
            "True\n",
            "True\n"
          ]
        }
      ]
    },
    {
      "cell_type": "markdown",
      "source": [
        "# Identity operators 🦴\n",
        "- Identity operators are used to compare the objects, not if they are equal, but if they are actually\n",
        "the same object, with the same memory location"
      ],
      "metadata": {
        "id": "RAJ1dkx4RSr_"
      }
    },
    {
      "cell_type": "code",
      "source": [
        "# Identity operators\n",
        "\n",
        "# Lists for demonstration\n",
        "first_fruits_list = [\"apple\", \"banana\"]\n",
        "second_fruits_list = [\"apple\", \"banana\"]\n",
        "third_fruits_list = first_fruits_list"
      ],
      "metadata": {
        "id": "QpMLB4zgQ05K"
      },
      "execution_count": 46,
      "outputs": []
    },
    {
      "cell_type": "code",
      "source": [
        "# is\n",
        "# Returns true if both variables are the same object\n",
        "print(first_fruits_list is third_fruits_list)"
      ],
      "metadata": {
        "colab": {
          "base_uri": "https://localhost:8080/"
        },
        "id": "BRFXOPyBRRuJ",
        "outputId": "e3ef7ee6-fe07-40d4-b86d-bf3c2352895c"
      },
      "execution_count": 47,
      "outputs": [
        {
          "output_type": "stream",
          "name": "stdout",
          "text": [
            "True\n"
          ]
        }
      ]
    },
    {
      "cell_type": "code",
      "source": [
        "# is not\n",
        "# Returns true if both variables are not the same object\n",
        "print(first_fruits_list is not second_fruits_list)"
      ],
      "metadata": {
        "colab": {
          "base_uri": "https://localhost:8080/"
        },
        "id": "Mm01K-W5RYXZ",
        "outputId": "8bb1ab07-320a-4b34-aec6-de5eaa287367"
      },
      "execution_count": 48,
      "outputs": [
        {
          "output_type": "stream",
          "name": "stdout",
          "text": [
            "True\n"
          ]
        }
      ]
    },
    {
      "cell_type": "code",
      "source": [
        "# Demonstrating the difference between \"is\" and \"==\"\n",
        "# \"==\" checks for equality of content\n",
        "print(first_fruits_list == second_fruits_list)"
      ],
      "metadata": {
        "colab": {
          "base_uri": "https://localhost:8080/"
        },
        "id": "XIDR1QG2RarL",
        "outputId": "c25370ae-42ee-41fb-8dce-c0e813b63b13"
      },
      "execution_count": 49,
      "outputs": [
        {
          "output_type": "stream",
          "name": "stdout",
          "text": [
            "True\n"
          ]
        }
      ]
    },
    {
      "cell_type": "markdown",
      "source": [
        "# Membership operators 🍃\n",
        "- Membership operators are used to test if a sequence is present in an object"
      ],
      "metadata": {
        "id": "5wODSQBNR20U"
      }
    },
    {
      "cell_type": "code",
      "source": [
        "# Membership operators\n",
        "\n",
        "# Fruit list for demonstration\n",
        "fruit_list = [\"apple\", \"banana\"]"
      ],
      "metadata": {
        "id": "5lPXt9DtR2Z5"
      },
      "execution_count": 50,
      "outputs": []
    },
    {
      "cell_type": "code",
      "source": [
        "# in\n",
        "# Returns True if a sequence with the specified value is present in the object\n",
        "print(\"banana\" in fruit_list)"
      ],
      "metadata": {
        "colab": {
          "base_uri": "https://localhost:8080/"
        },
        "id": "ozivk2LFRdpS",
        "outputId": "76fc82c3-f5c3-42c3-ee0c-a187ba4a53df"
      },
      "execution_count": 51,
      "outputs": [
        {
          "output_type": "stream",
          "name": "stdout",
          "text": [
            "True\n"
          ]
        }
      ]
    },
    {
      "cell_type": "code",
      "source": [
        "# not in\n",
        "# Returns True if a sequence with the specified value is not present in the object\n",
        "print(\"pineapple\" not in fruit_list)"
      ],
      "metadata": {
        "colab": {
          "base_uri": "https://localhost:8080/"
        },
        "id": "bunRFW_PSExa",
        "outputId": "6b0e108c-67c3-4e8b-8478-f247811da64a"
      },
      "execution_count": 52,
      "outputs": [
        {
          "output_type": "stream",
          "name": "stdout",
          "text": [
            "True\n"
          ]
        }
      ]
    },
    {
      "cell_type": "markdown",
      "source": [
        "# Data Types in python 📚🎧☕"
      ],
      "metadata": {
        "id": "I0bfMABgju01"
      }
    },
    {
      "cell_type": "markdown",
      "source": [
        "Numbers.\n",
        "- There are three numeric types in Python:\n",
        "- int (e.g. 2, 4, 20)\n",
        "    - bool (e.g. False and True, acting like 0 and 1)\n",
        "- float (e.g. 5.0, 1.6)\n",
        "- complex (e.g. 5+6j, 4-3j)"
      ],
      "metadata": {
        "id": "WO6IuHCLI0BK"
      }
    },
    {
      "cell_type": "code",
      "source": [
        "# Integer type\n",
        "positive_integer = 1\n",
        "negative_integer = -3255522\n",
        "big_integer = 35656222554887711\n",
        "\n",
        "print(isinstance(positive_integer, int))\n",
        "print(isinstance(negative_integer, int))\n",
        "print(isinstance(big_integer, int))"
      ],
      "metadata": {
        "colab": {
          "base_uri": "https://localhost:8080/"
        },
        "id": "3C1GperhSHn6",
        "outputId": "51620b35-85b9-4d96-d435-e26ec057467b"
      },
      "execution_count": 53,
      "outputs": [
        {
          "output_type": "stream",
          "name": "stdout",
          "text": [
            "True\n",
            "True\n",
            "True\n"
          ]
        }
      ]
    },
    {
      "cell_type": "code",
      "source": [
        "# Boolean\n",
        "true_boolean = True\n",
        "false_boolean = False\n",
        "\n",
        "print(true_boolean)\n",
        "print(not false_boolean)\n",
        "\n",
        "print(isinstance(true_boolean, bool))\n",
        "print(isinstance(false_boolean, bool))"
      ],
      "metadata": {
        "colab": {
          "base_uri": "https://localhost:8080/"
        },
        "id": "lDZrSmsYkaCq",
        "outputId": "be02a801-508b-49c5-fdb2-c18bd1cf7491"
      },
      "execution_count": 54,
      "outputs": [
        {
          "output_type": "stream",
          "name": "stdout",
          "text": [
            "True\n",
            "True\n",
            "True\n",
            "True\n"
          ]
        }
      ]
    },
    {
      "cell_type": "code",
      "source": [
        "# Casting boolean to string.\n",
        "print(f\"String representation of True: {str(true_boolean)}\")\n",
        "print(f\"String representation of False: {str(false_boolean)}\")\n",
        "print(\"Boolean tests passed.\\n\")"
      ],
      "metadata": {
        "colab": {
          "base_uri": "https://localhost:8080/"
        },
        "id": "2TCIGzanknkW",
        "outputId": "894432cc-f156-4007-8ceb-37a26259ee23"
      },
      "execution_count": 55,
      "outputs": [
        {
          "output_type": "stream",
          "name": "stdout",
          "text": [
            "String representation of True: True\n",
            "String representation of False: False\n",
            "Boolean tests passed.\n",
            "\n"
          ]
        }
      ]
    },
    {
      "cell_type": "code",
      "source": [
        "# Casting boolean to string\n",
        "print(str(true_boolean))\n",
        "print(str(false_boolean))"
      ],
      "metadata": {
        "colab": {
          "base_uri": "https://localhost:8080/"
        },
        "id": "GC7T2N5QktlK",
        "outputId": "6106862b-9054-4a07-b76d-f4065444165c"
      },
      "execution_count": 56,
      "outputs": [
        {
          "output_type": "stream",
          "name": "stdout",
          "text": [
            "True\n",
            "False\n"
          ]
        }
      ]
    },
    {
      "cell_type": "code",
      "source": [
        "# Float type\n",
        "float_number = 7.0\n",
        "float_number_via_function = float(7)\n",
        "float_negative = -35.59\n",
        "\n",
        "print(float_number == float_number_via_function)\n",
        "print(isinstance(float_number, float))\n",
        "print(isinstance(float_number_via_function, float))\n",
        "print(isinstance(float_negative, float))"
      ],
      "metadata": {
        "colab": {
          "base_uri": "https://localhost:8080/"
        },
        "id": "6p0PIFZAkwLz",
        "outputId": "6d2aece4-dc9a-4f9a-bef9-c265fe2afc3c"
      },
      "execution_count": 57,
      "outputs": [
        {
          "output_type": "stream",
          "name": "stdout",
          "text": [
            "True\n",
            "True\n",
            "True\n",
            "True\n"
          ]
        }
      ]
    },
    {
      "cell_type": "code",
      "source": [
        "# Scientific notation with float\n",
        "float_with_small_e = 35e3\n",
        "float_with_big_e = 12E4\n",
        "\n",
        "print(float_with_small_e)\n",
        "print(float_with_big_e)\n",
        "print(isinstance(12E4, float))\n",
        "print(isinstance(-87.7e100, float))"
      ],
      "metadata": {
        "colab": {
          "base_uri": "https://localhost:8080/"
        },
        "id": "56whAizgk5FG",
        "outputId": "46661111-3b6c-4bff-8377-c98a94d55fd6"
      },
      "execution_count": 58,
      "outputs": [
        {
          "output_type": "stream",
          "name": "stdout",
          "text": [
            "35000.0\n",
            "120000.0\n",
            "True\n",
            "True\n"
          ]
        }
      ]
    },
    {
      "cell_type": "code",
      "source": [
        "# Complex type\n",
        "complex_number_1 = 5 + 6j\n",
        "complex_number_2 = 3 - 2j\n",
        "\n",
        "print(isinstance(complex_number_1, complex))\n",
        "print(isinstance(complex_number_2, complex))\n",
        "print(complex_number_1 * complex_number_2)"
      ],
      "metadata": {
        "colab": {
          "base_uri": "https://localhost:8080/"
        },
        "id": "6PDiPryxk87a",
        "outputId": "a65acdb7-54e3-40dc-ea11-c817349c1a90"
      },
      "execution_count": 59,
      "outputs": [
        {
          "output_type": "stream",
          "name": "stdout",
          "text": [
            "True\n",
            "True\n",
            "(27+8j)\n"
          ]
        }
      ]
    },
    {
      "cell_type": "code",
      "source": [
        "# Basic operations\n",
        "print(2 + 4)  # Addition\n",
        "print(2 * 4)  # Multiplication\n",
        "print(12 / 3)  # Division\n",
        "print(12 / 5)\n",
        "print(17 / 3)"
      ],
      "metadata": {
        "colab": {
          "base_uri": "https://localhost:8080/"
        },
        "id": "EVwe1y3CJXqX",
        "outputId": "991cf370-9aa2-44bf-99f2-f630adf6b1d2"
      },
      "execution_count": 60,
      "outputs": [
        {
          "output_type": "stream",
          "name": "stdout",
          "text": [
            "6\n",
            "8\n",
            "4.0\n",
            "2.4\n",
            "5.666666666666667\n"
          ]
        }
      ]
    },
    {
      "cell_type": "code",
      "source": [
        "# Modulo\n",
        "print(12 % 3)\n",
        "print(13 % 3)"
      ],
      "metadata": {
        "colab": {
          "base_uri": "https://localhost:8080/"
        },
        "id": "hzV9oqdvJawT",
        "outputId": "eca7db49-3c02-4a24-c78b-254ac7edba7c"
      },
      "execution_count": 61,
      "outputs": [
        {
          "output_type": "stream",
          "name": "stdout",
          "text": [
            "0\n",
            "1\n"
          ]
        }
      ]
    },
    {
      "cell_type": "code",
      "source": [
        "# Floor division\n",
        "print(17 // 3)"
      ],
      "metadata": {
        "colab": {
          "base_uri": "https://localhost:8080/"
        },
        "id": "IbZXsAUCJeRf",
        "outputId": "472643d0-1d34-4e32-c9d5-3d0b8ea09d69"
      },
      "execution_count": 62,
      "outputs": [
        {
          "output_type": "stream",
          "name": "stdout",
          "text": [
            "5\n"
          ]
        }
      ]
    },
    {
      "cell_type": "code",
      "source": [
        "# Exponentiation\n",
        "print(5 ** 2)\n",
        "print(2 ** 7)"
      ],
      "metadata": {
        "colab": {
          "base_uri": "https://localhost:8080/"
        },
        "id": "ZllJKfZqJgac",
        "outputId": "be96a44c-569b-456d-83a0-fb2d3ede7c69"
      },
      "execution_count": 63,
      "outputs": [
        {
          "output_type": "stream",
          "name": "stdout",
          "text": [
            "25\n",
            "128\n"
          ]
        }
      ]
    },
    {
      "cell_type": "code",
      "source": [
        "# Mixed type operation\n",
        "print(4 * 3.75 - 1)"
      ],
      "metadata": {
        "colab": {
          "base_uri": "https://localhost:8080/"
        },
        "id": "f6fXw9h7Jik1",
        "outputId": "9e0f5bad-7d7b-486f-def8-9a3d4ad44580"
      },
      "execution_count": 64,
      "outputs": [
        {
          "output_type": "stream",
          "name": "stdout",
          "text": [
            "14.0\n"
          ]
        }
      ]
    },
    {
      "cell_type": "markdown",
      "source": [
        "# Strings in python  ♡⃛📷\n",
        "- A string is a sequence of characters enclosed in either single (') or double (\") quotes. Python strings are immutable, meaning they cannot be modified after creation"
      ],
      "metadata": {
        "id": "WiSokH3RlQ7g"
      }
    },
    {
      "cell_type": "code",
      "source": [
        "# String type\n",
        "name_1 = \"rahul\"\n",
        "name_2 = 'chirra'\n",
        "print(name_1 == name_2)\n",
        "print(isinstance(name_1, str))\n",
        "print(isinstance(name_2, str))"
      ],
      "metadata": {
        "id": "COJyxYaJlA4y",
        "colab": {
          "base_uri": "https://localhost:8080/"
        },
        "outputId": "0e2fb0af-f38e-4b4d-d3c3-ae5896334fc3"
      },
      "execution_count": 65,
      "outputs": [
        {
          "output_type": "stream",
          "name": "stdout",
          "text": [
            "False\n",
            "True\n",
            "True\n"
          ]
        }
      ]
    },
    {
      "cell_type": "code",
      "source": [
        "# Escaping quotes\n",
        "single_quote_string = 'doesn\\'t'\n",
        "double_quote_string = \"doesn't\"\n",
        "print(single_quote_string == double_quote_string)"
      ],
      "metadata": {
        "id": "MF_tB-Fzm6eq",
        "colab": {
          "base_uri": "https://localhost:8080/"
        },
        "outputId": "30000c83-6654-4c99-8d14-f6976ffa2a87"
      },
      "execution_count": 66,
      "outputs": [
        {
          "output_type": "stream",
          "name": "stdout",
          "text": [
            "True\n"
          ]
        }
      ]
    },
    {
      "cell_type": "code",
      "source": [
        "# Newline character\n",
        "multiline_string = 'First line.\\nSecond line.'\n",
        "print(multiline_string)"
      ],
      "metadata": {
        "colab": {
          "base_uri": "https://localhost:8080/"
        },
        "id": "7euzTXD2pUiZ",
        "outputId": "44d6a4df-e888-42a0-b2c5-aac512d3c9d2"
      },
      "execution_count": 67,
      "outputs": [
        {
          "output_type": "stream",
          "name": "stdout",
          "text": [
            "First line.\n",
            "Second line.\n"
          ]
        }
      ]
    },
    {
      "cell_type": "code",
      "source": [
        "# Indexing\n",
        "word = 'Python'\n",
        "print(word[0])  # First character\n",
        "print(word[5])  # Fifth character\n",
        "print(word[-1])  # Last character\n",
        "print(word[-2])  # Second-last character\n",
        "print(word[-6])  # Sixth from the end\n",
        "print(isinstance(word[0], str))"
      ],
      "metadata": {
        "colab": {
          "base_uri": "https://localhost:8080/"
        },
        "id": "nOqsHcpZuhna",
        "outputId": "c4fd6c7f-4619-4c51-f037-ff27ef0d58d6"
      },
      "execution_count": 68,
      "outputs": [
        {
          "output_type": "stream",
          "name": "stdout",
          "text": [
            "P\n",
            "n\n",
            "n\n",
            "o\n",
            "P\n",
            "True\n"
          ]
        }
      ]
    },
    {
      "cell_type": "code",
      "source": [
        "# Slicing\n",
        "print(word[0:2])  # Characters from position 0 (included) to 2 (excluded)\n",
        "print(word[2:5])  # Characters from position 2 (included) to 5 (excluded)\n",
        "print(word[:2] + word[2:])\n",
        "print(word[:4] + word[4:])\n",
        "print(word[:2])  # Characters from the beginning to position 2 (excluded)\n",
        "print(word[4:])  # Characters from position 4 (included) to the end\n",
        "print(word[-2:])  # Characters from the second-last to the end"
      ],
      "metadata": {
        "colab": {
          "base_uri": "https://localhost:8080/"
        },
        "id": "albxqmSOuvmk",
        "outputId": "807b3ed6-b9e6-4e0e-e908-e828ff6a79bf"
      },
      "execution_count": 69,
      "outputs": [
        {
          "output_type": "stream",
          "name": "stdout",
          "text": [
            "Py\n",
            "tho\n",
            "Python\n",
            "Python\n",
            "Py\n",
            "on\n",
            "on\n"
          ]
        }
      ]
    },
    {
      "cell_type": "code",
      "source": [
        "# Out of range slice indexes\n",
        "print(word[4:42])\n",
        "print(word[42:])"
      ],
      "metadata": {
        "colab": {
          "base_uri": "https://localhost:8080/"
        },
        "id": "AjeufxF6u50-",
        "outputId": "442c4785-2ee2-4a7e-a627-eeb31f35ad28"
      },
      "execution_count": 70,
      "outputs": [
        {
          "output_type": "stream",
          "name": "stdout",
          "text": [
            "on\n",
            "\n"
          ]
        }
      ]
    },
    {
      "cell_type": "code",
      "source": [
        "# Immutability\n",
        "print('J' + word[1:])\n",
        "print(word[:2] + 'py')"
      ],
      "metadata": {
        "colab": {
          "base_uri": "https://localhost:8080/"
        },
        "id": "4TEFBeonvA7G",
        "outputId": "053d51b6-0a35-4693-9a9a-701f90252203"
      },
      "execution_count": 71,
      "outputs": [
        {
          "output_type": "stream",
          "name": "stdout",
          "text": [
            "Jython\n",
            "Pypy\n"
          ]
        }
      ]
    },
    {
      "cell_type": "code",
      "source": [
        "# Length\n",
        "characters = 'supercalifragilisticexpialidocious'\n",
        "print(len(characters))"
      ],
      "metadata": {
        "colab": {
          "base_uri": "https://localhost:8080/"
        },
        "id": "TfAkSKd2zvKh",
        "outputId": "d26a79a4-b234-4321-a845-d63323e59a16"
      },
      "execution_count": 72,
      "outputs": [
        {
          "output_type": "stream",
          "name": "stdout",
          "text": [
            "34\n"
          ]
        }
      ]
    },
    {
      "source": [
        "# Multiline strings\n",
        "multi_line_string = '''\\\n",
        "        First line\n",
        "        Second line\n",
        "    '''\n",
        "print(multi_line_string)"
      ],
      "cell_type": "code",
      "metadata": {
        "colab": {
          "base_uri": "https://localhost:8080/"
        },
        "id": "6TW3VTLjz9Hw",
        "outputId": "83cf38e7-8737-4308-dfaf-19bc4258b3d2"
      },
      "execution_count": 73,
      "outputs": [
        {
          "output_type": "stream",
          "name": "stdout",
          "text": [
            "        First line\n",
            "        Second line\n",
            "    \n"
          ]
        }
      ]
    },
    {
      "cell_type": "code",
      "source": [
        "# String operators\n",
        "print(3 * 'un' + 'ium')\n",
        "python = 'Py' 'thon'\n",
        "print(python)\n",
        "text = (\n",
        "    'Put several strings within parentheses '\n",
        "    'to have them joined together.'\n",
        ")\n",
        "print(text)\n",
        "prefix = 'Py'\n",
        "print(prefix + 'thon')"
      ],
      "metadata": {
        "colab": {
          "base_uri": "https://localhost:8080/"
        },
        "id": "oZBbKJYmvHa2",
        "outputId": "63e55698-222c-4f18-d67d-88da72e20211"
      },
      "execution_count": 74,
      "outputs": [
        {
          "output_type": "stream",
          "name": "stdout",
          "text": [
            "unununium\n",
            "Python\n",
            "Put several strings within parentheses to have them joined together.\n",
            "Python\n"
          ]
        }
      ]
    },
    {
      "cell_type": "code",
      "source": [
        "# String methods\n",
        "hello_world_string = \"Hello, World!\"\n",
        "string_with_whitespaces = \" Hello, World! \"\n",
        "print(string_with_whitespaces.strip())\n",
        "print(len(hello_world_string))\n",
        "print(hello_world_string.lower())\n",
        "print(hello_world_string.upper())\n",
        "print(hello_world_string.replace('H', 'J'))\n",
        "print(hello_world_string.split(','))"
      ],
      "metadata": {
        "colab": {
          "base_uri": "https://localhost:8080/"
        },
        "id": "ubu1k89ovoMP",
        "outputId": "ed265ac6-50a2-4ad5-9458-b4835f52ecb1"
      },
      "execution_count": 75,
      "outputs": [
        {
          "output_type": "stream",
          "name": "stdout",
          "text": [
            "Hello, World!\n",
            "13\n",
            "hello, world!\n",
            "HELLO, WORLD!\n",
            "Jello, World!\n",
            "['Hello', ' World!']\n"
          ]
        }
      ]
    },
    {
      "cell_type": "code",
      "source": [
        "print('low letter at the beginning'.capitalize())\n",
        "print('low letter at the beginning'.count('t'))\n",
        "print('Hello, welcome to my world'.find('welcome'))\n",
        "print('Welcome to my world'.title())\n",
        "print('I like bananas'.replace('bananas', 'apples'))"
      ],
      "metadata": {
        "colab": {
          "base_uri": "https://localhost:8080/"
        },
        "id": "Ei2nV-08LH_t",
        "outputId": "9131aa47-2ba6-4a47-ffc2-8f82f7167996"
      },
      "execution_count": 76,
      "outputs": [
        {
          "output_type": "stream",
          "name": "stdout",
          "text": [
            "Low letter at the beginning\n",
            "4\n",
            "7\n",
            "Welcome To My World\n",
            "I like apples\n"
          ]
        }
      ]
    },
    {
      "cell_type": "code",
      "source": [
        "my_tuple = ('John', 'Peter', 'Vicky')\n",
        "print(', '.join(my_tuple))"
      ],
      "metadata": {
        "colab": {
          "base_uri": "https://localhost:8080/"
        },
        "id": "eBP5Yb18LLFx",
        "outputId": "f975bb58-117e-44c2-8c37-c9e022fdb9db"
      },
      "execution_count": 77,
      "outputs": [
        {
          "output_type": "stream",
          "name": "stdout",
          "text": [
            "John, Peter, Vicky\n"
          ]
        }
      ]
    },
    {
      "cell_type": "code",
      "source": [
        "print('ABC'.isupper())\n",
        "print('AbC'.isupper())\n",
        "print('CompanyX'.isalpha())\n",
        "print('Company 23'.isalpha())\n",
        "print('1234'.isdecimal())\n",
        "print('a21453'.isdecimal())"
      ],
      "metadata": {
        "colab": {
          "base_uri": "https://localhost:8080/"
        },
        "id": "uw0Lxl2kMWoC",
        "outputId": "0b44684e-948e-4534-fa08-0fe85f6bdfe1"
      },
      "execution_count": 78,
      "outputs": [
        {
          "output_type": "stream",
          "name": "stdout",
          "text": [
            "True\n",
            "False\n",
            "True\n",
            "False\n",
            "True\n",
            "False\n"
          ]
        }
      ]
    },
    {
      "cell_type": "code",
      "source": [
        "# String formatting\n",
        "year = 2018\n",
        "event = 'conference'\n",
        "print(f'Results of the {year} {event}')"
      ],
      "metadata": {
        "colab": {
          "base_uri": "https://localhost:8080/"
        },
        "id": "pSMzOaQ_yJXB",
        "outputId": "4b527da8-469f-4b31-a997-142e87318467"
      },
      "execution_count": 79,
      "outputs": [
        {
          "output_type": "stream",
          "name": "stdout",
          "text": [
            "Results of the 2018 conference\n"
          ]
        }
      ]
    },
    {
      "cell_type": "code",
      "source": [
        "yes_votes = 42_572_654\n",
        "no_votes = 43_132_495\n",
        "percentage = yes_votes / (yes_votes + no_votes)\n",
        "print('{:-9} YES votes  {:2.2%}'.format(yes_votes, percentage))"
      ],
      "metadata": {
        "colab": {
          "base_uri": "https://localhost:8080/"
        },
        "id": "l5-bUVFaLT7v",
        "outputId": "8d83612c-83f3-4c95-ff6f-09d84c24eb29"
      },
      "execution_count": 80,
      "outputs": [
        {
          "output_type": "stream",
          "name": "stdout",
          "text": [
            " 42572654 YES votes  49.67%\n"
          ]
        }
      ]
    },
    {
      "cell_type": "code",
      "source": [
        "greeting = 'Hello, world.'\n",
        "first_num = 10 * 3.25\n",
        "second_num = 200 * 200\n",
        "print(str(greeting))\n",
        "print(repr(greeting))\n",
        "print(str(1/7))\n",
        "print(repr((first_num, second_num, ('spam', 'eggs'))))"
      ],
      "metadata": {
        "colab": {
          "base_uri": "https://localhost:8080/"
        },
        "id": "5W1wUFj9LYDF",
        "outputId": "b7751e75-554d-4a3e-d2e7-cfa691bb4d8b"
      },
      "execution_count": 81,
      "outputs": [
        {
          "output_type": "stream",
          "name": "stdout",
          "text": [
            "Hello, world.\n",
            "'Hello, world.'\n",
            "0.14285714285714285\n",
            "(32.5, 40000, ('spam', 'eggs'))\n"
          ]
        }
      ]
    },
    {
      "cell_type": "code",
      "source": [
        "pi_value = 3.14159\n",
        "print(f'The value of pi is {pi_value:.3f}.')"
      ],
      "metadata": {
        "colab": {
          "base_uri": "https://localhost:8080/"
        },
        "id": "MZ3w59r2Leun",
        "outputId": "19a17875-f91c-4b5c-d5d7-c82dab27373f"
      },
      "execution_count": 82,
      "outputs": [
        {
          "output_type": "stream",
          "name": "stdout",
          "text": [
            "The value of pi is 3.142.\n"
          ]
        }
      ]
    },
    {
      "cell_type": "code",
      "source": [
        "table_data = {'Sjoerd': 4127, 'Jack': 4098, 'Dcab': 7678}\n",
        "for name, phone in table_data.items():\n",
        "    print(f'{name:7}==>{phone:7d}')\n",
        "\n",
        "print('We are {} who say \"{}!\"'.format('knights', 'Ni'))\n",
        "print('{0} and {1}'.format('spam', 'eggs'))\n",
        "print('{1} and {0}'.format('spam', 'eggs'))"
      ],
      "metadata": {
        "colab": {
          "base_uri": "https://localhost:8080/"
        },
        "id": "x-zKD0q5LsL_",
        "outputId": "10285de1-5f2e-4ad8-f24a-6288287d66a3"
      },
      "execution_count": 83,
      "outputs": [
        {
          "output_type": "stream",
          "name": "stdout",
          "text": [
            "Sjoerd ==>   4127\n",
            "Jack   ==>   4098\n",
            "Dcab   ==>   7678\n",
            "We are knights who say \"Ni!\"\n",
            "spam and eggs\n",
            "eggs and spam\n"
          ]
        }
      ]
    },
    {
      "cell_type": "code",
      "source": [
        "formatted_string = 'This {food} is {adjective}.'.format(\n",
        "    food='spam',\n",
        "    adjective='absolutely horrible'\n",
        ")\n",
        "print(formatted_string)"
      ],
      "metadata": {
        "colab": {
          "base_uri": "https://localhost:8080/"
        },
        "id": "x9sqDuyJLyxj",
        "outputId": "d7f61d23-6341-42ef-8618-455e7cd85ac6"
      },
      "execution_count": 84,
      "outputs": [
        {
          "output_type": "stream",
          "name": "stdout",
          "text": [
            "This spam is absolutely horrible.\n"
          ]
        }
      ]
    },
    {
      "cell_type": "code",
      "source": [
        "formatted_string = 'The story of {0}, {1}, and {other}.'.format(\n",
        "    'Bill',\n",
        "    'Manfred',\n",
        "    other='Georg'\n",
        ")\n",
        "print(formatted_string)"
      ],
      "metadata": {
        "colab": {
          "base_uri": "https://localhost:8080/"
        },
        "id": "ry_tKxreL2g3",
        "outputId": "738aed35-ec48-4b9f-9e26-4a2e86977842"
      },
      "execution_count": 85,
      "outputs": [
        {
          "output_type": "stream",
          "name": "stdout",
          "text": [
            "The story of Bill, Manfred, and Georg.\n"
          ]
        }
      ]
    },
    {
      "cell_type": "code",
      "source": [
        "table = {'Sjoerd': 4127, 'Jack': 4098, 'Dcab': 8637678}\n",
        "formatted_string = 'Jack: {0[Jack]:d}; Sjoerd: {0[Sjoerd]:d}; Dcab: {0[Dcab]:d}'.format(table)\n",
        "print(formatted_string)"
      ],
      "metadata": {
        "colab": {
          "base_uri": "https://localhost:8080/"
        },
        "id": "3wlCaw8ZL4hZ",
        "outputId": "2c1c2693-d66f-4c8b-abda-f5813f376eb3"
      },
      "execution_count": 86,
      "outputs": [
        {
          "output_type": "stream",
          "name": "stdout",
          "text": [
            "Jack: 4098; Sjoerd: 4127; Dcab: 8637678\n"
          ]
        }
      ]
    },
    {
      "cell_type": "code",
      "source": [
        "formatted_string = 'Jack: {Jack:d}; Sjoerd: {Sjoerd:d}; Dcab: {Dcab:d}'.format(**table)\n",
        "print(formatted_string)"
      ],
      "metadata": {
        "colab": {
          "base_uri": "https://localhost:8080/"
        },
        "id": "qApqx0vvL8rd",
        "outputId": "7f4107ee-79d2-4b74-ee6c-0b8f7f86cb76"
      },
      "execution_count": 87,
      "outputs": [
        {
          "output_type": "stream",
          "name": "stdout",
          "text": [
            "Jack: 4098; Sjoerd: 4127; Dcab: 8637678\n"
          ]
        }
      ]
    },
    {
      "cell_type": "markdown",
      "source": [
        "# List in Python  🐬\n",
        "- A list in Python is a versatile and widely used data structure that stores a collection of items. These items can be of any data type (e.g., integers, strings, floats, or even other lists"
      ],
      "metadata": {
        "id": "I031qv_A3UWd"
      }
    },
    {
      "cell_type": "code",
      "source": [
        "# List type\n",
        "squares = [1, 4, 9, 16, 25]\n",
        "print(isinstance(squares, list))"
      ],
      "metadata": {
        "colab": {
          "base_uri": "https://localhost:8080/"
        },
        "id": "-wLFUMTvzVlt",
        "outputId": "1f5a8d73-b47e-44d8-f847-7bb11527543e"
      },
      "execution_count": 88,
      "outputs": [
        {
          "output_type": "stream",
          "name": "stdout",
          "text": [
            "True\n"
          ]
        }
      ]
    },
    {
      "cell_type": "code",
      "source": [
        "print(squares[0])  # Indexing returns the item\n",
        "print(squares[-1])\n",
        "print(squares[-3:])  # Slicing returns a new list\n",
        "print(squares[:])\n",
        "print(squares + [36, 49, 64, 81, 100])"
      ],
      "metadata": {
        "colab": {
          "base_uri": "https://localhost:8080/"
        },
        "id": "1PXNMo7INQZa",
        "outputId": "d26c9c6b-d9ac-410e-b3f4-aacc88be3dd2"
      },
      "execution_count": 89,
      "outputs": [
        {
          "output_type": "stream",
          "name": "stdout",
          "text": [
            "1\n",
            "25\n",
            "[9, 16, 25]\n",
            "[1, 4, 9, 16, 25]\n",
            "[1, 4, 9, 16, 25, 36, 49, 64, 81, 100]\n"
          ]
        }
      ]
    },
    {
      "cell_type": "code",
      "source": [
        "# Lists are mutable\n",
        "cubes = [1, 8, 27, 65, 125]\n",
        "cubes[3] = 64  # Replace the wrong value\n",
        "print(cubes)\n",
        "cubes.append(216)\n",
        "cubes.append(7 ** 3)\n",
        "print(cubes)"
      ],
      "metadata": {
        "colab": {
          "base_uri": "https://localhost:8080/"
        },
        "id": "f3ohveHCNSQ8",
        "outputId": "bf92b19e-f39e-47ef-ff7e-4edbabbb918a"
      },
      "execution_count": 90,
      "outputs": [
        {
          "output_type": "stream",
          "name": "stdout",
          "text": [
            "[1, 8, 27, 64, 125]\n",
            "[1, 8, 27, 64, 125, 216, 343]\n"
          ]
        }
      ]
    },
    {
      "cell_type": "code",
      "source": [
        "# Assignment to slices\n",
        "letters = ['a', 'b', 'c', 'd', 'e', 'f', 'g']\n",
        "letters[2:5] = ['C', 'D', 'E']\n",
        "print(letters)\n",
        "letters[2:5] = []\n",
        "print(letters)\n",
        "letters[:] = []\n",
        "print(letters)"
      ],
      "metadata": {
        "colab": {
          "base_uri": "https://localhost:8080/"
        },
        "id": "ECsnYF86NZVR",
        "outputId": "a802a3e3-34a3-4b79-dda0-464ed9e0a11d"
      },
      "execution_count": 91,
      "outputs": [
        {
          "output_type": "stream",
          "name": "stdout",
          "text": [
            "['a', 'b', 'C', 'D', 'E', 'f', 'g']\n",
            "['a', 'b', 'f', 'g']\n",
            "[]\n"
          ]
        }
      ]
    },
    {
      "cell_type": "code",
      "source": [
        "# Built-in length function\n",
        "letters = ['a', 'b', 'c', 'd']\n",
        "print(len(letters))"
      ],
      "metadata": {
        "colab": {
          "base_uri": "https://localhost:8080/"
        },
        "id": "t04Bop88NZRS",
        "outputId": "eaa85d8a-0196-469d-cc43-505c809e45bc"
      },
      "execution_count": 92,
      "outputs": [
        {
          "output_type": "stream",
          "name": "stdout",
          "text": [
            "4\n"
          ]
        }
      ]
    },
    {
      "cell_type": "code",
      "source": [
        "# Nested lists\n",
        "list_of_chars = ['a', 'b', 'c']\n",
        "list_of_numbers = [1, 2, 3]\n",
        "mixed_list = [list_of_chars, list_of_numbers]\n",
        "print(mixed_list)\n",
        "print(mixed_list[0])\n",
        "print(mixed_list[0][1])"
      ],
      "metadata": {
        "colab": {
          "base_uri": "https://localhost:8080/"
        },
        "id": "yoR2GOdUNf4W",
        "outputId": "a1f6c656-94a3-43ee-c30c-7c406be8541b"
      },
      "execution_count": 93,
      "outputs": [
        {
          "output_type": "stream",
          "name": "stdout",
          "text": [
            "[['a', 'b', 'c'], [1, 2, 3]]\n",
            "['a', 'b', 'c']\n",
            "b\n"
          ]
        }
      ]
    },
    {
      "cell_type": "code",
      "source": [
        "# List methods\n",
        "fruits = ['orange', 'apple', 'pear', 'banana', 'kiwi', 'apple', 'banana']\n",
        "fruits.append('grape')\n",
        "print(fruits)\n",
        "fruits.remove('grape')\n",
        "print(fruits)"
      ],
      "metadata": {
        "colab": {
          "base_uri": "https://localhost:8080/"
        },
        "id": "l7BXTQMcNitG",
        "outputId": "5ff9a04a-69bf-40a1-e374-ba8f12e227e8"
      },
      "execution_count": 94,
      "outputs": [
        {
          "output_type": "stream",
          "name": "stdout",
          "text": [
            "['orange', 'apple', 'pear', 'banana', 'kiwi', 'apple', 'banana', 'grape']\n",
            "['orange', 'apple', 'pear', 'banana', 'kiwi', 'apple', 'banana']\n"
          ]
        }
      ]
    },
    {
      "cell_type": "code",
      "source": [
        "fruits.insert(0, 'grape')\n",
        "print(fruits)\n",
        "print(fruits.index('grape'))\n",
        "print(fruits.index('orange'))\n",
        "print(fruits.index('banana'))\n",
        "print(fruits.index('banana', 5))\n",
        "print(fruits.count('tangerine'))\n",
        "print(fruits.count('banana'))"
      ],
      "metadata": {
        "colab": {
          "base_uri": "https://localhost:8080/"
        },
        "id": "WP7s5-gYNp1b",
        "outputId": "9726ee25-c95b-4ad6-db56-62a6e893ea38"
      },
      "execution_count": 95,
      "outputs": [
        {
          "output_type": "stream",
          "name": "stdout",
          "text": [
            "['grape', 'orange', 'apple', 'pear', 'banana', 'kiwi', 'apple', 'banana']\n",
            "0\n",
            "1\n",
            "4\n",
            "7\n",
            "0\n",
            "2\n"
          ]
        }
      ]
    },
    {
      "cell_type": "code",
      "source": [
        "fruits_copy = fruits.copy()\n",
        "print(fruits_copy)\n",
        "fruits_copy.reverse()\n",
        "print(fruits_copy)\n",
        "fruits_copy.sort()\n",
        "print(fruits_copy)\n",
        "print(fruits.pop())\n",
        "print(fruits)\n",
        "fruits.clear()\n",
        "print(fruits)"
      ],
      "metadata": {
        "colab": {
          "base_uri": "https://localhost:8080/"
        },
        "id": "dZze2QCPNfsA",
        "outputId": "980314a7-82af-4274-8e0b-0618eda0a99a"
      },
      "execution_count": 96,
      "outputs": [
        {
          "output_type": "stream",
          "name": "stdout",
          "text": [
            "['grape', 'orange', 'apple', 'pear', 'banana', 'kiwi', 'apple', 'banana']\n",
            "['banana', 'apple', 'kiwi', 'banana', 'pear', 'apple', 'orange', 'grape']\n",
            "['apple', 'apple', 'banana', 'banana', 'grape', 'kiwi', 'orange', 'pear']\n",
            "banana\n",
            "['grape', 'orange', 'apple', 'pear', 'banana', 'kiwi', 'apple']\n",
            "[]\n"
          ]
        }
      ]
    },
    {
      "cell_type": "code",
      "source": [
        "# Del statement\n",
        "numbers = [-1, 1, 66.25, 333, 333, 1234.5]\n",
        "del numbers[0]\n",
        "print(numbers)\n",
        "del numbers[2:4]\n",
        "print(numbers)\n",
        "del numbers[:]\n",
        "print(numbers)"
      ],
      "metadata": {
        "colab": {
          "base_uri": "https://localhost:8080/"
        },
        "id": "TOMrnssMNyTC",
        "outputId": "d6aa63d1-e3c8-4665-d113-a34c982ff14e"
      },
      "execution_count": 97,
      "outputs": [
        {
          "output_type": "stream",
          "name": "stdout",
          "text": [
            "[1, 66.25, 333, 333, 1234.5]\n",
            "[1, 66.25, 1234.5]\n",
            "[]\n"
          ]
        }
      ]
    },
    {
      "cell_type": "code",
      "source": [
        "# List comprehensions\n",
        "squares = [x ** 2 for x in range(10)]\n",
        "print(squares)"
      ],
      "metadata": {
        "colab": {
          "base_uri": "https://localhost:8080/"
        },
        "id": "d1f39-hINyIY",
        "outputId": "b1b968c0-5a04-4a5e-b3ce-39253f3be82e"
      },
      "execution_count": 98,
      "outputs": [
        {
          "output_type": "stream",
          "name": "stdout",
          "text": [
            "[0, 1, 4, 9, 16, 25, 36, 49, 64, 81]\n"
          ]
        }
      ]
    },
    {
      "cell_type": "code",
      "source": [
        "combinations = [(x, y) for x in [1, 2, 3] for y in [3, 1, 4] if x != y]\n",
        "print(combinations)"
      ],
      "metadata": {
        "colab": {
          "base_uri": "https://localhost:8080/"
        },
        "id": "mtfzPhi7NyCJ",
        "outputId": "e58de5af-b41b-4b3a-db7f-f9af8abcc32d"
      },
      "execution_count": 99,
      "outputs": [
        {
          "output_type": "stream",
          "name": "stdout",
          "text": [
            "[(1, 3), (1, 4), (2, 3), (2, 1), (2, 4), (3, 1), (3, 4)]\n"
          ]
        }
      ]
    },
    {
      "cell_type": "code",
      "source": [
        "vector = [-4, -2, 0, 2, 4]\n",
        "print([x * 2 for x in vector])\n",
        "print([x for x in vector if x >= 0])\n",
        "print([abs(x) for x in vector])"
      ],
      "metadata": {
        "colab": {
          "base_uri": "https://localhost:8080/"
        },
        "id": "ykCXGs4yNxoe",
        "outputId": "7f4dc0a4-2e4f-43f3-a58d-5f65277f7daf"
      },
      "execution_count": 100,
      "outputs": [
        {
          "output_type": "stream",
          "name": "stdout",
          "text": [
            "[-8, -4, 0, 4, 8]\n",
            "[0, 2, 4]\n",
            "[4, 2, 0, 2, 4]\n"
          ]
        }
      ]
    },
    {
      "cell_type": "code",
      "source": [
        "fresh_fruit = ['  banana', '  loganberry ', 'passion fruit  ']\n",
        "print([fruit.strip() for fruit in fresh_fruit])\n",
        "print([(x, x ** 2) for x in range(6)])\n",
        "vector = [[1, 2, 3], [4, 5, 6], [7, 8, 9]]\n",
        "print([num for elem in vector for num in elem])"
      ],
      "metadata": {
        "colab": {
          "base_uri": "https://localhost:8080/"
        },
        "id": "_97umu0LOOIn",
        "outputId": "5a37b14f-095a-4d1d-f8c8-eeeb6f2b128c"
      },
      "execution_count": 101,
      "outputs": [
        {
          "output_type": "stream",
          "name": "stdout",
          "text": [
            "['banana', 'loganberry', 'passion fruit']\n",
            "[(0, 0), (1, 1), (2, 4), (3, 9), (4, 16), (5, 25)]\n",
            "[1, 2, 3, 4, 5, 6, 7, 8, 9]\n"
          ]
        }
      ]
    },
    {
      "cell_type": "code",
      "source": [
        "# Nested list comprehensions\n",
        "matrix = [\n",
        "    [1, 2, 3, 4],\n",
        "    [5, 6, 7, 8],\n",
        "    [9, 10, 11, 12],\n",
        "]\n",
        "transposed_matrix = [[row[i] for row in matrix] for i in range(4)]\n",
        "print(transposed_matrix)"
      ],
      "metadata": {
        "colab": {
          "base_uri": "https://localhost:8080/"
        },
        "id": "1tpIGG-IOOD4",
        "outputId": "09b7064b-a516-4cb6-d60d-bc528f2888ee"
      },
      "execution_count": 102,
      "outputs": [
        {
          "output_type": "stream",
          "name": "stdout",
          "text": [
            "[[1, 5, 9], [2, 6, 10], [3, 7, 11], [4, 8, 12]]\n"
          ]
        }
      ]
    },
    {
      "cell_type": "code",
      "source": [
        "print(list(zip(*matrix)))"
      ],
      "metadata": {
        "colab": {
          "base_uri": "https://localhost:8080/"
        },
        "id": "kcG9x2E_OOBa",
        "outputId": "711d369f-34d8-461a-8f85-0f3aa1b1fde1"
      },
      "execution_count": 103,
      "outputs": [
        {
          "output_type": "stream",
          "name": "stdout",
          "text": [
            "[(1, 5, 9), (2, 6, 10), (3, 7, 11), (4, 8, 12)]\n"
          ]
        }
      ]
    },
    {
      "cell_type": "markdown",
      "source": [
        "# Tuples in Python 🔗"
      ],
      "metadata": {
        "id": "Jo1Mn4e15PxT"
      }
    },
    {
      "cell_type": "code",
      "source": [
        "# Basic tuple\n",
        "fruits_tuple = (\"apple\", \"banana\", \"cherry\")\n",
        "print(isinstance(fruits_tuple, tuple))\n",
        "print(fruits_tuple[0])\n",
        "print(fruits_tuple[1])\n",
        "print(fruits_tuple[2])"
      ],
      "metadata": {
        "colab": {
          "base_uri": "https://localhost:8080/"
        },
        "id": "WS_RM00O4wDg",
        "outputId": "0d6f7620-9b99-4112-850a-744c08d3edf3"
      },
      "execution_count": 104,
      "outputs": [
        {
          "output_type": "stream",
          "name": "stdout",
          "text": [
            "True\n",
            "apple\n",
            "banana\n",
            "cherry\n"
          ]
        }
      ]
    },
    {
      "cell_type": "code",
      "source": [
        "# You cannot change values in a tuple\n",
        "try:\n",
        "    fruits_tuple[0] = \"pineapple\"\n",
        "except TypeError as e:\n",
        "    print(f\"Error: {e}\")"
      ],
      "metadata": {
        "colab": {
          "base_uri": "https://localhost:8080/"
        },
        "id": "I8Jhwr5t5T_x",
        "outputId": "83d2a7f9-49dc-4650-a693-79e37d175d9f"
      },
      "execution_count": 105,
      "outputs": [
        {
          "output_type": "stream",
          "name": "stdout",
          "text": [
            "Error: 'tuple' object does not support item assignment\n"
          ]
        }
      ]
    },
    {
      "cell_type": "code",
      "source": [
        "# Using the tuple() constructor\n",
        "fruits_tuple_via_constructor = tuple((\"apple\", \"banana\", \"cherry\"))\n",
        "print(isinstance(fruits_tuple_via_constructor, tuple))\n",
        "print(len(fruits_tuple_via_constructor))"
      ],
      "metadata": {
        "colab": {
          "base_uri": "https://localhost:8080/"
        },
        "id": "JellCFsn5Ykl",
        "outputId": "5d5ecc39-29b1-4710-b5b4-680949a4bd94"
      },
      "execution_count": 106,
      "outputs": [
        {
          "output_type": "stream",
          "name": "stdout",
          "text": [
            "True\n",
            "3\n"
          ]
        }
      ]
    },
    {
      "cell_type": "code",
      "source": [
        "# Omitting brackets when initializing tuples\n",
        "another_tuple = 12345, 54321, 'hello!'\n",
        "print(another_tuple)"
      ],
      "metadata": {
        "colab": {
          "base_uri": "https://localhost:8080/"
        },
        "id": "II4Pi_LB5a4W",
        "outputId": "eacf9dcb-8ad7-40c9-a97c-3b1586fd6e05"
      },
      "execution_count": 107,
      "outputs": [
        {
          "output_type": "stream",
          "name": "stdout",
          "text": [
            "(12345, 54321, 'hello!')\n"
          ]
        }
      ]
    },
    {
      "cell_type": "code",
      "source": [
        "# Nested tuples\n",
        "nested_tuple = another_tuple, (1, 2, 3, 4, 5)\n",
        "print(nested_tuple)"
      ],
      "metadata": {
        "colab": {
          "base_uri": "https://localhost:8080/"
        },
        "id": "eIWHbxcC5dud",
        "outputId": "f5a249da-f91c-4042-b39b-964d9582439a"
      },
      "execution_count": 108,
      "outputs": [
        {
          "output_type": "stream",
          "name": "stdout",
          "text": [
            "((12345, 54321, 'hello!'), (1, 2, 3, 4, 5))\n"
          ]
        }
      ]
    },
    {
      "cell_type": "code",
      "source": [
        "# Empty and singleton tuples\n",
        "empty_tuple = ()\n",
        "print(len(empty_tuple))"
      ],
      "metadata": {
        "colab": {
          "base_uri": "https://localhost:8080/"
        },
        "id": "VAjad1t45jTy",
        "outputId": "d8bafd73-c36d-498f-e88c-37647f502874"
      },
      "execution_count": 109,
      "outputs": [
        {
          "output_type": "stream",
          "name": "stdout",
          "text": [
            "0\n"
          ]
        }
      ]
    },
    {
      "cell_type": "code",
      "source": [
        "singleton_tuple = 'hello',\n",
        "print(len(singleton_tuple))\n",
        "print(singleton_tuple)"
      ],
      "metadata": {
        "colab": {
          "base_uri": "https://localhost:8080/"
        },
        "id": "yztpnxm05mgV",
        "outputId": "9b49befe-cc03-498e-b767-402ad25ad2d6"
      },
      "execution_count": 110,
      "outputs": [
        {
          "output_type": "stream",
          "name": "stdout",
          "text": [
            "1\n",
            "('hello',)\n"
          ]
        }
      ]
    },
    {
      "cell_type": "code",
      "source": [
        "# Tuple packing and unpacking\n",
        "packed_tuple = 12345, 54321, 'hello!'\n",
        "first_tuple_number, second_tuple_number, third_tuple_string = packed_tuple\n",
        "print(first_tuple_number)\n",
        "print(second_tuple_number)\n",
        "print(third_tuple_string)"
      ],
      "metadata": {
        "colab": {
          "base_uri": "https://localhost:8080/"
        },
        "id": "sZx7NkXH5q-W",
        "outputId": "c583d7bc-5cde-4d84-cfe0-e8d5593e6c49"
      },
      "execution_count": 111,
      "outputs": [
        {
          "output_type": "stream",
          "name": "stdout",
          "text": [
            "12345\n",
            "54321\n",
            "hello!\n"
          ]
        }
      ]
    },
    {
      "cell_type": "code",
      "source": [
        "# Swapping using tuples\n",
        "first_number = 123\n",
        "second_number = 456\n",
        "first_number, second_number = second_number, first_number\n",
        "print(first_number)\n",
        "print(second_number)"
      ],
      "metadata": {
        "colab": {
          "base_uri": "https://localhost:8080/"
        },
        "id": "m5SZxxQd5xlg",
        "outputId": "60bf60dd-c6ea-45a9-d112-b42f434d4795"
      },
      "execution_count": 112,
      "outputs": [
        {
          "output_type": "stream",
          "name": "stdout",
          "text": [
            "456\n",
            "123\n"
          ]
        }
      ]
    },
    {
      "cell_type": "markdown",
      "source": [
        "# Sets in python 💲\n",
        "-  A set is a collection which is unordered and unindexed.\n",
        "- In Python sets are written with curly brackets.\n",
        "- Set objects also support mathematical operations like union, intersection, difference, and symmetric difference."
      ],
      "metadata": {
        "id": "oHJa03Ep7nK_"
      }
    },
    {
      "cell_type": "code",
      "source": [
        "# Sets\n",
        "fruits_set = {\"apple\", \"banana\", \"cherry\"}\n",
        "print(isinstance(fruits_set, set))"
      ],
      "metadata": {
        "colab": {
          "base_uri": "https://localhost:8080/"
        },
        "id": "rvqxM1DM-H7H",
        "outputId": "d0acef3c-c794-4dd5-a2cd-7c0fab287602"
      },
      "execution_count": 113,
      "outputs": [
        {
          "output_type": "stream",
          "name": "stdout",
          "text": [
            "True\n"
          ]
        }
      ]
    },
    {
      "cell_type": "code",
      "source": [
        "# Use the set() constructor to make a set\n",
        "fruits_set_via_constructor = set((\"apple\", \"banana\", \"cherry\"))\n",
        "print(isinstance(fruits_set_via_constructor, set))"
      ],
      "metadata": {
        "colab": {
          "base_uri": "https://localhost:8080/"
        },
        "id": "72FksEqU_OCt",
        "outputId": "df1c3dda-1a3a-4996-efd9-c7c3493ce6c4"
      },
      "execution_count": 114,
      "outputs": [
        {
          "output_type": "stream",
          "name": "stdout",
          "text": [
            "True\n"
          ]
        }
      ]
    },
    {
      "cell_type": "code",
      "source": [
        "# Set methods\n",
        "fruits_set = {\"apple\", \"banana\", \"cherry\"}"
      ],
      "metadata": {
        "id": "RtV35_ZQ_QqF"
      },
      "execution_count": 115,
      "outputs": []
    },
    {
      "cell_type": "code",
      "source": [
        "# Check if the item is in the set\n",
        "print(\"apple\" in fruits_set)\n",
        "print(\"pineapple\" not in fruits_set)"
      ],
      "metadata": {
        "colab": {
          "base_uri": "https://localhost:8080/"
        },
        "id": "g6Xq7N49_TY9",
        "outputId": "85f97c5d-84ab-45c3-8b1b-a5ff4d928df6"
      },
      "execution_count": 116,
      "outputs": [
        {
          "output_type": "stream",
          "name": "stdout",
          "text": [
            "True\n",
            "True\n"
          ]
        }
      ]
    },
    {
      "cell_type": "code",
      "source": [
        "# Return the number of items\n",
        "print(len(fruits_set))"
      ],
      "metadata": {
        "colab": {
          "base_uri": "https://localhost:8080/"
        },
        "id": "pNqx9FsT_WDC",
        "outputId": "c39b9515-9ef1-4aeb-c536-7a90147f886d"
      },
      "execution_count": 117,
      "outputs": [
        {
          "output_type": "stream",
          "name": "stdout",
          "text": [
            "3\n"
          ]
        }
      ]
    },
    {
      "cell_type": "code",
      "source": [
        "# Add an item\n",
        "fruits_set.add(\"pineapple\")\n",
        "print(\"pineapple\" in fruits_set)\n",
        "print(len(fruits_set))"
      ],
      "metadata": {
        "colab": {
          "base_uri": "https://localhost:8080/"
        },
        "id": "Lmyim_5H_ZLp",
        "outputId": "b6dcc9b8-488a-4898-ae94-4b37e0d70c6d"
      },
      "execution_count": 118,
      "outputs": [
        {
          "output_type": "stream",
          "name": "stdout",
          "text": [
            "True\n",
            "4\n"
          ]
        }
      ]
    },
    {
      "cell_type": "code",
      "source": [
        "# Remove an item\n",
        "fruits_set.remove(\"pineapple\")\n",
        "print(\"pineapple\" not in fruits_set)\n",
        "print(len(fruits_set))"
      ],
      "metadata": {
        "colab": {
          "base_uri": "https://localhost:8080/"
        },
        "id": "f7sRGljJ_bp8",
        "outputId": "891ae3c3-831f-40cd-b2e3-79ed1d5c87f4"
      },
      "execution_count": 119,
      "outputs": [
        {
          "output_type": "stream",
          "name": "stdout",
          "text": [
            "True\n",
            "3\n"
          ]
        }
      ]
    },
    {
      "cell_type": "code",
      "source": [
        " #Demonstrate set operations on unique letters from two words\n",
        "first_char_set = set('abracadabra')\n",
        "second_char_set = set('alacazam')\n",
        "\n",
        "print(first_char_set)\n",
        "print(second_char_set)"
      ],
      "metadata": {
        "colab": {
          "base_uri": "https://localhost:8080/"
        },
        "id": "vHU-Bd06_e3Q",
        "outputId": "d2c6b613-a7b3-4a90-ed90-246956570d68"
      },
      "execution_count": 120,
      "outputs": [
        {
          "output_type": "stream",
          "name": "stdout",
          "text": [
            "{'b', 'r', 'd', 'c', 'a'}\n",
            "{'l', 'm', 'c', 'a', 'z'}\n"
          ]
        }
      ]
    },
    {
      "cell_type": "code",
      "source": [
        "# Letters in the first word but not in the second\n",
        "print(first_char_set - second_char_set)"
      ],
      "metadata": {
        "colab": {
          "base_uri": "https://localhost:8080/"
        },
        "id": "9tCM962d_jPA",
        "outputId": "8e59c42b-4e89-4e74-c292-80780306eb41"
      },
      "execution_count": 121,
      "outputs": [
        {
          "output_type": "stream",
          "name": "stdout",
          "text": [
            "{'r', 'b', 'd'}\n"
          ]
        }
      ]
    },
    {
      "cell_type": "code",
      "source": [
        "# Letters in the first or second word or both\n",
        "print(first_char_set | second_char_set)"
      ],
      "metadata": {
        "colab": {
          "base_uri": "https://localhost:8080/"
        },
        "id": "pzjnewE9_n8T",
        "outputId": "f9a47d62-1aef-4895-f9e5-41c33840e354"
      },
      "execution_count": 122,
      "outputs": [
        {
          "output_type": "stream",
          "name": "stdout",
          "text": [
            "{'l', 'b', 'm', 'r', 'd', 'c', 'a', 'z'}\n"
          ]
        }
      ]
    },
    {
      "cell_type": "code",
      "source": [
        "# Common letters in both words\n",
        "print(first_char_set & second_char_set)"
      ],
      "metadata": {
        "colab": {
          "base_uri": "https://localhost:8080/"
        },
        "id": "smwVCMst_qLA",
        "outputId": "db92c2d5-6e74-420f-c1fd-2b7d04f49a10"
      },
      "execution_count": 123,
      "outputs": [
        {
          "output_type": "stream",
          "name": "stdout",
          "text": [
            "{'c', 'a'}\n"
          ]
        }
      ]
    },
    {
      "cell_type": "code",
      "source": [
        "# Letters in the first or second word but not both\n",
        "print(first_char_set ^ second_char_set)"
      ],
      "metadata": {
        "colab": {
          "base_uri": "https://localhost:8080/"
        },
        "id": "OuHyFoEW_tVb",
        "outputId": "f1ba68ea-3dc0-4eae-d039-bb947329eae8"
      },
      "execution_count": 124,
      "outputs": [
        {
          "output_type": "stream",
          "name": "stdout",
          "text": [
            "{'r', 'l', 'd', 'b', 'm', 'z'}\n"
          ]
        }
      ]
    },
    {
      "cell_type": "code",
      "source": [
        "# Set comprehensions\n",
        "word = {char for char in 'abracadabra' if char not in 'abc'}\n",
        "print(word)"
      ],
      "metadata": {
        "colab": {
          "base_uri": "https://localhost:8080/"
        },
        "id": "26fPKcsd_xn3",
        "outputId": "d75579e8-c167-4601-aaa0-e3e2c174a878"
      },
      "execution_count": 125,
      "outputs": [
        {
          "output_type": "stream",
          "name": "stdout",
          "text": [
            "{'r', 'd'}\n"
          ]
        }
      ]
    },
    {
      "cell_type": "markdown",
      "source": [
        "# Dictionary in python\n",
        "- A dictionary is a collection which is unordered, changeable, and indexed. In Python dictionaries are\n",
        "written with curly brackets, and they have keys and values."
      ],
      "metadata": {
        "id": "JEKtUhRH_7U3"
      }
    },
    {
      "cell_type": "code",
      "source": [
        "# Dictionary\n",
        "fruits_dictionary = {\n",
        "    'cherry': 'red',\n",
        "    'apple': 'green',\n",
        "    'banana': 'yellow',\n",
        "}\n",
        "\n",
        "print(isinstance(fruits_dictionary, dict))"
      ],
      "metadata": {
        "colab": {
          "base_uri": "https://localhost:8080/"
        },
        "id": "Z1Ib0H8M_z0q",
        "outputId": "5aa8165a-af04-406a-f40a-6d28dfcf74f8"
      },
      "execution_count": 126,
      "outputs": [
        {
          "output_type": "stream",
          "name": "stdout",
          "text": [
            "True\n"
          ]
        }
      ]
    },
    {
      "cell_type": "code",
      "source": [
        "# Access dictionary elements by keys\n",
        "print(fruits_dictionary['apple'])\n",
        "print(fruits_dictionary['banana'])\n",
        "print(fruits_dictionary['cherry'])"
      ],
      "metadata": {
        "colab": {
          "base_uri": "https://localhost:8080/"
        },
        "id": "HgBhX3_zAFnh",
        "outputId": "d2b0ac07-7f2e-459e-92e3-06adb5ebf068"
      },
      "execution_count": 127,
      "outputs": [
        {
          "output_type": "stream",
          "name": "stdout",
          "text": [
            "green\n",
            "yellow\n",
            "red\n"
          ]
        }
      ]
    },
    {
      "cell_type": "code",
      "source": [
        "# Check whether a key exists in the dictionary\n",
        "print('apple' in fruits_dictionary)\n",
        "print('pineapple' not in fruits_dictionary)"
      ],
      "metadata": {
        "colab": {
          "base_uri": "https://localhost:8080/"
        },
        "id": "k9gKbGgkAMfg",
        "outputId": "a37578f1-2280-47ae-a1f4-07523b148875"
      },
      "execution_count": 128,
      "outputs": [
        {
          "output_type": "stream",
          "name": "stdout",
          "text": [
            "True\n",
            "True\n"
          ]
        }
      ]
    },
    {
      "cell_type": "code",
      "source": [
        "# Change the apple color to \"red\"\n",
        "fruits_dictionary['apple'] = 'red'\n",
        "fruits_dictionary"
      ],
      "metadata": {
        "colab": {
          "base_uri": "https://localhost:8080/"
        },
        "id": "AcYpkw9pAOqf",
        "outputId": "58c449a4-cb2f-4bfd-cf2e-26a97aea1351"
      },
      "execution_count": 129,
      "outputs": [
        {
          "output_type": "execute_result",
          "data": {
            "text/plain": [
              "{'cherry': 'red', 'apple': 'red', 'banana': 'yellow'}"
            ]
          },
          "metadata": {},
          "execution_count": 129
        }
      ]
    },
    {
      "cell_type": "code",
      "source": [
        "# Add a new key/value pair to the dictionary\n",
        "fruits_dictionary['pineapple'] = 'yellow'\n",
        "print(fruits_dictionary['pineapple'])"
      ],
      "metadata": {
        "colab": {
          "base_uri": "https://localhost:8080/"
        },
        "id": "Hv754OB7AREV",
        "outputId": "9785abf6-88ca-4c7b-e5dc-b10c841088d5"
      },
      "execution_count": 130,
      "outputs": [
        {
          "output_type": "stream",
          "name": "stdout",
          "text": [
            "yellow\n"
          ]
        }
      ]
    },
    {
      "cell_type": "code",
      "source": [
        "# Retrieve keys in insertion order\n",
        "print(list(fruits_dictionary))\n",
        "print(sorted(fruits_dictionary))"
      ],
      "metadata": {
        "colab": {
          "base_uri": "https://localhost:8080/"
        },
        "id": "8xgXD6OOAZMh",
        "outputId": "abdbb3c2-0154-4caf-cf8b-1f039cb60dc7"
      },
      "execution_count": 131,
      "outputs": [
        {
          "output_type": "stream",
          "name": "stdout",
          "text": [
            "['cherry', 'apple', 'banana', 'pineapple']\n",
            "['apple', 'banana', 'cherry', 'pineapple']\n"
          ]
        }
      ]
    },
    {
      "cell_type": "code",
      "source": [
        "# Delete a key:value pair\n",
        "del fruits_dictionary['pineapple']\n",
        "print(list(fruits_dictionary))"
      ],
      "metadata": {
        "colab": {
          "base_uri": "https://localhost:8080/"
        },
        "id": "N29eo6U-Abtx",
        "outputId": "9ea560ab-92bd-4880-85c5-bb200387a7b2"
      },
      "execution_count": 132,
      "outputs": [
        {
          "output_type": "stream",
          "name": "stdout",
          "text": [
            "['cherry', 'apple', 'banana']\n"
          ]
        }
      ]
    },
    {
      "cell_type": "code",
      "source": [
        "# Build a dictionary using the dict() constructor\n",
        "dictionary_via_constructor = dict([('sape', 4139), ('guido', 4127), ('jack', 4098)])\n",
        "\n",
        "print(dictionary_via_constructor['sape'])\n",
        "print(dictionary_via_constructor['guido'])\n",
        "print(dictionary_via_constructor['jack'])"
      ],
      "metadata": {
        "colab": {
          "base_uri": "https://localhost:8080/"
        },
        "id": "3BC6tO-gAeqW",
        "outputId": "6e420dc6-9b3f-4ecd-c128-09a9ef8ff0d1"
      },
      "execution_count": 133,
      "outputs": [
        {
          "output_type": "stream",
          "name": "stdout",
          "text": [
            "4139\n",
            "4127\n",
            "4098\n"
          ]
        }
      ]
    },
    {
      "cell_type": "code",
      "source": [
        "# Dictionary comprehensions\n",
        "dictionary_via_expression = {x: x**2 for x in (2, 4, 6)}\n",
        "\n",
        "print(dictionary_via_expression[2])\n",
        "print(dictionary_via_expression[4])\n",
        "print(dictionary_via_expression[6])"
      ],
      "metadata": {
        "colab": {
          "base_uri": "https://localhost:8080/"
        },
        "id": "V-DTYobXAh9C",
        "outputId": "2b29b0fe-fca9-4d81-f42a-d0b072d93af9"
      },
      "execution_count": 134,
      "outputs": [
        {
          "output_type": "stream",
          "name": "stdout",
          "text": [
            "4\n",
            "16\n",
            "36\n"
          ]
        }
      ]
    },
    {
      "cell_type": "code",
      "source": [
        "# Using keyword arguments for simple string keys\n",
        "dictionary_for_string_keys = dict(sape=4139, guido=4127, jack=4098)\n",
        "\n",
        "print(dictionary_for_string_keys['sape'])\n",
        "print(dictionary_for_string_keys['guido'])\n",
        "print(dictionary_for_string_keys['jack'])"
      ],
      "metadata": {
        "colab": {
          "base_uri": "https://localhost:8080/"
        },
        "id": "BNodoemcAk34",
        "outputId": "be24b395-afb4-4a1e-ecda-5edff2ac3ca2"
      },
      "execution_count": 135,
      "outputs": [
        {
          "output_type": "stream",
          "name": "stdout",
          "text": [
            "4139\n",
            "4127\n",
            "4098\n"
          ]
        }
      ]
    },
    {
      "cell_type": "markdown",
      "source": [
        "# Type casting.\n",
        "- int() - constructs an integer number from an integer literal, a float literal (by rounding down\n",
        "to the previous whole number) literal, or a string literal (providing the string represents a\n",
        "whole number)\n",
        "\n",
        "- float() - constructs a float number from an integer literal, a float literal or a string literal\n",
        "(providing the string represents a float or an integer)\n",
        "\n",
        "- str() - constructs a string from a wide variety of data types, including strings, integer\n",
        "literals and float literals\n",
        "\n"
      ],
      "metadata": {
        "id": "_cWBetjQBFhi"
      }
    },
    {
      "cell_type": "code",
      "source": [
        "# Type casting to integer\n",
        "print(int(1))\n",
        "print(int(2.8))\n",
        "print(int('3'))"
      ],
      "metadata": {
        "colab": {
          "base_uri": "https://localhost:8080/"
        },
        "id": "nUvXXWKQAoss",
        "outputId": "6f0491b2-1e6d-40b3-f059-09d9139ce761"
      },
      "execution_count": 136,
      "outputs": [
        {
          "output_type": "stream",
          "name": "stdout",
          "text": [
            "1\n",
            "2\n",
            "3\n"
          ]
        }
      ]
    },
    {
      "cell_type": "code",
      "source": [
        "# Type casting to float\n",
        "print(float(1))\n",
        "print(float(2.8))\n",
        "print(float(\"3\"))\n",
        "print(float(\"4.2\"))"
      ],
      "metadata": {
        "colab": {
          "base_uri": "https://localhost:8080/"
        },
        "id": "vKSRr7UZBPxT",
        "outputId": "f9d3857d-c29d-49da-93d0-e0a7d3b69b59"
      },
      "execution_count": 137,
      "outputs": [
        {
          "output_type": "stream",
          "name": "stdout",
          "text": [
            "1.0\n",
            "2.8\n",
            "3.0\n",
            "4.2\n"
          ]
        }
      ]
    },
    {
      "cell_type": "code",
      "source": [
        "# Type casting to string\n",
        "print(str(\"s1\"))\n",
        "print(str(2))\n",
        "print(str(3.0))"
      ],
      "metadata": {
        "colab": {
          "base_uri": "https://localhost:8080/"
        },
        "id": "rEnY_KjBBSft",
        "outputId": "5d8314f5-1e24-47c7-a506-008d7749bdfb"
      },
      "execution_count": 138,
      "outputs": [
        {
          "output_type": "stream",
          "name": "stdout",
          "text": [
            "s1\n",
            "2\n",
            "3.0\n"
          ]
        }
      ]
    },
    {
      "cell_type": "markdown",
      "source": [
        "# Control Flow  💻"
      ],
      "metadata": {
        "id": "7jcyRfgeXT73"
      }
    },
    {
      "cell_type": "markdown",
      "source": [
        "# IF statement\n",
        "- An if … elif … elif … sequence is a substitute for the switch or case statements found\n",
        "in other languages"
      ],
      "metadata": {
        "id": "CpIYw-WtXsSE"
      }
    },
    {
      "cell_type": "code",
      "source": [
        "# IF statement\n",
        "\n",
        "number = 15\n",
        "conclusion = ''\n",
        "\n",
        "if number < 0:\n",
        "    conclusion = 'Number is less than zero'\n",
        "elif number == 0:\n",
        "    conclusion = 'Number equals to zero'\n",
        "elif number < 1:\n",
        "    conclusion = 'Number is greater than zero but less than one'\n",
        "else:\n",
        "    conclusion = 'Number bigger than or equal to one'\n",
        "\n",
        "print(conclusion)"
      ],
      "metadata": {
        "colab": {
          "base_uri": "https://localhost:8080/"
        },
        "id": "h8gOt_KtBUp5",
        "outputId": "90863f59-8b5e-40e0-b3fa-49ab82816a5d"
      },
      "execution_count": 139,
      "outputs": [
        {
          "output_type": "stream",
          "name": "stdout",
          "text": [
            "Number bigger than or equal to one\n"
          ]
        }
      ]
    },
    {
      "cell_type": "markdown",
      "source": [
        "# **FOR statement**\n",
        "- The for statement in Python iterates over the items of any sequence (a list or a string),\n",
        "in the order they appear in the sequence"
      ],
      "metadata": {
        "id": "DySBHKxJY8o3"
      }
    },
    {
      "cell_type": "code",
      "source": [
        "# Measure some strings\n",
        "words = ['cat', 'window', 'defenestrate']\n",
        "words_length = 0\n",
        "\n",
        "for word in words:\n",
        "    words_length += len(word)\n",
        "\n",
        "print(words_length)  # Output: Total length of words"
      ],
      "metadata": {
        "colab": {
          "base_uri": "https://localhost:8080/"
        },
        "id": "QggJL9DHX89g",
        "outputId": "59d017ee-b597-4089-92e3-bc637e576748"
      },
      "execution_count": 140,
      "outputs": [
        {
          "output_type": "stream",
          "name": "stdout",
          "text": [
            "21\n"
          ]
        }
      ]
    },
    {
      "cell_type": "code",
      "source": [
        "# Modifying a sequence during iteration using a slice copy\n",
        "for word in words[:]:\n",
        "    if len(word) > 6:\n",
        "        words.insert(0, word)\n",
        "\n",
        "print(words)  # Output: Updated list with inserted items"
      ],
      "metadata": {
        "colab": {
          "base_uri": "https://localhost:8080/"
        },
        "id": "oTjr9nRaZPWG",
        "outputId": "67fa31c4-6b11-4cdf-b841-11cfca32f32b"
      },
      "execution_count": 141,
      "outputs": [
        {
          "output_type": "stream",
          "name": "stdout",
          "text": [
            "['defenestrate', 'cat', 'window', 'defenestrate']\n"
          ]
        }
      ]
    },
    {
      "cell_type": "code",
      "source": [
        "# Iterating over a sequence of numbers with range()\n",
        "iterated_numbers = []\n",
        "for number in range(5):\n",
        "    iterated_numbers.append(number)\n",
        "\n",
        "print(iterated_numbers)  # Output: [0, 1, 2, 3, 4]"
      ],
      "metadata": {
        "colab": {
          "base_uri": "https://localhost:8080/"
        },
        "id": "jN074mADZfJH",
        "outputId": "b152d1e1-462d-43d6-c36a-551d1d25ab62"
      },
      "execution_count": 142,
      "outputs": [
        {
          "output_type": "stream",
          "name": "stdout",
          "text": [
            "[0, 1, 2, 3, 4]\n"
          ]
        }
      ]
    },
    {
      "cell_type": "code",
      "source": [
        "# Iterating over indices using range() and len()\n",
        "words = ['Mary', 'had', 'a', 'little', 'lamb']\n",
        "concatenated_string = ''\n",
        "for word_index in range(len(words)):\n",
        "    concatenated_string += words[word_index] + ' '\n",
        "\n",
        "print(concatenated_string)"
      ],
      "metadata": {
        "colab": {
          "base_uri": "https://localhost:8080/"
        },
        "id": "eEBVs-2uZjT7",
        "outputId": "edd2ceb9-8729-426f-fac3-9d4cdcb9b2a4"
      },
      "execution_count": 143,
      "outputs": [
        {
          "output_type": "stream",
          "name": "stdout",
          "text": [
            "Mary had a little lamb \n"
          ]
        }
      ]
    },
    {
      "cell_type": "code",
      "source": [
        "# Using enumerate() for indices and values\n",
        "concatenated_string = ''\n",
        "for word_index, word in enumerate(words):\n",
        "    concatenated_string += word + ' '\n",
        "\n",
        "print(concatenated_string)"
      ],
      "metadata": {
        "colab": {
          "base_uri": "https://localhost:8080/"
        },
        "id": "nxKLrBUMZm6g",
        "outputId": "66951d55-5653-43c8-851b-1012d19c9a1e"
      },
      "execution_count": 144,
      "outputs": [
        {
          "output_type": "stream",
          "name": "stdout",
          "text": [
            "Mary had a little lamb \n"
          ]
        }
      ]
    },
    {
      "cell_type": "code",
      "source": [
        "# Looping through dictionaries with items()\n",
        "knights_names = []\n",
        "knights_properties = []\n",
        "knights = {'gallahad': 'the pure', 'robin': 'the brave'}\n",
        "for key, value in knights.items():\n",
        "    knights_names.append(key)\n",
        "    knights_properties.append(value)\n",
        "\n",
        "print(knights_names)\n",
        "print(knights_properties)"
      ],
      "metadata": {
        "colab": {
          "base_uri": "https://localhost:8080/"
        },
        "id": "kMMoedvRZq8x",
        "outputId": "73f9e8e3-c449-42bf-b282-56e0b362824f"
      },
      "execution_count": 145,
      "outputs": [
        {
          "output_type": "stream",
          "name": "stdout",
          "text": [
            "['gallahad', 'robin']\n",
            "['the pure', 'the brave']\n"
          ]
        }
      ]
    },
    {
      "cell_type": "code",
      "source": [
        "# Enumerating indices and values\n",
        "indices = []\n",
        "values = []\n",
        "for index, value in enumerate(['tic', 'tac', 'toe']):\n",
        "    indices.append(index)\n",
        "    values.append(value)\n",
        "\n",
        "print(indices)\n",
        "print(values)"
      ],
      "metadata": {
        "colab": {
          "base_uri": "https://localhost:8080/"
        },
        "id": "Qhk5BBW8aErs",
        "outputId": "7aa541b7-65f5-4ab3-c11f-3badf868c0ac"
      },
      "execution_count": 146,
      "outputs": [
        {
          "output_type": "stream",
          "name": "stdout",
          "text": [
            "[0, 1, 2]\n",
            "['tic', 'tac', 'toe']\n"
          ]
        }
      ]
    },
    {
      "cell_type": "code",
      "source": [
        "# Looping over two sequences with zip()\n",
        "questions = ['name', 'quest', 'favorite color']\n",
        "answers = ['lancelot', 'the holy grail', 'blue']\n",
        "combinations = []\n",
        "for question, answer in zip(questions, answers):\n",
        "    combinations.append(f'What is your {question}?  It is {answer}.')\n",
        "\n",
        "print(combinations)"
      ],
      "metadata": {
        "colab": {
          "base_uri": "https://localhost:8080/"
        },
        "id": "YqtpkjsOaQtA",
        "outputId": "b98cc54d-d735-402f-89d1-470520419b51"
      },
      "execution_count": 147,
      "outputs": [
        {
          "output_type": "stream",
          "name": "stdout",
          "text": [
            "['What is your name?  It is lancelot.', 'What is your quest?  It is the holy grail.', 'What is your favorite color?  It is blue.']\n"
          ]
        }
      ]
    },
    {
      "cell_type": "code",
      "source": [
        "# Range function\n",
        "print(list(range(5)))\n",
        "print(list(range(5, 10)))\n",
        "print(list(range(0, 10, 3)))\n",
        "print(list(range(-10, -100, -30)))"
      ],
      "metadata": {
        "colab": {
          "base_uri": "https://localhost:8080/"
        },
        "id": "dfIxDTb-aVpz",
        "outputId": "a22dfddb-130c-4419-a31f-872cb0a3f8bd"
      },
      "execution_count": 148,
      "outputs": [
        {
          "output_type": "stream",
          "name": "stdout",
          "text": [
            "[0, 1, 2, 3, 4]\n",
            "[5, 6, 7, 8, 9]\n",
            "[0, 3, 6, 9]\n",
            "[-10, -40, -70]\n"
          ]
        }
      ]
    },
    {
      "cell_type": "markdown",
      "source": [
        "# WHILE statement\n",
        "- The while loop executes as long as the condition remains true."
      ],
      "metadata": {
        "id": "WCR9x5DUbCGn"
      }
    },
    {
      "cell_type": "code",
      "source": [
        "# WHILE statement\n",
        "\n",
        "# Raising a number to a certain power using a while loop\n",
        "number = 2\n",
        "power = 5\n",
        "result = 1\n",
        "\n",
        "while power > 0:\n",
        "    result *= number\n",
        "    power -= 1\n",
        "\n",
        "# Output the result of 2^5\n",
        "print(result)"
      ],
      "metadata": {
        "colab": {
          "base_uri": "https://localhost:8080/"
        },
        "id": "aRWLmamradTV",
        "outputId": "e66eef2c-9171-4781-f7f8-0e3b85a7c43f"
      },
      "execution_count": 149,
      "outputs": [
        {
          "output_type": "stream",
          "name": "stdout",
          "text": [
            "32\n"
          ]
        }
      ]
    },
    {
      "cell_type": "markdown",
      "source": [
        "# TRY statement\n",
        "- \"try\" statement is used for exception handling.\n",
        "When an error occurs, or exception as we call it, Python will normally stop and generate an error\n",
        "message. These exceptions can be handled using the try statement.\n",
        "\n",
        "- The \"try\" block lets you test a block of code for errors.\n",
        "- The \"except\" block lets you handle the error.\n",
        "- The \"else\" block lets you execute the code if no errors were raised.\n",
        "- The \"finally\" block lets you execute code, regardless of the result of the try- and except blocks"
      ],
      "metadata": {
        "id": "TouDlh00bpCq"
      }
    },
    {
      "cell_type": "code",
      "source": [
        "# Example 1: Catching an exception\n",
        "exception_has_been_caught = False\n",
        "\n",
        "try:\n",
        "    print(not_existing_variable)  # This will raise a NameError\n",
        "except NameError:\n",
        "    exception_has_been_caught = True\n",
        "\n",
        "print(exception_has_been_caught)"
      ],
      "metadata": {
        "colab": {
          "base_uri": "https://localhost:8080/"
        },
        "id": "zTeVXhrIbQQT",
        "outputId": "1bb27e79-1839-422b-dd85-acea13305800"
      },
      "execution_count": 150,
      "outputs": [
        {
          "output_type": "stream",
          "name": "stdout",
          "text": [
            "True\n"
          ]
        }
      ]
    },
    {
      "cell_type": "code",
      "source": [
        "# Example 2: Handling a specific exception with a message\n",
        "exception_message = ''\n",
        "\n",
        "try:\n",
        "    print(not_existing_variable)  # This will raise a NameError\n",
        "except NameError:\n",
        "    exception_message = 'Variable is not defined'\n",
        "\n",
        "print(exception_message)"
      ],
      "metadata": {
        "colab": {
          "base_uri": "https://localhost:8080/"
        },
        "id": "_HXiwRQxcjjq",
        "outputId": "0d3d9969-8547-41b0-d574-eb8324b9f748"
      },
      "execution_count": 151,
      "outputs": [
        {
          "output_type": "stream",
          "name": "stdout",
          "text": [
            "Variable is not defined\n"
          ]
        }
      ]
    },
    {
      "cell_type": "code",
      "source": [
        "# Example 3: Using else for code that runs when no exceptions occur\n",
        "message = ''\n",
        "\n",
        "try:\n",
        "    message += 'Success.'\n",
        "except NameError:\n",
        "    message += 'Something went wrong.'\n",
        "else:\n",
        "    message += 'Nothing went wrong.'\n",
        "\n",
        "print(message)"
      ],
      "metadata": {
        "colab": {
          "base_uri": "https://localhost:8080/"
        },
        "id": "0wYLr5cYcpid",
        "outputId": "5d310bb3-29a6-4ffb-b3c6-5d2fbb7f6794"
      },
      "execution_count": 152,
      "outputs": [
        {
          "output_type": "stream",
          "name": "stdout",
          "text": [
            "Success.Nothing went wrong.\n"
          ]
        }
      ]
    },
    {
      "cell_type": "code",
      "source": [
        "# Example 4: Using finally to execute code regardless of exceptions\n",
        "message = ''\n",
        "\n",
        "try:\n",
        "    print(not_existing_variable)  # This will raise a NameError\n",
        "except NameError:\n",
        "    message += 'Something went wrong.'\n",
        "finally:\n",
        "    message += 'The \"try except\" is finished.'\n",
        "\n",
        "print(message)"
      ],
      "metadata": {
        "colab": {
          "base_uri": "https://localhost:8080/"
        },
        "id": "OAoEyFADcvim",
        "outputId": "951e5d6e-5569-4103-e50c-9da3bbff1352"
      },
      "execution_count": 153,
      "outputs": [
        {
          "output_type": "stream",
          "name": "stdout",
          "text": [
            "Something went wrong.The \"try except\" is finished.\n"
          ]
        }
      ]
    },
    {
      "cell_type": "markdown",
      "source": [
        "# BREAK statement\n",
        "- The break statement, like in C, breaks out of the innermost enclosing \"for\" or \"while\" loop."
      ],
      "metadata": {
        "id": "IdgyaT9kdCTY"
      }
    },
    {
      "cell_type": "code",
      "source": [
        "# Terminate the loop if the number we need is found\n",
        "number_to_be_found = 42\n",
        "number_of_iterations = 0\n",
        "\n",
        "for number in range(100):\n",
        "    if number == number_to_be_found:\n",
        "        # Break here and don't continue the loop\n",
        "        break\n",
        "    else:\n",
        "        number_of_iterations += 1\n",
        "\n",
        "# Print the number of iterations before the loop was terminated\n",
        "print(number_of_iterations)"
      ],
      "metadata": {
        "colab": {
          "base_uri": "https://localhost:8080/"
        },
        "id": "hy6fzRLqc0JP",
        "outputId": "02a172cc-59e4-42cd-c0a7-34589c0553b3"
      },
      "execution_count": 154,
      "outputs": [
        {
          "output_type": "stream",
          "name": "stdout",
          "text": [
            "42\n"
          ]
        }
      ]
    },
    {
      "cell_type": "markdown",
      "source": [
        "# CONTINUE statement\n",
        "- The continue statement is borrowed from C, continues with the next iteration of the loop."
      ],
      "metadata": {
        "id": "O5Djnnu9dzvG"
      }
    },
    {
      "cell_type": "code",
      "source": [
        "# CONTINUE statement in FOR loop\n",
        "\n",
        "# Lists to separate even and odd numbers\n",
        "even_numbers = []\n",
        "rest_of_the_numbers = []\n",
        "\n",
        "for number in range(0, 10):\n",
        "    # Check if the number is even\n",
        "    if number % 2 == 0:\n",
        "        even_numbers.append(number)\n",
        "        # Skip the rest of the loop for this iteration\n",
        "        continue\n",
        "    rest_of_the_numbers.append(number)\n",
        "\n",
        "# Output the results\n",
        "print(even_numbers)\n",
        "print(rest_of_the_numbers)"
      ],
      "metadata": {
        "colab": {
          "base_uri": "https://localhost:8080/"
        },
        "id": "tudHgWfMdlyo",
        "outputId": "69dd72a5-7d5f-4b32-a35d-34dd890c384c"
      },
      "execution_count": 155,
      "outputs": [
        {
          "output_type": "stream",
          "name": "stdout",
          "text": [
            "[0, 2, 4, 6, 8]\n",
            "[1, 3, 5, 7, 9]\n"
          ]
        }
      ]
    },
    {
      "cell_type": "markdown",
      "source": [
        "# Functions in python\n",
        "- The keyword def introduces a function definition. It must be followed by the function name and the\n",
        "parenthesized list of formal parameters. The statements that form the body of the function start at\n",
        "the next line, and must be indented\n"
      ],
      "metadata": {
        "id": "GTQbteqMegtM"
      }
    },
    {
      "cell_type": "code",
      "source": [
        "# Fibonacci function definition\n",
        "def fibonacci_function_example(number_limit):\n",
        "    \"\"\"Generate a Fibonacci series up to number_limit.\"\"\"\n",
        "    fibonacci_list = []\n",
        "    previous_number, current_number = 0, 1\n",
        "    while previous_number < number_limit:\n",
        "        fibonacci_list.append(previous_number)\n",
        "        previous_number, current_number = current_number, previous_number + current_number\n",
        "    return fibonacci_list\n",
        "\n",
        "# Call the Fibonacci function and print the result\n",
        "print(fibonacci_function_example(300))"
      ],
      "metadata": {
        "colab": {
          "base_uri": "https://localhost:8080/"
        },
        "id": "gMQ9Sx4WeLte",
        "outputId": "ebd751a5-6f4e-4941-b8ee-5708c47f2e38"
      },
      "execution_count": 156,
      "outputs": [
        {
          "output_type": "stream",
          "name": "stdout",
          "text": [
            "[0, 1, 1, 2, 3, 5, 8, 13, 21, 34, 55, 89, 144, 233]\n"
          ]
        }
      ]
    },
    {
      "cell_type": "code",
      "source": [
        "# Assign the Fibonacci function to another variable and call it\n",
        "fibonacci_function_clone = fibonacci_function_example\n",
        "print(fibonacci_function_clone(300))"
      ],
      "metadata": {
        "colab": {
          "base_uri": "https://localhost:8080/"
        },
        "id": "W__f6l-HfUTe",
        "outputId": "bef310b0-f278-4c6e-f117-d46287dcaec2"
      },
      "execution_count": 157,
      "outputs": [
        {
          "output_type": "stream",
          "name": "stdout",
          "text": [
            "[0, 1, 1, 2, 3, 5, 8, 13, 21, 34, 55, 89, 144, 233]\n"
          ]
        }
      ]
    },
    {
      "cell_type": "code",
      "source": [
        "# Functions as first-class objects\n",
        "def greet(name):\n",
        "    return 'Hello, ' + name\n",
        "\n",
        "greet_someone = greet\n",
        "print(greet_someone('rahul'))"
      ],
      "metadata": {
        "colab": {
          "base_uri": "https://localhost:8080/"
        },
        "id": "Ez6WkYx7fgm-",
        "outputId": "59d26004-d79a-4ceb-ef11-237b894c17d8"
      },
      "execution_count": 158,
      "outputs": [
        {
          "output_type": "stream",
          "name": "stdout",
          "text": [
            "Hello, rahul\n"
          ]
        }
      ]
    },
    {
      "cell_type": "code",
      "source": [
        "# Nested function example\n",
        "def greet_again(name):\n",
        "    def get_message():\n",
        "        return 'Hello, '\n",
        "    return get_message() + name\n",
        "\n",
        "print(greet_again('veerasankar reddy'))"
      ],
      "metadata": {
        "colab": {
          "base_uri": "https://localhost:8080/"
        },
        "id": "KqJHTJntfmrx",
        "outputId": "ee93b42e-aac0-4855-ead7-4af276b24893"
      },
      "execution_count": 159,
      "outputs": [
        {
          "output_type": "stream",
          "name": "stdout",
          "text": [
            "Hello, veerasankar reddy\n"
          ]
        }
      ]
    },
    {
      "cell_type": "code",
      "source": [
        "# Passing functions as parameters\n",
        "def greet_one_more(name):\n",
        "    return 'Hello, ' + name\n",
        "\n",
        "def call_func(func):\n",
        "    other_name = 'samba'\n",
        "    return func(other_name)\n",
        "\n",
        "print(call_func(greet_one_more))"
      ],
      "metadata": {
        "colab": {
          "base_uri": "https://localhost:8080/"
        },
        "id": "2NHLtdFxf00z",
        "outputId": "6f62b1aa-b87f-41ca-f9ed-58a4f6f79a50"
      },
      "execution_count": 160,
      "outputs": [
        {
          "output_type": "stream",
          "name": "stdout",
          "text": [
            "Hello, samba\n"
          ]
        }
      ]
    },
    {
      "cell_type": "code",
      "source": [
        "# Functions returning other functions\n",
        "def compose_greet_func():\n",
        "    def get_message():\n",
        "        return 'Hello there!'\n",
        "    return get_message\n",
        "\n",
        "greet_function = compose_greet_func()\n",
        "print(greet_function())"
      ],
      "metadata": {
        "colab": {
          "base_uri": "https://localhost:8080/"
        },
        "id": "7duhI2rmgDuU",
        "outputId": "dbb2ee28-44d3-4a21-9c0b-2bfae3abf8dc"
      },
      "execution_count": 161,
      "outputs": [
        {
          "output_type": "stream",
          "name": "stdout",
          "text": [
            "Hello there!\n"
          ]
        }
      ]
    },
    {
      "cell_type": "code",
      "source": [
        "# Closure example\n",
        "def compose_greet_func_with_closure(name):\n",
        "    def get_message():\n",
        "        return 'Hello there, ' + name + '!'\n",
        "    return get_message\n",
        "\n",
        "greet_with_closure = compose_greet_func_with_closure('rajamouli')\n",
        "print(greet_with_closure())"
      ],
      "metadata": {
        "colab": {
          "base_uri": "https://localhost:8080/"
        },
        "id": "eW-zc2jwgZzp",
        "outputId": "a15a1f00-c35b-49b5-d802-7ce28adafb96"
      },
      "execution_count": 162,
      "outputs": [
        {
          "output_type": "stream",
          "name": "stdout",
          "text": [
            "Hello there, rajamouli!\n"
          ]
        }
      ]
    },
    {
      "cell_type": "markdown",
      "source": [
        "# Scopes and Namespaces"
      ],
      "metadata": {
        "id": "4EvbA4yUhEUD"
      }
    },
    {
      "cell_type": "markdown",
      "source": [
        "A NAMESPACE is a mapping from names to objects. Most namespaces are currently implemented as Python\n",
        "dictionaries, but that’s normally not noticeable in any way (except for performance), and it may\n",
        "change in the future. Examples of namespaces are: the set of built-in names (containing functions\n",
        "such as abs(), and built-in exception names); the global names in a module; and the local names\n",
        "in a function invocation. In a sense the set of attributes of an object also form a namespace.\n",
        "The important thing to know about namespaces is that there is absolutely no relation between names\n",
        "in different namespaces; for instance, two different modules may both define a function maximize\n",
        "without confusion — users of the modules must prefix it with the module name."
      ],
      "metadata": {
        "id": "BUmhHigPjA7x"
      }
    },
    {
      "cell_type": "code",
      "source": [
        "# Global variable\n",
        "test_variable = 'initial global value'\n",
        "\n",
        "# Example demonstrating scopes and namespaces\n",
        "def test_scopes():\n",
        "    # Local variable in the enclosing function scope\n",
        "    test_variable = 'initial value inside test function'\n",
        "\n",
        "    def do_local():\n",
        "        # Create a variable only accessible inside this function\n",
        "        test_variable = 'local value'\n",
        "        return test_variable\n",
        "\n",
        "    def do_nonlocal():\n",
        "        # Modify the variable from the enclosing scope\n",
        "        nonlocal test_variable\n",
        "        test_variable = 'nonlocal value'\n",
        "        return test_variable\n",
        "\n",
        "    def do_global():\n",
        "        # Modify the global variable\n",
        "        global test_variable\n",
        "        test_variable = 'global value'\n",
        "        return test_variable\n",
        "\n",
        "    # Accessing the local variable\n",
        "    print(test_variable)\n",
        "    # Local assignment does not change the enclosing variable\n",
        "    do_local()\n",
        "    print(test_variable)\n",
        "\n",
        "    # Nonlocal assignment modifies the variable in the enclosing scope\n",
        "    do_nonlocal()\n",
        "    print(test_variable)\n",
        "\n",
        "    # Global assignment changes the global variable\n",
        "    do_global()\n",
        "    print(test_variable)\n",
        "\n",
        "# Run the test scopes\n",
        "test_scopes()\n",
        "\n",
        "# Checking global variable access\n",
        "print(test_variable)"
      ],
      "metadata": {
        "colab": {
          "base_uri": "https://localhost:8080/"
        },
        "id": "49I3PJA3iXiC",
        "outputId": "23ba8a76-05c0-49b2-f5dc-4d5c7c25c59d"
      },
      "execution_count": 163,
      "outputs": [
        {
          "output_type": "stream",
          "name": "stdout",
          "text": [
            "initial value inside test function\n",
            "initial value inside test function\n",
            "nonlocal value\n",
            "nonlocal value\n",
            "global value\n"
          ]
        }
      ]
    },
    {
      "cell_type": "markdown",
      "source": [
        "# Default Argument Values\n",
        "-  The most useful form is to specify a default value for one or more arguments. This creates a\n",
        "function that can be called with fewer arguments than it is defined to allow."
      ],
      "metadata": {
        "id": "msVwMY0VjWKG"
      }
    },
    {
      "cell_type": "code",
      "source": [
        "# Function definition with default argument\n",
        "def power_of(number, power=2):\n",
        "    return number ** power\n",
        "\n",
        "# Demonstration of the function\n",
        "\n",
        "# Call the function with the default argument\n",
        "result = power_of(3)\n",
        "print(result)"
      ],
      "metadata": {
        "colab": {
          "base_uri": "https://localhost:8080/"
        },
        "id": "qBr-GKHkithj",
        "outputId": "d05cddc3-778d-41c6-bf00-f1161cb2f04f"
      },
      "execution_count": 164,
      "outputs": [
        {
          "output_type": "stream",
          "name": "stdout",
          "text": [
            "9\n"
          ]
        }
      ]
    },
    {
      "cell_type": "code",
      "source": [
        "# Call the function with an overridden second argument\n",
        "result = power_of(3, 2)\n",
        "print(result)"
      ],
      "metadata": {
        "colab": {
          "base_uri": "https://localhost:8080/"
        },
        "id": "djeS_Y0ejjZC",
        "outputId": "8950950f-ea34-43d3-f295-c66e6f2e23eb"
      },
      "execution_count": 165,
      "outputs": [
        {
          "output_type": "stream",
          "name": "stdout",
          "text": [
            "9\n"
          ]
        }
      ]
    },
    {
      "cell_type": "code",
      "source": [
        "result = power_of(3, 3)\n",
        "print(result)"
      ],
      "metadata": {
        "colab": {
          "base_uri": "https://localhost:8080/"
        },
        "id": "Va1jFkSKjoG5",
        "outputId": "d1989216-fdf7-484a-f4be-071bb98fdf61"
      },
      "execution_count": 166,
      "outputs": [
        {
          "output_type": "stream",
          "name": "stdout",
          "text": [
            "27\n"
          ]
        }
      ]
    },
    {
      "cell_type": "markdown",
      "source": [
        "# Keyword Arguments\n",
        "- Functions can be called using keyword arguments of the form kwarg=value."
      ],
      "metadata": {
        "id": "OCf6IZKkj2QO"
      }
    },
    {
      "cell_type": "code",
      "source": [
        "def parrot(voltage, state='a stiff', action='voom', parrot_type='Norwegian Blue'):\n",
        "    \"\"\"Example of multi-argument function\n",
        "\n",
        "    This function accepts one required argument (voltage) and three optional arguments\n",
        "    (state, action, and type).\n",
        "    \"\"\"\n",
        "    message = 'This parrot wouldn\\'t ' + action + ' '\n",
        "    message += 'if you put ' + str(voltage) + ' volts through it. '\n",
        "    message += 'Lovely plumage, the ' + parrot_type + '. '\n",
        "    message += 'It\\'s ' + state + '!'\n",
        "    return message\n",
        "\n",
        "print(parrot(1000))\n",
        "print(parrot(voltage=1000))\n",
        "\n",
        "print(parrot(voltage=1000000, action='VOOOOOM'))\n",
        "print(parrot(action='VOOOOOM', voltage=1000000))\n",
        "\n",
        "print(parrot(1000000, 'bereft of life', 'jump'))\n",
        "\n",
        "print(parrot(1000, state='pushing up the daisies'))\n",
        "\n",
        "try:\n",
        "    print(parrot())\n",
        "except Exception as e:\n",
        "    print(\"Error:\", e)\n",
        "try:\n",
        "    print(parrot(110, voltage=220))\n",
        "except Exception as e:\n",
        "    print(\"Error:\", e)\n",
        "try:\n",
        "    print(parrot(actor='John Cleese'))\n",
        "except Exception as e:\n",
        "    print(\"Error:\", e)\n",
        "\n",
        "def function_with_one_argument(number):\n",
        "    return number\n",
        "try:\n",
        "    print(function_with_one_argument(0, number=0))\n",
        "except Exception as e:\n",
        "    print(\"Error:\", e)\n",
        "\n",
        "def test_function(first_param, *arguments, **keywords):\n",
        "    \"\"\"This function accepts its arguments through \"arguments\" tuple and keywords dictionary.\"\"\"\n",
        "    print(\"First param:\", first_param)\n",
        "    print(\"Arguments tuple:\", arguments)\n",
        "    print(\"Keywords dict:\", keywords)\n",
        "test_function(\n",
        "    'first param',\n",
        "    'second param',\n",
        "    'third param',\n",
        "    fourth_param_name='fourth named param',\n",
        "    fifth_param_name='fifth named param',\n",
        ")"
      ],
      "metadata": {
        "colab": {
          "base_uri": "https://localhost:8080/"
        },
        "id": "qvFwnx7cjrNw",
        "outputId": "4163f166-ebde-404c-9fe2-48bef893be7d"
      },
      "execution_count": 167,
      "outputs": [
        {
          "output_type": "stream",
          "name": "stdout",
          "text": [
            "This parrot wouldn't voom if you put 1000 volts through it. Lovely plumage, the Norwegian Blue. It's a stiff!\n",
            "This parrot wouldn't voom if you put 1000 volts through it. Lovely plumage, the Norwegian Blue. It's a stiff!\n",
            "This parrot wouldn't VOOOOOM if you put 1000000 volts through it. Lovely plumage, the Norwegian Blue. It's a stiff!\n",
            "This parrot wouldn't VOOOOOM if you put 1000000 volts through it. Lovely plumage, the Norwegian Blue. It's a stiff!\n",
            "This parrot wouldn't jump if you put 1000000 volts through it. Lovely plumage, the Norwegian Blue. It's bereft of life!\n",
            "This parrot wouldn't voom if you put 1000 volts through it. Lovely plumage, the Norwegian Blue. It's pushing up the daisies!\n",
            "Error: parrot() missing 1 required positional argument: 'voltage'\n",
            "Error: parrot() got multiple values for argument 'voltage'\n",
            "Error: parrot() got an unexpected keyword argument 'actor'\n",
            "Error: function_with_one_argument() got multiple values for argument 'number'\n",
            "First param: first param\n",
            "Arguments tuple: ('second param', 'third param')\n",
            "Keywords dict: {'fourth_param_name': 'fourth named param', 'fifth_param_name': 'fifth named param'}\n"
          ]
        }
      ]
    },
    {
      "cell_type": "markdown",
      "source": [
        "# Arbitrary Argument Lists\n",
        "- Function can be called with an arbitrary number of arguments. These arguments will be wrapped up in\n",
        "a tuple. Before the variable number of arguments, zero or more normal arguments may occur."
      ],
      "metadata": {
        "id": "Y2GBXj88n83D"
      }
    },
    {
      "cell_type": "code",
      "source": [
        "def test_function(first_param, *arguments):\n",
        "    \"\"\"This function accepts its arguments through an \"arguments\" tuple.\"\"\"\n",
        "    print(\"First parameter:\", first_param)\n",
        "    print(\"Arguments tuple:\", arguments)\n",
        "\n",
        "\n",
        "# Example usage of test_function\n",
        "test_function('first param', 'second param', 'third param')\n",
        "\n",
        "\n",
        "def concat(*args, sep='/'):\n",
        "    \"\"\"Concatenates arguments with the specified separator.\"\"\"\n",
        "    return sep.join(args)\n",
        "\n",
        "\n",
        "# Example usage of concat\n",
        "print(concat('earth', 'mars', 'venus'))\n",
        "print(concat('earth', 'mars', 'venus', sep='.'))\n"
      ],
      "metadata": {
        "colab": {
          "base_uri": "https://localhost:8080/"
        },
        "id": "_J5PFPzSm6Zh",
        "outputId": "d64054a3-2b33-4109-e8e2-a1ddc28a8435"
      },
      "execution_count": 168,
      "outputs": [
        {
          "output_type": "stream",
          "name": "stdout",
          "text": [
            "First parameter: first param\n",
            "Arguments tuple: ('second param', 'third param')\n",
            "earth/mars/venus\n",
            "earth.mars.venus\n"
          ]
        }
      ]
    },
    {
      "cell_type": "markdown",
      "source": [
        "# Unpacking Argument Lists\n",
        "- Unpacking arguments may be executed via * and ** operators. See below for further details."
      ],
      "metadata": {
        "id": "nirpV1oNofrV"
      }
    },
    {
      "cell_type": "code",
      "source": [
        "# Example 1: Normal call with separate arguments\n",
        "print(\"Range with separate arguments:\", list(range(3, 6)))"
      ],
      "metadata": {
        "colab": {
          "base_uri": "https://localhost:8080/"
        },
        "id": "2AuWQ6uonwY_",
        "outputId": "2e1e7574-e2ab-4ff5-eb61-d155a6bb5de5"
      },
      "execution_count": 169,
      "outputs": [
        {
          "output_type": "stream",
          "name": "stdout",
          "text": [
            "Range with separate arguments: [3, 4, 5]\n"
          ]
        }
      ]
    },
    {
      "cell_type": "code",
      "source": [
        "# Example 2: Call with arguments unpacked from a list\n",
        "arguments_list = [3, 6]\n",
        "print(\"Range with unpacked list arguments:\", list(range(*arguments_list)))"
      ],
      "metadata": {
        "colab": {
          "base_uri": "https://localhost:8080/"
        },
        "id": "AF601_7Hosl-",
        "outputId": "45bdda90-df8a-4b3c-8bc0-33c7398329e8"
      },
      "execution_count": 170,
      "outputs": [
        {
          "output_type": "stream",
          "name": "stdout",
          "text": [
            "Range with unpacked list arguments: [3, 4, 5]\n"
          ]
        }
      ]
    },
    {
      "cell_type": "code",
      "source": [
        "# Example 3: Function receiving named arguments via unpacked dictionary\n",
        "def function_that_receives_named_arguments(first_word, second_word):\n",
        "    return first_word + ', ' + second_word + '!'\n",
        "\n",
        "arguments_dictionary = {'first_word': 'rahul', 'second_word': 'chirra'}\n",
        "print(\n",
        "    \"Function with unpacked dictionary arguments:\",\n",
        "    function_that_receives_named_arguments(**arguments_dictionary),\n",
        ")"
      ],
      "metadata": {
        "colab": {
          "base_uri": "https://localhost:8080/"
        },
        "id": "nVMYKKMDove2",
        "outputId": "04755200-6f6f-4434-cf5f-d145776f4ca7"
      },
      "execution_count": 171,
      "outputs": [
        {
          "output_type": "stream",
          "name": "stdout",
          "text": [
            "Function with unpacked dictionary arguments: rahul, chirra!\n"
          ]
        }
      ]
    },
    {
      "cell_type": "markdown",
      "source": [
        "# Lambda Expressions\n",
        "- Small anonymous functions can be created with the lambda keyword. Lambda functions can be used\n",
        "wherever function objects are required. They are syntactically restricted to a single expression.\n",
        "Semantically, they are just syntactic sugar for a normal function definition. Like nested function\n",
        "definitions, lambda functions can reference variables from the containing scope.\n"
      ],
      "metadata": {
        "id": "5sfvxkf90TBm"
      }
    },
    {
      "cell_type": "code",
      "source": [
        "def make_increment_function(delta):\n",
        "    \"\"\"This example uses a lambda expression to return a function\"\"\"\n",
        "    return lambda number: number + delta\n",
        "\n",
        "# Creating an increment function\n",
        "increment_function = make_increment_function(42)\n",
        "\n",
        "# Testing the increment function with various inputs\n",
        "print(f\"increment_function(0): {increment_function(0)}\")  # Expected: 42\n",
        "print(f\"increment_function(1): {increment_function(1)}\")  # Expected: 43\n",
        "print(f\"increment_function(2): {increment_function(2)}\")  # Expected: 44\n",
        "\n",
        "# Another use of lambda is to pass a small function as an argument.\n",
        "pairs = [(1, 'one'), (2, 'two'), (3, 'three'), (4, 'four')]\n",
        "\n",
        "# Sorting pairs by the text key using a lambda function\n",
        "pairs.sort(key=lambda pair: pair[1])\n",
        "\n",
        "# Displaying the sorted pairs\n",
        "print(f\"Sorted pairs: {pairs}\")"
      ],
      "metadata": {
        "id": "f8D_QHOPo0kn",
        "colab": {
          "base_uri": "https://localhost:8080/"
        },
        "outputId": "ebbfebeb-21e8-4e23-9d72-93354f1ee460"
      },
      "execution_count": 172,
      "outputs": [
        {
          "output_type": "stream",
          "name": "stdout",
          "text": [
            "increment_function(0): 42\n",
            "increment_function(1): 43\n",
            "increment_function(2): 44\n",
            "Sorted pairs: [(4, 'four'), (1, 'one'), (3, 'three'), (2, 'two')]\n"
          ]
        }
      ]
    },
    {
      "cell_type": "markdown",
      "source": [
        ":# Documentation Strings\n",
        "- The first line of a docstring should briefly describe the purpose, without naming the object or type (unless it's a verb describing an operation).\n",
        "Start with a capital letter and end with a period.\n",
        "Leave a blank second line if more content follows.\n",
        "Use subsequent lines for details on usage, side effects, and conventions."
      ],
      "metadata": {
        "id": "kMkrFfp_1gcS"
      }
    },
    {
      "cell_type": "code",
      "source": [],
      "metadata": {
        "id": "2DdfL7dkUZGw"
      },
      "execution_count": 172,
      "outputs": []
    },
    {
      "cell_type": "markdown",
      "source": [],
      "metadata": {
        "id": "fvbFMv6-4kXI"
      }
    },
    {
      "cell_type": "code",
      "source": [
        "def do_nothing():\n",
        "    pass\n",
        "\n",
        "\n",
        "# Sequential script execution\n",
        "print(\"Documentation string of 'do_nothing':\")\n",
        "print(do_nothing.__doc__)"
      ],
      "metadata": {
        "id": "V6AHiQlZ03-8",
        "colab": {
          "base_uri": "https://localhost:8080/"
        },
        "outputId": "58477dea-113c-4f0e-c8bb-0d2cbf737ad1"
      },
      "execution_count": 173,
      "outputs": [
        {
          "output_type": "stream",
          "name": "stdout",
          "text": [
            "Documentation string of 'do_nothing':\n",
            "None\n"
          ]
        }
      ]
    },
    {
      "cell_type": "markdown",
      "source": [
        "# Function Annotations.\n",
        "- Function annotations are completely optional metadata information about the types used\n",
        "by user-defined functions.\n"
      ],
      "metadata": {
        "id": "aObBVIUJWX48"
      }
    },
    {
      "cell_type": "code",
      "source": [
        "def breakfast(ham: str, eggs: str = 'eggs') -> str:\n",
        "    return ham + ' and ' + eggs\n",
        "\n",
        "\n",
        "# Sequential execution\n",
        "print(\"Function annotations of 'breakfast':\")\n",
        "print(breakfast.__annotations__)"
      ],
      "metadata": {
        "colab": {
          "base_uri": "https://localhost:8080/"
        },
        "id": "jiJA2BT6V--X",
        "outputId": "80738e14-ca2f-4741-fabd-9a32c6b61888"
      },
      "execution_count": 174,
      "outputs": [
        {
          "output_type": "stream",
          "name": "stdout",
          "text": [
            "Function annotations of 'breakfast':\n",
            "{'ham': <class 'str'>, 'eggs': <class 'str'>, 'return': <class 'str'>}\n"
          ]
        }
      ]
    },
    {
      "cell_type": "markdown",
      "source": [
        "# Function Decorators\n",
        "-  Function Decorators"
      ],
      "metadata": {
        "id": "cpYBw15GW5Tu"
      }
    },
    {
      "cell_type": "code",
      "source": [
        "# This is the function that we want to decorate.\n",
        "def greeting(name):\n",
        "    return \"Hello, {0}!\".format(name)\n",
        "\n",
        "# This function decorates another function's output with a <p> tag.\n",
        "def decorate_with_p(func):\n",
        "    def function_wrapper(name):\n",
        "        return \"<p>{0}</p>\".format(func(name))\n",
        "    return function_wrapper\n",
        "\n",
        "# Using Python's decorator syntax.\n",
        "@decorate_with_p\n",
        "def greeting_with_p(name):\n",
        "    return \"Hello, {0}!\".format(name)\n",
        "\n",
        "# Adding another decorator for wrapping with <div>.\n",
        "def decorate_with_div(func):\n",
        "    def function_wrapper(name):\n",
        "        return \"<div>{0}</div>\".format(func(name))\n",
        "    return function_wrapper\n",
        "\n",
        "# Using multiple decorators.\n",
        "@decorate_with_div\n",
        "@decorate_with_p\n",
        "def greeting_with_div_p(name):\n",
        "    return \"Hello, {0}!\".format(name)\n",
        "\n",
        "# Generalized decorator accepting a tag name.\n",
        "def tags(tag_name):\n",
        "    def tags_decorator(func):\n",
        "        def func_wrapper(name):\n",
        "            return \"<{0}>{1}</{0}>\".format(tag_name, func(name))\n",
        "        return func_wrapper\n",
        "    return tags_decorator\n",
        "\n",
        "@tags('div')\n",
        "@tags('p')\n",
        "def greeting_with_tags(name):\n",
        "    return \"Hello, {0}!\".format(name)\n",
        "\n",
        "# Sequential execution\n",
        "# Create a decorated function.\n",
        "my_get_text = decorate_with_p(greeting)\n",
        "\n",
        "# Display results.\n",
        "print(\"Decorated function output with <p>:\")\n",
        "print(my_get_text('rahul'))  # With decorator.\n",
        "\n",
        "print(\"Original function output without decoration:\")\n",
        "print(greeting('rahul'))  # Without decorator.\n",
        "\n",
        "print(\"Function output decorated with @decorate_with_p:\")\n",
        "print(greeting_with_p('rahul'))\n",
        "\n",
        "print(\"Function output decorated with <div> and <p>:\")\n",
        "print(greeting_with_div_p('rahul'))\n",
        "\n",
        "print(\"Function output with generalized tag-based decorators:\")\n",
        "print(greeting_with_tags('rahul'))"
      ],
      "metadata": {
        "colab": {
          "base_uri": "https://localhost:8080/"
        },
        "id": "iEwfDu-7XNvZ",
        "outputId": "2a518f86-572f-4dad-e565-4fe7546851d3"
      },
      "execution_count": 175,
      "outputs": [
        {
          "output_type": "stream",
          "name": "stdout",
          "text": [
            "Decorated function output with <p>:\n",
            "<p>Hello, rahul!</p>\n",
            "Original function output without decoration:\n",
            "Hello, rahul!\n",
            "Function output decorated with @decorate_with_p:\n",
            "<p>Hello, rahul!</p>\n",
            "Function output decorated with <div> and <p>:\n",
            "<div><p>Hello, rahul!</p></div>\n",
            "Function output with generalized tag-based decorators:\n",
            "<div><p>Hello, rahul!</p></div>\n"
          ]
        }
      ]
    },
    {
      "cell_type": "markdown",
      "source": [
        "# Function Decorators"
      ],
      "metadata": {
        "id": "fz8d6yJxbrNy"
      }
    },
    {
      "cell_type": "code",
      "source": [
        "def greeting(name):\n",
        "    return \"Hello, {0}!\".format(name)\n",
        "\n",
        "def decorate_with_p(func):\n",
        "    def function_wrapper(name):\n",
        "        return \"<p>{0}</p>\".format(func(name))\n",
        "    return function_wrapper\n",
        "\n",
        "# Using the decorator manually\n",
        "my_get_text = decorate_with_p(greeting)\n",
        "print(my_get_text('fuck'))\n",
        "print(greeting('you'))"
      ],
      "metadata": {
        "colab": {
          "base_uri": "https://localhost:8080/"
        },
        "id": "L_KFGKSyX_j9",
        "outputId": "02ab444a-086e-44a1-e7fa-e8658cf69d6c"
      },
      "execution_count": 176,
      "outputs": [
        {
          "output_type": "stream",
          "name": "stdout",
          "text": [
            "<p>Hello, fuck!</p>\n",
            "Hello, you!\n"
          ]
        }
      ]
    },
    {
      "cell_type": "code",
      "source": [
        "# Using Python's decorator syntax\n",
        "@decorate_with_p\n",
        "def greeting_with_p(name):\n",
        "    return \"Hello, {0}!\".format(name)\n",
        "\n",
        "print(greeting_with_p('rahul'))  # Output with @decorate_with_p\n",
        "\n",
        "def decorate_with_div(func):\n",
        "    def function_wrapper(text):\n",
        "        return \"<div>{0}</div>\".format(func(text))\n",
        "    return function_wrapper"
      ],
      "metadata": {
        "colab": {
          "base_uri": "https://localhost:8080/"
        },
        "id": "VDZc90kib65u",
        "outputId": "2b094163-cafa-4afd-cba5-2b8fe1f4849c"
      },
      "execution_count": 177,
      "outputs": [
        {
          "output_type": "stream",
          "name": "stdout",
          "text": [
            "<p>Hello, rahul!</p>\n"
          ]
        }
      ]
    },
    {
      "cell_type": "code",
      "source": [
        "# Combining decorators\n",
        "@decorate_with_div\n",
        "@decorate_with_p\n",
        "def greeting_with_div_p(name):\n",
        "    return \"Hello, {0}!\".format(name)\n",
        "\n",
        "print(greeting_with_div_p('rishi'))"
      ],
      "metadata": {
        "colab": {
          "base_uri": "https://localhost:8080/"
        },
        "id": "JivEZGO-b_kZ",
        "outputId": "f87651a6-4a3e-4507-9014-8af4e843f6d9"
      },
      "execution_count": 178,
      "outputs": [
        {
          "output_type": "stream",
          "name": "stdout",
          "text": [
            "<div><p>Hello, rishi!</p></div>\n"
          ]
        }
      ]
    },
    {
      "cell_type": "code",
      "source": [
        "def tags(tag_name):\n",
        "    def tags_decorator(func):\n",
        "        def func_wrapper(name):\n",
        "            return \"<{0}>{1}</{0}>\".format(tag_name, func(name))\n",
        "        return func_wrapper\n",
        "    return tags_decorator\n",
        "\n",
        "@tags('div')\n",
        "@tags('p')\n",
        "def greeting_with_tags(name):\n",
        "    return \"Hello, {0}!\".format(name)\n",
        "\n",
        "print(greeting_with_tags('rahul'))"
      ],
      "metadata": {
        "colab": {
          "base_uri": "https://localhost:8080/"
        },
        "id": "XjTVXtGmcMtE",
        "outputId": "6b39b673-3b92-42c6-c844-386766420d11"
      },
      "execution_count": 179,
      "outputs": [
        {
          "output_type": "stream",
          "name": "stdout",
          "text": [
            "<div><p>Hello, rahul!</p></div>\n"
          ]
        }
      ]
    },
    {
      "cell_type": "markdown",
      "source": [
        "# Class Definition Syntax\n",
        "- Python is an object oriented programming language.\n",
        "Almost everything in Python is an object, with its properties and methods.\n",
        "A Class is like an object constructor, or a \"blueprint\" for creating objects."
      ],
      "metadata": {
        "id": "CWieHPSycpHF"
      }
    },
    {
      "cell_type": "code",
      "source": [
        "class GreetingClass:\n",
        "\n",
        "    name = 'user'\n",
        "\n",
        "    def say_hello(self):\n",
        "\n",
        "        return 'Hello ' + self.name\n",
        "\n",
        "    def say_goodbye(self):\n",
        "        \"\"\"Class method.\"\"\"\n",
        "        return 'Goodbye ' + self.name\n",
        "\n",
        "# Instantiate the class\n",
        "greeter = GreetingClass()\n",
        "\n",
        "# Sequential operations with outputs\n",
        "print(greeter.say_hello())  # Expected output: Hello user\n",
        "print(greeter.say_goodbye())  # Expected output: Goodbye user"
      ],
      "metadata": {
        "colab": {
          "base_uri": "https://localhost:8080/"
        },
        "id": "6CDVIeOgcahw",
        "outputId": "7c8abb09-7d73-46da-c0e4-173a96bb0d01"
      },
      "execution_count": 180,
      "outputs": [
        {
          "output_type": "stream",
          "name": "stdout",
          "text": [
            "Hello user\n",
            "Goodbye user\n"
          ]
        }
      ]
    },
    {
      "cell_type": "markdown",
      "source": [
        "# Class Definition Syntax."
      ],
      "metadata": {
        "id": "5E4Cy_qcfLEK"
      }
    },
    {
      "cell_type": "code",
      "source": [
        "class ComplexNumber:\n",
        "    \"\"\"Example of the complex numbers class\"\"\"\n",
        "\n",
        "    real = 0\n",
        "    imaginary = 0\n",
        "\n",
        "    def get_real(self):\n",
        "        \"\"\"Return real part of complex number.\"\"\"\n",
        "        return self.real\n",
        "\n",
        "    def get_imaginary(self):\n",
        "        \"\"\"Return imaginary part of complex number.\"\"\"\n",
        "        return self.imaginary\n",
        "\n",
        "\n",
        "# Display the default attributes and docstring\n",
        "print(\"Default real part:\", ComplexNumber.real)\n",
        "print(\"Docstring of class:\", ComplexNumber.__doc__)\n",
        "\n",
        "# Change class attributes and display the updated values\n",
        "ComplexNumber.real = 10\n",
        "print(\"Updated real part:\", ComplexNumber.real)\n",
        "\n",
        "# Instantiate the class and display the instance attributes\n",
        "complex_number = ComplexNumber()\n",
        "print(\"Instance real part (from class):\", complex_number.real)\n",
        "print(\"Instance real part (via method):\", complex_number.get_real())\n",
        "\n",
        "# CLASS INSTANTIATION with constructor to initialize specific attributes\n",
        "class ComplexNumberWithConstructor:\n",
        "    \"\"\"Example of the class with constructor\"\"\"\n",
        "    def __init__(self, real_part, imaginary_part):\n",
        "        self.real = real_part\n",
        "        self.imaginary = imaginary_part\n",
        "\n",
        "    def get_real(self):\n",
        "        \"\"\"Return real part of complex number.\"\"\"\n",
        "        return self.real\n",
        "\n",
        "    def get_imaginary(self):\n",
        "        \"\"\"Return imaginary part of complex number.\"\"\"\n",
        "        return self.imaginary\n",
        "\n",
        "\n",
        "# Instantiate the class with specific values and display them\n",
        "complex_number_with_constructor = ComplexNumberWithConstructor(3.0, -4.5)\n",
        "print(\"Real part of instantiated object:\", complex_number_with_constructor.real)\n",
        "print(\"Imaginary part of instantiated object:\", complex_number_with_constructor.imaginary)"
      ],
      "metadata": {
        "colab": {
          "base_uri": "https://localhost:8080/"
        },
        "id": "QXz62IBNer9V",
        "outputId": "a930fa6d-77a1-4f55-8b84-51bde7cfcfb3"
      },
      "execution_count": 181,
      "outputs": [
        {
          "output_type": "stream",
          "name": "stdout",
          "text": [
            "Default real part: 0\n",
            "Docstring of class: Example of the complex numbers class\n",
            "Updated real part: 10\n",
            "Instance real part (from class): 10\n",
            "Instance real part (via method): 10\n",
            "Real part of instantiated object: 3.0\n",
            "Imaginary part of instantiated object: -4.5\n"
          ]
        }
      ]
    },
    {
      "cell_type": "markdown",
      "source": [
        "# Class Definition Syntax.\n",
        "- The only operations understood by instance objects are attribute references:\n",
        "- Data attributes\n",
        "- Methods.\n"
      ],
      "metadata": {
        "id": "TJyr1TqFf1MV"
      }
    },
    {
      "cell_type": "code",
      "source": [
        "class DummyClass:\n",
        "    \"\"\"Dummy class.\"\"\"\n",
        "    pass\n",
        "\n",
        "# Create an instance of DummyClass\n",
        "dummy_instance = DummyClass()\n",
        "\n",
        "# Add a temporary attribute dynamically and display its value\n",
        "dummy_instance.temporary_attribute = 1\n",
        "print(\"Temporary attribute value:\", dummy_instance.temporary_attribute)\n",
        "\n",
        "# Delete the temporary attribute and confirm it is removed\n",
        "del dummy_instance.temporary_attribute\n",
        "try:\n",
        "    print(dummy_instance.temporary_attribute)\n",
        "except AttributeError:\n",
        "    print(\"Temporary attribute has been deleted.\")"
      ],
      "metadata": {
        "colab": {
          "base_uri": "https://localhost:8080/"
        },
        "id": "qitmbn9Nfe33",
        "outputId": "85dce237-ba0d-4096-d773-1ac7a12245fd"
      },
      "execution_count": 182,
      "outputs": [
        {
          "output_type": "stream",
          "name": "stdout",
          "text": [
            "Temporary attribute value: 1\n",
            "Temporary attribute has been deleted.\n"
          ]
        }
      ]
    },
    {
      "cell_type": "markdown",
      "source": [
        "Standalone Script Without Assertions.**bold text**"
      ],
      "metadata": {
        "id": "qauuAncBh6pa"
      }
    },
    {
      "cell_type": "code",
      "source": [
        "class MyCounter:\n",
        "    \"\"\"A simple example of the counter class\"\"\"\n",
        "    counter = 10\n",
        "\n",
        "    def get_counter(self):\n",
        "        \"\"\"Return the counter\"\"\"\n",
        "        return self.counter\n",
        "\n",
        "    def increment_counter(self):\n",
        "        \"\"\"Increment the counter\"\"\"\n",
        "        self.counter += 1\n",
        "        return self.counter\n",
        "\n",
        "\n",
        "# Method Objects demonstration\n",
        "counter = MyCounter()\n",
        "\n",
        "# Directly displaying the results instead of using assertions\n",
        "print(\"Initial counter value (using instance method):\", counter.get_counter())\n",
        "\n",
        "# Storing method object and calling it later\n",
        "get_counter = counter.get_counter\n",
        "print(\"Stored method call result:\", get_counter())\n",
        "\n",
        "# Equivalent of calling the method via the class by passing the instance\n",
        "print(\"Counter value (using class method with instance):\", MyCounter.get_counter(counter))"
      ],
      "metadata": {
        "colab": {
          "base_uri": "https://localhost:8080/"
        },
        "id": "B649Yq2kh8Lx",
        "outputId": "dd356be8-5ef7-461f-a7f7-086aff81ee30"
      },
      "execution_count": 183,
      "outputs": [
        {
          "output_type": "stream",
          "name": "stdout",
          "text": [
            "Initial counter value (using instance method): 10\n",
            "Stored method call result: 10\n",
            "Counter value (using class method with instance): 10\n"
          ]
        }
      ]
    },
    {
      "cell_type": "markdown",
      "source": [
        "# Standalone Script Without **Assertions**"
      ],
      "metadata": {
        "id": "EhHxffWAiUJR"
      }
    },
    {
      "cell_type": "code",
      "source": [
        "# Class and Instance Variables\n",
        "class Dog:\n",
        "    \"\"\"Dog class example\"\"\"\n",
        "    kind = 'canine'  # Class variable shared by all instances.\n",
        "\n",
        "    def __init__(self, name):\n",
        "        self.name = name  # Instance variable unique to each instance.\n",
        "\n",
        "# Demonstration of class and instance variables\n",
        "fido = Dog('Fido')\n",
        "buddy = Dog('Buddy')\n",
        "\n",
        "print(\"Fido's kind:\", fido.kind)\n",
        "print(\"Buddy's kind:\", buddy.kind)\n",
        "\n",
        "print(\"Fido's name:\", fido.name)\n",
        "print(\"Buddy's name:\", buddy.name)\n",
        "\n",
        "# Shared data issue with mutable objects\n",
        "class DogWithSharedTricks:\n",
        "    \"\"\"Dog class example with wrong shared variable usage\"\"\"\n",
        "    tricks = []  # Mistaken use of a class variable for mutable objects.\n",
        "\n",
        "    def __init__(self, name):\n",
        "        self.name = name  # Instance variable unique to each instance.\n",
        "\n",
        "    def add_trick(self, trick):\n",
        "        \"\"\"Add trick to the dog\"\"\"\n",
        "        self.tricks.append(trick)\n",
        "\n",
        "fido = DogWithSharedTricks('Fido')\n",
        "buddy = DogWithSharedTricks('Buddy')\n",
        "\n",
        "fido.add_trick('roll over')\n",
        "buddy.add_trick('play dead')\n",
        "\n",
        "print(\"Shared tricks (Fido):\", fido.tricks)\n",
        "print(\"Shared tricks (Buddy):\", buddy.tricks)\n",
        "\n",
        "# Correct design using instance variables\n",
        "class DogWithTricks:\n",
        "    \"\"\"Dog class example\"\"\"\n",
        "\n",
        "    def __init__(self, name):\n",
        "        self.name = name  # Instance variable unique to each instance.\n",
        "        self.tricks = []  # creates a new empty list for each dog\n",
        "\n",
        "    def add_trick(self, trick):\n",
        "        \"\"\"Add trick to the dog\"\"\"\n",
        "        self.tricks.append(trick)\n",
        "\n",
        "fido = DogWithTricks('Fido')\n",
        "buddy = DogWithTricks('Buddy')\n",
        "\n",
        "fido.add_trick('roll over')\n",
        "buddy.add_trick('play dead')\n",
        "\n",
        "print(\"Tricks for Fido:\", fido.tricks)\n",
        "print(\"Tricks for Buddy:\", buddy.tricks)"
      ],
      "metadata": {
        "colab": {
          "base_uri": "https://localhost:8080/"
        },
        "id": "aN42pG7SiCpB",
        "outputId": "b6abe9c7-8413-4720-d906-d0f1472e2f05"
      },
      "execution_count": 184,
      "outputs": [
        {
          "output_type": "stream",
          "name": "stdout",
          "text": [
            "Fido's kind: canine\n",
            "Buddy's kind: canine\n",
            "Fido's name: Fido\n",
            "Buddy's name: Buddy\n",
            "Shared tricks (Fido): ['roll over', 'play dead']\n",
            "Shared tricks (Buddy): ['roll over', 'play dead']\n",
            "Tricks for Fido: ['roll over']\n",
            "Tricks for Buddy: ['play dead']\n"
          ]
        }
      ]
    },
    {
      "cell_type": "markdown",
      "source": [
        "Standalone Script Demonstrating **Inheritance**"
      ],
      "metadata": {
        "id": "HK-vS3p7i2FF"
      }
    },
    {
      "cell_type": "code",
      "source": [
        "# Base class\n",
        "class Person:\n",
        "    \"\"\"Example of the base class\"\"\"\n",
        "    def __init__(self, name):\n",
        "        self.name = name\n",
        "\n",
        "    def get_name(self):\n",
        "        \"\"\"Get person name\"\"\"\n",
        "        return self.name\n",
        "\n",
        "\n",
        "# Derived class\n",
        "class Employee(Person):\n",
        "    \"\"\"Example of the derived class\"\"\"\n",
        "    def __init__(self, name, staff_id):\n",
        "        super().__init__(name)  # Using super() to initialize the base class\n",
        "        self.staff_id = staff_id\n",
        "\n",
        "    def get_full_id(self):\n",
        "        \"\"\"Get full employee id\"\"\"\n",
        "        return self.get_name() + ', ' + self.staff_id\n",
        "\n",
        "\n",
        "# Demonstrating inheritance and functionality\n",
        "person = Person('CHIRRA')\n",
        "employee = Employee('RAHUL', 'A23')\n",
        "\n",
        "print(\"Person's name:\", person.get_name())\n",
        "print(\"Employee's name:\", employee.get_name())\n",
        "print(\"Employee's full ID:\", employee.get_full_id())\n",
        "\n",
        "# Demonstrating isinstance and issubclass functions\n",
        "print(\"Is 'employee' an instance of Employee?\", isinstance(employee, Employee))\n",
        "print(\"Is 'person' an instance of Employee?\", isinstance(person, Employee))\n",
        "\n",
        "print(\"Is 'person' an instance of Person?\", isinstance(person, Person))\n",
        "print(\"Is 'employee' an instance of Person?\", isinstance(employee, Person))\n",
        "\n",
        "print(\"Is Employee a subclass of Person?\", issubclass(Employee, Person))\n",
        "print(\"Is Person a subclass of Employee?\", issubclass(Person, Employee))"
      ],
      "metadata": {
        "colab": {
          "base_uri": "https://localhost:8080/"
        },
        "id": "54oQtnjYifFm",
        "outputId": "ca1945dd-3734-46f6-d740-b89128d89bd0"
      },
      "execution_count": 185,
      "outputs": [
        {
          "output_type": "stream",
          "name": "stdout",
          "text": [
            "Person's name: CHIRRA\n",
            "Employee's name: RAHUL\n",
            "Employee's full ID: RAHUL, A23\n",
            "Is 'employee' an instance of Employee? True\n",
            "Is 'person' an instance of Employee? False\n",
            "Is 'person' an instance of Person? True\n",
            "Is 'employee' an instance of Person? True\n",
            "Is Employee a subclass of Person? True\n",
            "Is Person a subclass of Employee? False\n"
          ]
        }
      ]
    },
    {
      "cell_type": "markdown",
      "source": [
        "Multiple **Inheritance**\n",
        "- Some classes may derive from multiple classes. This means that the derived class would have\n",
        "its attributes, along with the attributes of all the classes that it was derived from."
      ],
      "metadata": {
        "id": "-SIxg8GRlkWp"
      }
    },
    {
      "source": [
        "# Base class\n",
        "class Clock:\n",
        "    time = '11:23 PM'  # Example of class variable\n",
        "\n",
        "    def get_time(self):\n",
        "        return self.time\n",
        "\n",
        "# pylint: disable=too-few-public-methods\n",
        "class Calendar:\n",
        "    date = '01/01/2025'\n",
        "\n",
        "    def get_date(self):\n",
        "        return self.date\n",
        "\n",
        "# Python supports a form of multiple inheritance as well. A class definition with multiple\n",
        "# base classes looks like this.\n",
        "class CalendarClock(Clock, Calendar):\n",
        "    \"\"\"CalendarClock class inheriting from Clock and Calendar\"\"\"\n",
        "    def __init__(self):\n",
        "        # optionally initialize some attributes here if needed\n",
        "        pass\n",
        "\n",
        "calendar_clock = CalendarClock()\n",
        "\n",
        "# Print statements to verify the functionality\n",
        "print(calendar_clock.get_date())  # Expected output: '12/08/2018'\n",
        "print(calendar_clock.get_time())  # Expected output: '11:23 PM'"
      ],
      "cell_type": "code",
      "metadata": {
        "colab": {
          "base_uri": "https://localhost:8080/"
        },
        "id": "HCxLVWwdmCUw",
        "outputId": "41da021b-3e6e-4407-c58b-69fb0f691835"
      },
      "execution_count": 186,
      "outputs": [
        {
          "output_type": "stream",
          "name": "stdout",
          "text": [
            "01/01/2025\n",
            "11:23 PM\n"
          ]
        }
      ]
    },
    {
      "cell_type": "markdown",
      "source": [
        "ends."
      ],
      "metadata": {
        "id": "_OQozPGomc6M"
      }
    }
  ]
}