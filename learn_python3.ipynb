{
  "nbformat": 4,
  "nbformat_minor": 0,
  "metadata": {
    "colab": {
      "provenance": []
    },
    "kernelspec": {
      "name": "python3",
      "display_name": "Python 3"
    },
    "language_info": {
      "name": "python"
    }
  },
  "cells": [
    {
      "cell_type": "markdown",
      "source": [
        "# Python3 🐍\n",
        "- Easy to Learn: Python has a simple syntax that resembles the English language.\n",
        "- Powerful: It provides efficient high-level data structures and supports object-oriented programming.\n",
        "- Dynamic and Interpreted: Python's dynamic typing and interpreted nature make it suitable for rapid prototyping and scripting across various platforms."
      ],
      "metadata": {
        "id": "krKXpnmGjCeq"
      }
    },
    {
      "cell_type": "markdown",
      "source": [
        "**Python Syntax** 👨🏻‍💻\n",
        "- Python Syntax Compared to Other Programming Languages\n",
        "Readability Focused:\n",
        "\n",
        "- Python was designed with readability in mind, with similarities to the English language and mathematical influence.\n",
        "New Line Delimiters:\n",
        "\n",
        "- Python uses new lines to complete a command, instead of semicolons (;) or parentheses ({}).\n",
        "Indentation for Scope:\n",
        "\n",
        "- Python relies on indentation (whitespace) to define the scope of loops, functions, and classes.\n",
        "Other programming languages often use curly brackets {} for this purpose."
      ],
      "metadata": {
        "id": "_D5BYmqRRq_E"
      }
    },
    {
      "cell_type": "code",
      "execution_count": null,
      "metadata": {
        "colab": {
          "base_uri": "https://localhost:8080/"
        },
        "id": "pH1ek1TT5zrl",
        "outputId": "fb018e48-474a-41ca-af4a-1b4426744ecb"
      },
      "outputs": [
        {
          "output_type": "stream",
          "name": "stdout",
          "text": [
            "Five is greater than two!\n"
          ]
        }
      ],
      "source": [
        "if 5 > 2:\n",
        "  print(\"Five is greater than two!\")"
      ]
    },
    {
      "cell_type": "markdown",
      "source": [
        "**Comments**  📌\n",
        "- Python supports comments to add in-code documentation.\n",
        "- Comments start with a #. Everything after the # on the same line is ignored by Python."
      ],
      "metadata": {
        "id": "wf3-Aqta9rpe"
      }
    },
    {
      "cell_type": "code",
      "source": [
        "# This is a comment\n",
        "print(\"rahul i love you!!\")"
      ],
      "metadata": {
        "colab": {
          "base_uri": "https://localhost:8080/"
        },
        "id": "0MjvC5eO9c9J",
        "outputId": "784411fb-7f78-437f-af07-b995b27c0dba"
      },
      "execution_count": null,
      "outputs": [
        {
          "output_type": "stream",
          "name": "stdout",
          "text": [
            "rahul i love you!!\n"
          ]
        }
      ]
    },
    {
      "cell_type": "markdown",
      "source": [
        "Docstrings\n",
        "1. python also has extended documentation capability called docstrings\n",
        "2. docstrings can b one line or multiple lines Docstrings are also comments\n",
        "3. uses triple quotes at the beginning and end of the docstring:"
      ],
      "metadata": {
        "id": "jN728ReV-LsR"
      }
    },
    {
      "cell_type": "code",
      "source": [
        "# Single-line docstring\n",
        "\"\"\"This is a single-line docstring.\"\"\"\n",
        "print(\"rahul marry me \")"
      ],
      "metadata": {
        "colab": {
          "base_uri": "https://localhost:8080/"
        },
        "id": "5scIt6NTSRbS",
        "outputId": "49d2acb4-1371-46d7-9a4c-99fb456b91bf"
      },
      "execution_count": null,
      "outputs": [
        {
          "output_type": "stream",
          "name": "stdout",
          "text": [
            "rahul marry me \n"
          ]
        }
      ]
    },
    {
      "cell_type": "code",
      "source": [
        "# Multi-line docstring\n",
        "\"\"\"\n",
        "This is a multiline\n",
        "docstring.\n",
        "\"\"\"\n",
        "print(\"can't live without you rahul\")"
      ],
      "metadata": {
        "colab": {
          "base_uri": "https://localhost:8080/"
        },
        "id": "AL6ek2v4-COP",
        "outputId": "8216bd8a-2078-4247-b817-4c3f5cd6db10"
      },
      "execution_count": null,
      "outputs": [
        {
          "output_type": "stream",
          "name": "stdout",
          "text": [
            "can't live without you rahul\n"
          ]
        }
      ]
    },
    {
      "cell_type": "markdown",
      "source": [
        "# variables 🌱\n",
        "1. python is completly object oriented and not \"satically typed\"\n",
        "2. python has no command for declaring a variable\n",
        "3. a variable is created the moment u first assign the a value to it\n",
        "4. a variable can have short name like x and y or more descriptive name\n",
        "\n",
        "rules for python variables:\n",
        "- A varible name must start with a letter or underscore char.\n",
        "- a varible name cannot start with a number.\n",
        "- a variable name can only contain alpha-numeric char and underscores (a-z,0-9 and _ ).\n",
        "- a varible names are case sensitive (age, Age, AGE are the different varaibles)."
      ],
      "metadata": {
        "id": "cwLSploU_gmz"
      }
    },
    {
      "cell_type": "code",
      "source": [
        "x = 2\n",
        "y = 'rahul chirra'\n",
        "z = 99.9  #float\n",
        "print(x)\n",
        "print(y)\n",
        "print(z)"
      ],
      "metadata": {
        "colab": {
          "base_uri": "https://localhost:8080/"
        },
        "id": "ZnZTUuyZDxcj",
        "outputId": "301c8053-5a0e-43df-8d6e-bc422e6bd4f6"
      },
      "execution_count": null,
      "outputs": [
        {
          "output_type": "stream",
          "name": "stdout",
          "text": [
            "2\n",
            "rahul chirra\n",
            "99.9\n"
          ]
        }
      ]
    },
    {
      "cell_type": "code",
      "source": [
        "# Test variables\n",
        "integer_variable = 5\n",
        "string_variable = 'rahul'\n",
        "\n",
        "print(integer_variable)\n",
        "print(string_variable)"
      ],
      "metadata": {
        "id": "4whS4AWB-_lD",
        "colab": {
          "base_uri": "https://localhost:8080/"
        },
        "outputId": "2235c6eb-9d51-4a7f-db79-815301c8bc3d"
      },
      "execution_count": null,
      "outputs": [
        {
          "output_type": "stream",
          "name": "stdout",
          "text": [
            "5\n",
            "rahul\n"
          ]
        }
      ]
    },
    {
      "cell_type": "code",
      "source": [
        "variable_with_changed_type = 4  # Initially of type int\n",
        "variable_with_changed_type = 'batman'  # Now of type str\n",
        "\n",
        "print(variable_with_changed_type)"
      ],
      "metadata": {
        "colab": {
          "base_uri": "https://localhost:8080/"
        },
        "id": "jv9r-gh3TEz5",
        "outputId": "ff6b88af-b1ff-47a0-c366-d3c004982578"
      },
      "execution_count": null,
      "outputs": [
        {
          "output_type": "stream",
          "name": "stdout",
          "text": [
            "batman\n"
          ]
        }
      ]
    },
    {
      "cell_type": "markdown",
      "source": [
        "# Operators 🛡️\n",
        "**Arithmetic operatios**\n",
        "- aritthetic operations are used  with numeric values to perform common mathematical operations\n",
        "- Addition (+)\n",
        "- Subtraction (-)\n",
        "- Multiplication (*)\n",
        "- Division (/)\n",
        "- Modulus (%)\n",
        "- Exponentiation (**)\n",
        "- Floor Division (//)"
      ],
      "metadata": {
        "id": "Up5eRZxYGAdQ"
      }
    },
    {
      "cell_type": "code",
      "source": [
        "# Addition\n",
        "print(5 + 3)"
      ],
      "metadata": {
        "colab": {
          "base_uri": "https://localhost:8080/"
        },
        "id": "v_-QatdcIzyH",
        "outputId": "9dbc4e0e-fb22-4bb5-97f9-2d44b74f265a"
      },
      "execution_count": null,
      "outputs": [
        {
          "output_type": "stream",
          "name": "stdout",
          "text": [
            "8\n"
          ]
        }
      ]
    },
    {
      "cell_type": "code",
      "source": [
        "# Subtraction\n",
        "print(5 - 3)"
      ],
      "metadata": {
        "colab": {
          "base_uri": "https://localhost:8080/"
        },
        "id": "8oasNYeMK9eB",
        "outputId": "3aeeef7e-1d4b-49b1-e0f3-f1376e2cba4b"
      },
      "execution_count": null,
      "outputs": [
        {
          "output_type": "stream",
          "name": "stdout",
          "text": [
            "2\n"
          ]
        }
      ]
    },
    {
      "cell_type": "code",
      "source": [
        "# Multiplication\n",
        "print(5 * 3)\n",
        "print(isinstance(5 * 3, int))"
      ],
      "metadata": {
        "colab": {
          "base_uri": "https://localhost:8080/"
        },
        "id": "tyqkRRKsLFvP",
        "outputId": "eb75fb84-1fbb-4ad2-a3d7-0c35dc0504c1"
      },
      "execution_count": null,
      "outputs": [
        {
          "output_type": "stream",
          "name": "stdout",
          "text": [
            "15\n",
            "True\n"
          ]
        }
      ]
    },
    {
      "cell_type": "code",
      "source": [
        "# Division\n",
        "print(5 / 3)\n",
        "print(8 / 4)\n",
        "print(isinstance(5 / 3, float))\n",
        "print(isinstance(8 / 4, float))"
      ],
      "metadata": {
        "colab": {
          "base_uri": "https://localhost:8080/"
        },
        "id": "Ok9D_xAJLINX",
        "outputId": "34d17ef6-ab7c-4610-c607-9b964e6151c8"
      },
      "execution_count": null,
      "outputs": [
        {
          "output_type": "stream",
          "name": "stdout",
          "text": [
            "1.6666666666666667\n",
            "2.0\n",
            "True\n",
            "True\n"
          ]
        }
      ]
    },
    {
      "cell_type": "code",
      "source": [
        "# Modulus\n",
        "print(5 % 3)"
      ],
      "metadata": {
        "colab": {
          "base_uri": "https://localhost:8080/"
        },
        "id": "26HmBnKvLKoa",
        "outputId": "39e2b378-7dc7-464f-d245-8ae5e0648cfe"
      },
      "execution_count": null,
      "outputs": [
        {
          "output_type": "stream",
          "name": "stdout",
          "text": [
            "2\n"
          ]
        }
      ]
    },
    {
      "cell_type": "code",
      "source": [
        "# Exponentiation\n",
        "print(5 ** 3)\n",
        "print(2 ** 3)\n",
        "print(2 ** 4)\n",
        "print(2 ** 5)\n",
        "print(isinstance(5 ** 3, int))"
      ],
      "metadata": {
        "colab": {
          "base_uri": "https://localhost:8080/"
        },
        "id": "azzl921OLNgS",
        "outputId": "9da4c100-4f2b-4df2-fbe0-d9f88df51c93"
      },
      "execution_count": null,
      "outputs": [
        {
          "output_type": "stream",
          "name": "stdout",
          "text": [
            "125\n",
            "8\n",
            "16\n",
            "32\n",
            "True\n"
          ]
        }
      ]
    },
    {
      "cell_type": "code",
      "source": [
        "# Floor division\n",
        "print(5 // 3)\n",
        "print(6 // 3)\n",
        "print(7 // 3)\n",
        "print(9 // 3)\n",
        "print(isinstance(5 // 3, int))"
      ],
      "metadata": {
        "colab": {
          "base_uri": "https://localhost:8080/"
        },
        "id": "EJQljpq0LBG6",
        "outputId": "fc01e1e6-ddce-4aca-d587-cb8364141362"
      },
      "execution_count": null,
      "outputs": [
        {
          "output_type": "stream",
          "name": "stdout",
          "text": [
            "1\n",
            "2\n",
            "2\n",
            "3\n",
            "True\n"
          ]
        }
      ]
    },
    {
      "cell_type": "markdown",
      "source": [
        "# Bitwise Operators: ♻️\n",
        "- AND (&): Sets each bit to 1 if both bits are 1.\n",
        "- OR (|): Sets each bit to 1 if one of the two bits is 1.\n",
        "- NOT (~): Inverts all the bits.\n",
        "- XOR (^): Sets each bit to 1 if only one of the two bits is 1.\n",
        "- Signed Right Shift (>>): Shifts bits to the right, filling with the sign bit.\n",
        "- **Left** Shift (<<): Shifts bits to the left, filling with zeros."
      ],
      "metadata": {
        "id": "UPrP5_9GJmb-"
      }
    },
    {
      "cell_type": "code",
      "source": [
        "# Bitwise operators in Python\n",
        "# AND\n",
        "# Sets each bit to 1 if both bits are 1.\n",
        "# Example: 5 = 0b0101, 3 = 0b0011\n",
        "print(5 & 3)"
      ],
      "metadata": {
        "colab": {
          "base_uri": "https://localhost:8080/"
        },
        "id": "cAYVGsuwKb3D",
        "outputId": "cc01571d-8a66-4c62-cbd5-e8155dbda2df"
      },
      "execution_count": null,
      "outputs": [
        {
          "output_type": "stream",
          "name": "stdout",
          "text": [
            "1\n"
          ]
        }
      ]
    },
    {
      "cell_type": "code",
      "source": [
        "# OR\n",
        "# Sets each bit to 1 if one of two bits is 1.\n",
        "# Example: 5 = 0b0101, 3 = 0b0011\n",
        "print(5 | 3)"
      ],
      "metadata": {
        "colab": {
          "base_uri": "https://localhost:8080/"
        },
        "id": "d5yC6AFvKhFa",
        "outputId": "16fa41c1-f92d-4741-ba32-14faa4a28e50"
      },
      "execution_count": null,
      "outputs": [
        {
          "output_type": "stream",
          "name": "stdout",
          "text": [
            "7\n"
          ]
        }
      ]
    },
    {
      "cell_type": "code",
      "source": [
        "# NOT\n",
        "# Inverts all the bits.\n",
        "print(~5)"
      ],
      "metadata": {
        "colab": {
          "base_uri": "https://localhost:8080/"
        },
        "id": "IHWtToLwKmaE",
        "outputId": "2b875783-b34c-4ab1-d53c-1d9948fa8c1a"
      },
      "execution_count": null,
      "outputs": [
        {
          "output_type": "stream",
          "name": "stdout",
          "text": [
            "-6\n"
          ]
        }
      ]
    },
    {
      "cell_type": "code",
      "source": [
        "# XOR\n",
        "# Sets each bit to 1 if only one of two bits is 1.\n",
        "# Example: 5 = 0b0101, 3 = 0b0011\n",
        "print(5 ^ 3)"
      ],
      "metadata": {
        "colab": {
          "base_uri": "https://localhost:8080/"
        },
        "id": "7wvF_F2aKpi7",
        "outputId": "f9242d9f-da8f-4c7f-89c1-b2300098a5fe"
      },
      "execution_count": null,
      "outputs": [
        {
          "output_type": "stream",
          "name": "stdout",
          "text": [
            "6\n"
          ]
        }
      ]
    },
    {
      "cell_type": "code",
      "source": [
        "# Signed right shift\n",
        "# Shift right by pushing copies of the leftmost bit in from the left, and let the rightmost bits fall off.\n",
        "# Example: 5 = 0b0101\n",
        "print(5 >> 1)\n",
        "print(5 >> 2)"
      ],
      "metadata": {
        "colab": {
          "base_uri": "https://localhost:8080/"
        },
        "id": "8Qvj0JTuKtzn",
        "outputId": "b2912c74-00e4-40d2-f5ed-4daa9e8ff8bd"
      },
      "execution_count": null,
      "outputs": [
        {
          "output_type": "stream",
          "name": "stdout",
          "text": [
            "2\n",
            "1\n"
          ]
        }
      ]
    },
    {
      "cell_type": "code",
      "source": [
        "# Zero fill left shift\n",
        "# Shift left by pushing zeros in from the right and let the leftmost bits fall off.\n",
        "# Example: 5 = 0b0101\n",
        "print(5 << 1)\n",
        "print(5 << 2)"
      ],
      "metadata": {
        "colab": {
          "base_uri": "https://localhost:8080/"
        },
        "id": "fjs3JCT_JQ5B",
        "outputId": "b548d4ba-7a91-4996-9fb9-e496aaf8534f"
      },
      "execution_count": null,
      "outputs": [
        {
          "output_type": "stream",
          "name": "stdout",
          "text": [
            "10\n",
            "20\n"
          ]
        }
      ]
    },
    {
      "cell_type": "markdown",
      "source": [
        "# Assignment operators ❎\n",
        "- Assignment operators are used to assign values to variables"
      ],
      "metadata": {
        "id": "lEwjzS0_FFI5"
      }
    },
    {
      "cell_type": "code",
      "source": [
        "# Assignment: =\n",
        "number = 5\n",
        "print(number)"
      ],
      "metadata": {
        "colab": {
          "base_uri": "https://localhost:8080/"
        },
        "id": "hdpXQYXoOI2a",
        "outputId": "814a001e-6c8a-4deb-de89-7885946491d5"
      },
      "execution_count": null,
      "outputs": [
        {
          "output_type": "stream",
          "name": "stdout",
          "text": [
            "5\n"
          ]
        }
      ]
    },
    {
      "cell_type": "code",
      "source": [
        "# Multiple assignment\n",
        "# The variables first_variable and second_variable simultaneously get the new values 0 and 1.\n",
        "first_variable, second_variable = 0, 1\n",
        "print(first_variable)\n",
        "print(second_variable)"
      ],
      "metadata": {
        "colab": {
          "base_uri": "https://localhost:8080/"
        },
        "id": "GzkwkkmMOM5E",
        "outputId": "a7a4b0f6-37ac-4c49-e65a-182641c0016b"
      },
      "execution_count": null,
      "outputs": [
        {
          "output_type": "stream",
          "name": "stdout",
          "text": [
            "0\n",
            "1\n"
          ]
        }
      ]
    },
    {
      "cell_type": "code",
      "source": [
        "# Switching variable values using multiple assignment\n",
        "first_variable, second_variable = second_variable, first_variable\n",
        "print(first_variable)\n",
        "print(second_variable)"
      ],
      "metadata": {
        "colab": {
          "base_uri": "https://localhost:8080/"
        },
        "id": "9l-uNGWLOUKC",
        "outputId": "75ae3f2f-2d0c-461d-9b71-9ff87faf7696"
      },
      "execution_count": null,
      "outputs": [
        {
          "output_type": "stream",
          "name": "stdout",
          "text": [
            "1\n",
            "0\n"
          ]
        }
      ]
    },
    {
      "cell_type": "markdown",
      "source": [
        "- Augmented assignment operators\n"
      ],
      "metadata": {
        "id": "Jz-QTSYeFpVP"
      }
    },
    {
      "cell_type": "code",
      "source": [
        "# Assignment: +=\n",
        "number = 5\n",
        "number += 3\n",
        "print(number)"
      ],
      "metadata": {
        "colab": {
          "base_uri": "https://localhost:8080/"
        },
        "id": "ZZus2t-mOWcS",
        "outputId": "dbcf900e-bedb-4f8a-a85d-86ecde2945ab"
      },
      "execution_count": null,
      "outputs": [
        {
          "output_type": "stream",
          "name": "stdout",
          "text": [
            "8\n"
          ]
        }
      ]
    },
    {
      "cell_type": "code",
      "source": [
        "# Assignment: -=\n",
        "number = 5\n",
        "number -= 3\n",
        "print(number)"
      ],
      "metadata": {
        "colab": {
          "base_uri": "https://localhost:8080/"
        },
        "id": "2DXXmJ-jOYxY",
        "outputId": "9a867baf-b22c-4e27-baae-971a2f19a938"
      },
      "execution_count": null,
      "outputs": [
        {
          "output_type": "stream",
          "name": "stdout",
          "text": [
            "2\n"
          ]
        }
      ]
    },
    {
      "cell_type": "code",
      "source": [
        "# Assignment: *=\n",
        "number = 5\n",
        "number *= 3\n",
        "print(number)"
      ],
      "metadata": {
        "colab": {
          "base_uri": "https://localhost:8080/"
        },
        "id": "QPKytELjOa4U",
        "outputId": "fca4afde-68bc-4332-fc21-eedc26833f20"
      },
      "execution_count": null,
      "outputs": [
        {
          "output_type": "stream",
          "name": "stdout",
          "text": [
            "15\n"
          ]
        }
      ]
    },
    {
      "cell_type": "code",
      "source": [
        "# Assignment: /=\n",
        "number = 8\n",
        "number /= 4\n",
        "print(number)"
      ],
      "metadata": {
        "colab": {
          "base_uri": "https://localhost:8080/"
        },
        "id": "Le8xsphYOdCw",
        "outputId": "d816ef7b-fcb2-4ea4-b91d-32aae6ddd41e"
      },
      "execution_count": null,
      "outputs": [
        {
          "output_type": "stream",
          "name": "stdout",
          "text": [
            "2.0\n"
          ]
        }
      ]
    },
    {
      "cell_type": "code",
      "source": [
        "# Assignment: %=\n",
        "number = 8\n",
        "number %= 3\n",
        "print(number)\n",
        "\n",
        "number = 5\n",
        "number %= 3\n",
        "print(number)"
      ],
      "metadata": {
        "colab": {
          "base_uri": "https://localhost:8080/"
        },
        "id": "bHxXTJajOgJp",
        "outputId": "71ba400e-3db3-4ecb-8428-618e89991a47"
      },
      "execution_count": null,
      "outputs": [
        {
          "output_type": "stream",
          "name": "stdout",
          "text": [
            "2\n",
            "2\n"
          ]
        }
      ]
    },
    {
      "cell_type": "code",
      "source": [
        "# Assignment: //=\n",
        "number = 5\n",
        "number //= 3\n",
        "print(number)"
      ],
      "metadata": {
        "colab": {
          "base_uri": "https://localhost:8080/"
        },
        "id": "HeSwTY7IOjKQ",
        "outputId": "fd4210df-4b79-45df-ba2e-fa7a66c04901"
      },
      "execution_count": null,
      "outputs": [
        {
          "output_type": "stream",
          "name": "stdout",
          "text": [
            "1\n"
          ]
        }
      ]
    },
    {
      "cell_type": "code",
      "source": [
        "# Assignment: **=\n",
        "number = 5\n",
        "number **= 3\n",
        "print(number)"
      ],
      "metadata": {
        "colab": {
          "base_uri": "https://localhost:8080/"
        },
        "id": "EoR1FkVTOl05",
        "outputId": "96fb2632-081a-4cc6-b530-0db7312ced51"
      },
      "execution_count": null,
      "outputs": [
        {
          "output_type": "stream",
          "name": "stdout",
          "text": [
            "125\n"
          ]
        }
      ]
    },
    {
      "cell_type": "code",
      "source": [
        "# Assignment: &=\n",
        "number = 5  # 0b0101\n",
        "number &= 3  # 0b0011\n",
        "print(number)  # 0b0001"
      ],
      "metadata": {
        "colab": {
          "base_uri": "https://localhost:8080/"
        },
        "id": "T2gVnF-jOoPx",
        "outputId": "9282bf9e-f1d0-4095-e6d3-3d1b3b962a1b"
      },
      "execution_count": null,
      "outputs": [
        {
          "output_type": "stream",
          "name": "stdout",
          "text": [
            "1\n"
          ]
        }
      ]
    },
    {
      "cell_type": "code",
      "source": [
        "# Assignment: |=\n",
        "number = 5  # 0b0101\n",
        "number |= 3  # 0b0011\n",
        "print(number)  # 0b0111"
      ],
      "metadata": {
        "colab": {
          "base_uri": "https://localhost:8080/"
        },
        "id": "gjAYuTp4OrCa",
        "outputId": "87850d07-eef6-425b-fd0b-9a789d2a5750"
      },
      "execution_count": null,
      "outputs": [
        {
          "output_type": "stream",
          "name": "stdout",
          "text": [
            "7\n"
          ]
        }
      ]
    },
    {
      "cell_type": "code",
      "source": [
        "# Assignment: ^=\n",
        "number = 5  # 0b0101\n",
        "number ^= 3  # 0b0011\n",
        "print(number)  # 0b0110"
      ],
      "metadata": {
        "colab": {
          "base_uri": "https://localhost:8080/"
        },
        "id": "BWr4VGrmOuH7",
        "outputId": "971bc45c-7a2e-4b7c-dd9d-3034dc354dc3"
      },
      "execution_count": null,
      "outputs": [
        {
          "output_type": "stream",
          "name": "stdout",
          "text": [
            "6\n"
          ]
        }
      ]
    },
    {
      "cell_type": "code",
      "source": [
        "# Assignment: >>=\n",
        "number = 5\n",
        "number >>= 3\n",
        "print(number)"
      ],
      "metadata": {
        "colab": {
          "base_uri": "https://localhost:8080/"
        },
        "id": "E6sLDTJcGVTX",
        "outputId": "e56fdbd0-f3d1-4465-d00f-5c53d16be4b2"
      },
      "execution_count": null,
      "outputs": [
        {
          "output_type": "stream",
          "name": "stdout",
          "text": [
            "0\n"
          ]
        }
      ]
    },
    {
      "cell_type": "code",
      "source": [
        "# Assignment: <<=\n",
        "number = 5\n",
        "number <<= 3\n",
        "print(number)"
      ],
      "metadata": {
        "colab": {
          "base_uri": "https://localhost:8080/"
        },
        "id": "29carZ5EGbVu",
        "outputId": "c441f7f2-6a39-477f-d58f-7059c4fb4381"
      },
      "execution_count": null,
      "outputs": [
        {
          "output_type": "stream",
          "name": "stdout",
          "text": [
            "40\n"
          ]
        }
      ]
    },
    {
      "cell_type": "markdown",
      "source": [
        "# comparison operators 📺\n",
        "- Comparison operators are used to compare two values\n"
      ],
      "metadata": {
        "id": "5SPHV7ruPt-H"
      }
    },
    {
      "cell_type": "code",
      "source": [
        "# Equal\n",
        "number = 5\n",
        "print(number == 5)"
      ],
      "metadata": {
        "colab": {
          "base_uri": "https://localhost:8080/"
        },
        "id": "2_ZsJycqO0bP",
        "outputId": "631f0e25-bb99-4a91-f921-95d3356fd8f6"
      },
      "execution_count": null,
      "outputs": [
        {
          "output_type": "stream",
          "name": "stdout",
          "text": [
            "True\n"
          ]
        }
      ]
    },
    {
      "cell_type": "code",
      "source": [
        "# Not equal\n",
        "number = 5\n",
        "print(number != 3)"
      ],
      "metadata": {
        "colab": {
          "base_uri": "https://localhost:8080/"
        },
        "id": "ljBqrarKQA6C",
        "outputId": "df9c46fc-1d73-4809-e124-8dd8bcb3bf57"
      },
      "execution_count": null,
      "outputs": [
        {
          "output_type": "stream",
          "name": "stdout",
          "text": [
            "True\n"
          ]
        }
      ]
    },
    {
      "cell_type": "code",
      "source": [
        "# Greater than\n",
        "number = 5\n",
        "print(number > 3)"
      ],
      "metadata": {
        "colab": {
          "base_uri": "https://localhost:8080/"
        },
        "id": "rq8GF9sZQEXb",
        "outputId": "db6c03bc-e9a5-413a-f587-3b065204d825"
      },
      "execution_count": null,
      "outputs": [
        {
          "output_type": "stream",
          "name": "stdout",
          "text": [
            "True\n"
          ]
        }
      ]
    },
    {
      "cell_type": "code",
      "source": [
        "# Less than\n",
        "number = 5\n",
        "print(number < 8)"
      ],
      "metadata": {
        "colab": {
          "base_uri": "https://localhost:8080/"
        },
        "id": "vXUGvDYDQHFL",
        "outputId": "2a50020e-1136-4c71-e46b-4c8b45c3d0b5"
      },
      "execution_count": null,
      "outputs": [
        {
          "output_type": "stream",
          "name": "stdout",
          "text": [
            "True\n"
          ]
        }
      ]
    },
    {
      "cell_type": "code",
      "source": [
        "# Greater than or equal to\n",
        "number = 5\n",
        "print(number >= 5)\n",
        "print(number >= 4)"
      ],
      "metadata": {
        "colab": {
          "base_uri": "https://localhost:8080/"
        },
        "id": "ABrMPVLDQJPu",
        "outputId": "d07f3909-2ba2-4576-ecd3-6c076050463c"
      },
      "execution_count": null,
      "outputs": [
        {
          "output_type": "stream",
          "name": "stdout",
          "text": [
            "True\n",
            "True\n"
          ]
        }
      ]
    },
    {
      "cell_type": "code",
      "source": [
        "# Less than or equal to\n",
        "number = 5\n",
        "print(number <= 5)\n",
        "print(number <= 6)"
      ],
      "metadata": {
        "colab": {
          "base_uri": "https://localhost:8080/"
        },
        "id": "odEJVBJ-QLD9",
        "outputId": "e35352bc-ef70-483d-ceb0-a97075c462a3"
      },
      "execution_count": null,
      "outputs": [
        {
          "output_type": "stream",
          "name": "stdout",
          "text": [
            "True\n",
            "True\n"
          ]
        }
      ]
    },
    {
      "cell_type": "markdown",
      "source": [
        "# Logical operators ⌚\n",
        "- Logical operators are used to combine conditional statements\n",
        "- and\n",
        "- or\n",
        "- not"
      ],
      "metadata": {
        "id": "dDvghgVkQeWW"
      }
    },
    {
      "cell_type": "code",
      "source": [
        "# Let's work with these numbers to illustrate logic operators.\n",
        "first_number = 5\n",
        "second_number = 10"
      ],
      "metadata": {
        "id": "Xs9ppwIzQd-N"
      },
      "execution_count": null,
      "outputs": []
    },
    {
      "cell_type": "code",
      "source": [
        "# and\n",
        "# Returns True if both statements are true\n",
        "print(first_number > 0 and second_number < 20)"
      ],
      "metadata": {
        "colab": {
          "base_uri": "https://localhost:8080/"
        },
        "id": "17xFvQs6QO1h",
        "outputId": "788f9363-c3ac-4cc9-dae0-234f97515119"
      },
      "execution_count": null,
      "outputs": [
        {
          "output_type": "stream",
          "name": "stdout",
          "text": [
            "False\n"
          ]
        }
      ]
    },
    {
      "cell_type": "code",
      "source": [
        "# or\n",
        "# Returns True if one of the statements is true\n",
        "print(first_number > 5 or second_number < 20)"
      ],
      "metadata": {
        "colab": {
          "base_uri": "https://localhost:8080/"
        },
        "id": "iROiZIZQQq3U",
        "outputId": "72e8d352-c2a3-44f9-bbba-9b10140d441c"
      },
      "execution_count": null,
      "outputs": [
        {
          "output_type": "stream",
          "name": "stdout",
          "text": [
            "True\n"
          ]
        }
      ]
    },
    {
      "cell_type": "code",
      "source": [
        "# not\n",
        "# Reverse the result, returns False if the result is true\n",
        "print(not first_number == second_number)\n",
        "print(first_number != second_number)"
      ],
      "metadata": {
        "colab": {
          "base_uri": "https://localhost:8080/"
        },
        "id": "5cawhnh7Qu_8",
        "outputId": "a98244fb-da62-4f69-fe9c-0edc9adeda6d"
      },
      "execution_count": null,
      "outputs": [
        {
          "output_type": "stream",
          "name": "stdout",
          "text": [
            "True\n",
            "True\n"
          ]
        }
      ]
    },
    {
      "cell_type": "markdown",
      "source": [
        "# Identity operators 🦴\n",
        "- Identity operators are used to compare the objects, not if they are equal, but if they are actually\n",
        "the same object, with the same memory location"
      ],
      "metadata": {
        "id": "RAJ1dkx4RSr_"
      }
    },
    {
      "cell_type": "code",
      "source": [
        "# Identity operators\n",
        "\n",
        "# Lists for demonstration\n",
        "first_fruits_list = [\"apple\", \"banana\"]\n",
        "second_fruits_list = [\"apple\", \"banana\"]\n",
        "third_fruits_list = first_fruits_list"
      ],
      "metadata": {
        "id": "QpMLB4zgQ05K"
      },
      "execution_count": null,
      "outputs": []
    },
    {
      "cell_type": "code",
      "source": [
        "# is\n",
        "# Returns true if both variables are the same object\n",
        "print(first_fruits_list is third_fruits_list)"
      ],
      "metadata": {
        "colab": {
          "base_uri": "https://localhost:8080/"
        },
        "id": "BRFXOPyBRRuJ",
        "outputId": "8dea76b5-cea1-416d-96a2-59c13272e73a"
      },
      "execution_count": null,
      "outputs": [
        {
          "output_type": "stream",
          "name": "stdout",
          "text": [
            "True\n"
          ]
        }
      ]
    },
    {
      "cell_type": "code",
      "source": [
        "# is not\n",
        "# Returns true if both variables are not the same object\n",
        "print(first_fruits_list is not second_fruits_list)"
      ],
      "metadata": {
        "colab": {
          "base_uri": "https://localhost:8080/"
        },
        "id": "Mm01K-W5RYXZ",
        "outputId": "77b6fa64-b9af-47c5-b98c-35a646aee1be"
      },
      "execution_count": null,
      "outputs": [
        {
          "output_type": "stream",
          "name": "stdout",
          "text": [
            "True\n"
          ]
        }
      ]
    },
    {
      "cell_type": "code",
      "source": [
        "# Demonstrating the difference between \"is\" and \"==\"\n",
        "# \"==\" checks for equality of content\n",
        "print(first_fruits_list == second_fruits_list)"
      ],
      "metadata": {
        "colab": {
          "base_uri": "https://localhost:8080/"
        },
        "id": "XIDR1QG2RarL",
        "outputId": "080ec79f-6374-43fc-98b3-e66239c5d0cd"
      },
      "execution_count": null,
      "outputs": [
        {
          "output_type": "stream",
          "name": "stdout",
          "text": [
            "True\n"
          ]
        }
      ]
    },
    {
      "cell_type": "markdown",
      "source": [
        "# Membership operators 🍃\n",
        "- Membership operators are used to test if a sequence is present in an object"
      ],
      "metadata": {
        "id": "5wODSQBNR20U"
      }
    },
    {
      "cell_type": "code",
      "source": [
        "# Membership operators\n",
        "\n",
        "# Fruit list for demonstration\n",
        "fruit_list = [\"apple\", \"banana\"]"
      ],
      "metadata": {
        "id": "5lPXt9DtR2Z5"
      },
      "execution_count": null,
      "outputs": []
    },
    {
      "cell_type": "code",
      "source": [
        "# in\n",
        "# Returns True if a sequence with the specified value is present in the object\n",
        "print(\"banana\" in fruit_list)"
      ],
      "metadata": {
        "colab": {
          "base_uri": "https://localhost:8080/"
        },
        "id": "ozivk2LFRdpS",
        "outputId": "7b1a53db-d181-46c6-cab8-75211e133cb5"
      },
      "execution_count": null,
      "outputs": [
        {
          "output_type": "stream",
          "name": "stdout",
          "text": [
            "True\n"
          ]
        }
      ]
    },
    {
      "cell_type": "code",
      "source": [
        "# not in\n",
        "# Returns True if a sequence with the specified value is not present in the object\n",
        "print(\"pineapple\" not in fruit_list)"
      ],
      "metadata": {
        "colab": {
          "base_uri": "https://localhost:8080/"
        },
        "id": "bunRFW_PSExa",
        "outputId": "29aa7321-b6dc-4e01-dafa-270b392b9e86"
      },
      "execution_count": null,
      "outputs": [
        {
          "output_type": "stream",
          "name": "stdout",
          "text": [
            "True\n"
          ]
        }
      ]
    },
    {
      "cell_type": "markdown",
      "source": [
        "# Data Types in python 📚🎧☕"
      ],
      "metadata": {
        "id": "I0bfMABgju01"
      }
    },
    {
      "cell_type": "markdown",
      "source": [
        "Numbers.\n",
        "- There are three numeric types in Python:\n",
        "- int (e.g. 2, 4, 20)\n",
        "    - bool (e.g. False and True, acting like 0 and 1)\n",
        "- float (e.g. 5.0, 1.6)\n",
        "- complex (e.g. 5+6j, 4-3j)"
      ],
      "metadata": {
        "id": "WO6IuHCLI0BK"
      }
    },
    {
      "cell_type": "code",
      "source": [
        "# Integer type\n",
        "positive_integer = 1\n",
        "negative_integer = -3255522\n",
        "big_integer = 35656222554887711\n",
        "\n",
        "print(isinstance(positive_integer, int))\n",
        "print(isinstance(negative_integer, int))\n",
        "print(isinstance(big_integer, int))"
      ],
      "metadata": {
        "colab": {
          "base_uri": "https://localhost:8080/"
        },
        "id": "3C1GperhSHn6",
        "outputId": "c76f8759-0858-4196-86d1-4f3da641426e"
      },
      "execution_count": null,
      "outputs": [
        {
          "output_type": "stream",
          "name": "stdout",
          "text": [
            "True\n",
            "True\n",
            "True\n"
          ]
        }
      ]
    },
    {
      "cell_type": "code",
      "source": [
        "# Boolean\n",
        "true_boolean = True\n",
        "false_boolean = False\n",
        "\n",
        "print(true_boolean)\n",
        "print(not false_boolean)\n",
        "\n",
        "print(isinstance(true_boolean, bool))\n",
        "print(isinstance(false_boolean, bool))"
      ],
      "metadata": {
        "colab": {
          "base_uri": "https://localhost:8080/"
        },
        "id": "lDZrSmsYkaCq",
        "outputId": "86da67d8-f54e-4766-e9b7-10325e61db87"
      },
      "execution_count": null,
      "outputs": [
        {
          "output_type": "stream",
          "name": "stdout",
          "text": [
            "True\n",
            "True\n",
            "True\n",
            "True\n"
          ]
        }
      ]
    },
    {
      "cell_type": "code",
      "source": [
        "# Casting boolean to string.\n",
        "print(f\"String representation of True: {str(true_boolean)}\")\n",
        "print(f\"String representation of False: {str(false_boolean)}\")\n",
        "print(\"Boolean tests passed.\\n\")"
      ],
      "metadata": {
        "colab": {
          "base_uri": "https://localhost:8080/"
        },
        "id": "2TCIGzanknkW",
        "outputId": "30fb2816-5f2f-42bd-906d-f31138da45d6"
      },
      "execution_count": null,
      "outputs": [
        {
          "output_type": "stream",
          "name": "stdout",
          "text": [
            "String representation of True: True\n",
            "String representation of False: False\n",
            "Boolean tests passed.\n",
            "\n"
          ]
        }
      ]
    },
    {
      "cell_type": "code",
      "source": [
        "# Casting boolean to string\n",
        "print(str(true_boolean))\n",
        "print(str(false_boolean))"
      ],
      "metadata": {
        "colab": {
          "base_uri": "https://localhost:8080/"
        },
        "id": "GC7T2N5QktlK",
        "outputId": "fec7df79-17ca-46cf-d2a0-4883cd0937dc"
      },
      "execution_count": null,
      "outputs": [
        {
          "output_type": "stream",
          "name": "stdout",
          "text": [
            "True\n",
            "False\n"
          ]
        }
      ]
    },
    {
      "cell_type": "code",
      "source": [
        "# Float type\n",
        "float_number = 7.0\n",
        "float_number_via_function = float(7)\n",
        "float_negative = -35.59\n",
        "\n",
        "print(float_number == float_number_via_function)\n",
        "print(isinstance(float_number, float))\n",
        "print(isinstance(float_number_via_function, float))\n",
        "print(isinstance(float_negative, float))"
      ],
      "metadata": {
        "colab": {
          "base_uri": "https://localhost:8080/"
        },
        "id": "6p0PIFZAkwLz",
        "outputId": "8eec53cf-c374-4789-814a-31f179d6aa50"
      },
      "execution_count": null,
      "outputs": [
        {
          "output_type": "stream",
          "name": "stdout",
          "text": [
            "True\n",
            "True\n",
            "True\n",
            "True\n"
          ]
        }
      ]
    },
    {
      "cell_type": "code",
      "source": [
        "# Scientific notation with float\n",
        "float_with_small_e = 35e3\n",
        "float_with_big_e = 12E4\n",
        "\n",
        "print(float_with_small_e)\n",
        "print(float_with_big_e)\n",
        "print(isinstance(12E4, float))\n",
        "print(isinstance(-87.7e100, float))"
      ],
      "metadata": {
        "colab": {
          "base_uri": "https://localhost:8080/"
        },
        "id": "56whAizgk5FG",
        "outputId": "d5f3afab-254c-46e9-faaa-df52b5cf88c7"
      },
      "execution_count": null,
      "outputs": [
        {
          "output_type": "stream",
          "name": "stdout",
          "text": [
            "35000.0\n",
            "120000.0\n",
            "True\n",
            "True\n"
          ]
        }
      ]
    },
    {
      "cell_type": "code",
      "source": [
        "# Complex type\n",
        "complex_number_1 = 5 + 6j\n",
        "complex_number_2 = 3 - 2j\n",
        "\n",
        "print(isinstance(complex_number_1, complex))\n",
        "print(isinstance(complex_number_2, complex))\n",
        "print(complex_number_1 * complex_number_2)"
      ],
      "metadata": {
        "colab": {
          "base_uri": "https://localhost:8080/"
        },
        "id": "6PDiPryxk87a",
        "outputId": "f429e79b-7a7e-4e5f-8408-b21b08f5d753"
      },
      "execution_count": null,
      "outputs": [
        {
          "output_type": "stream",
          "name": "stdout",
          "text": [
            "True\n",
            "True\n",
            "(27+8j)\n"
          ]
        }
      ]
    },
    {
      "cell_type": "code",
      "source": [
        "# Basic operations\n",
        "print(2 + 4)  # Addition\n",
        "print(2 * 4)  # Multiplication\n",
        "print(12 / 3)  # Division\n",
        "print(12 / 5)\n",
        "print(17 / 3)"
      ],
      "metadata": {
        "colab": {
          "base_uri": "https://localhost:8080/"
        },
        "id": "EVwe1y3CJXqX",
        "outputId": "cba40db1-77ba-4eaf-fcd9-eb7bf5448d0e"
      },
      "execution_count": null,
      "outputs": [
        {
          "output_type": "stream",
          "name": "stdout",
          "text": [
            "6\n",
            "8\n",
            "4.0\n",
            "2.4\n",
            "5.666666666666667\n"
          ]
        }
      ]
    },
    {
      "cell_type": "code",
      "source": [
        "# Modulo\n",
        "print(12 % 3)\n",
        "print(13 % 3)"
      ],
      "metadata": {
        "colab": {
          "base_uri": "https://localhost:8080/"
        },
        "id": "hzV9oqdvJawT",
        "outputId": "aada187e-d8f8-48bc-e663-339bcfbb2de6"
      },
      "execution_count": null,
      "outputs": [
        {
          "output_type": "stream",
          "name": "stdout",
          "text": [
            "0\n",
            "1\n"
          ]
        }
      ]
    },
    {
      "cell_type": "code",
      "source": [
        "# Floor division\n",
        "print(17 // 3)"
      ],
      "metadata": {
        "colab": {
          "base_uri": "https://localhost:8080/"
        },
        "id": "IbZXsAUCJeRf",
        "outputId": "ece2d747-da5f-4ac6-b908-7b7ffb4238c2"
      },
      "execution_count": null,
      "outputs": [
        {
          "output_type": "stream",
          "name": "stdout",
          "text": [
            "5\n"
          ]
        }
      ]
    },
    {
      "cell_type": "code",
      "source": [
        "# Exponentiation\n",
        "print(5 ** 2)\n",
        "print(2 ** 7)"
      ],
      "metadata": {
        "colab": {
          "base_uri": "https://localhost:8080/"
        },
        "id": "ZllJKfZqJgac",
        "outputId": "d9bab242-2492-46df-ff4c-a695895e020f"
      },
      "execution_count": null,
      "outputs": [
        {
          "output_type": "stream",
          "name": "stdout",
          "text": [
            "25\n",
            "128\n"
          ]
        }
      ]
    },
    {
      "cell_type": "code",
      "source": [
        "# Mixed type operation\n",
        "print(4 * 3.75 - 1)"
      ],
      "metadata": {
        "colab": {
          "base_uri": "https://localhost:8080/"
        },
        "id": "f6fXw9h7Jik1",
        "outputId": "6bcef493-b41f-40dd-8c39-9c0d395ffa00"
      },
      "execution_count": null,
      "outputs": [
        {
          "output_type": "stream",
          "name": "stdout",
          "text": [
            "14.0\n"
          ]
        }
      ]
    },
    {
      "cell_type": "markdown",
      "source": [
        "# Strings in python  ♡⃛📷\n",
        "- A string is a sequence of characters enclosed in either single (') or double (\") quotes. Python strings are immutable, meaning they cannot be modified after creation"
      ],
      "metadata": {
        "id": "WiSokH3RlQ7g"
      }
    },
    {
      "cell_type": "code",
      "source": [
        "# String type\n",
        "name_1 = \"rahul\"\n",
        "name_2 = 'chirra'\n",
        "print(name_1 == name_2)\n",
        "print(isinstance(name_1, str))\n",
        "print(isinstance(name_2, str))"
      ],
      "metadata": {
        "id": "COJyxYaJlA4y",
        "colab": {
          "base_uri": "https://localhost:8080/"
        },
        "outputId": "5a33ebe6-4801-4404-b0eb-3494b0b0e1fe"
      },
      "execution_count": null,
      "outputs": [
        {
          "output_type": "stream",
          "name": "stdout",
          "text": [
            "False\n",
            "True\n",
            "True\n"
          ]
        }
      ]
    },
    {
      "cell_type": "code",
      "source": [
        "# Escaping quotes\n",
        "single_quote_string = 'doesn\\'t'\n",
        "double_quote_string = \"doesn't\"\n",
        "print(single_quote_string == double_quote_string)"
      ],
      "metadata": {
        "id": "MF_tB-Fzm6eq",
        "colab": {
          "base_uri": "https://localhost:8080/"
        },
        "outputId": "4d4aae24-f315-473c-b337-36fa8fa5ee3f"
      },
      "execution_count": null,
      "outputs": [
        {
          "output_type": "stream",
          "name": "stdout",
          "text": [
            "True\n"
          ]
        }
      ]
    },
    {
      "cell_type": "code",
      "source": [
        "# Newline character\n",
        "multiline_string = 'First line.\\nSecond line.'\n",
        "print(multiline_string)"
      ],
      "metadata": {
        "colab": {
          "base_uri": "https://localhost:8080/"
        },
        "id": "7euzTXD2pUiZ",
        "outputId": "7d428d7d-f816-4ae7-c3a9-acc35053d463"
      },
      "execution_count": null,
      "outputs": [
        {
          "output_type": "stream",
          "name": "stdout",
          "text": [
            "First line.\n",
            "Second line.\n"
          ]
        }
      ]
    },
    {
      "cell_type": "code",
      "source": [
        "# Indexing\n",
        "word = 'Python'\n",
        "print(word[0])  # First character\n",
        "print(word[5])  # Fifth character\n",
        "print(word[-1])  # Last character\n",
        "print(word[-2])  # Second-last character\n",
        "print(word[-6])  # Sixth from the end\n",
        "print(isinstance(word[0], str))"
      ],
      "metadata": {
        "colab": {
          "base_uri": "https://localhost:8080/"
        },
        "id": "nOqsHcpZuhna",
        "outputId": "7879eb98-5cf8-4c57-f227-304f3f9a822e"
      },
      "execution_count": null,
      "outputs": [
        {
          "output_type": "stream",
          "name": "stdout",
          "text": [
            "P\n",
            "n\n",
            "n\n",
            "o\n",
            "P\n",
            "True\n"
          ]
        }
      ]
    },
    {
      "cell_type": "code",
      "source": [
        "# Slicing\n",
        "print(word[0:2])  # Characters from position 0 (included) to 2 (excluded)\n",
        "print(word[2:5])  # Characters from position 2 (included) to 5 (excluded)\n",
        "print(word[:2] + word[2:])\n",
        "print(word[:4] + word[4:])\n",
        "print(word[:2])  # Characters from the beginning to position 2 (excluded)\n",
        "print(word[4:])  # Characters from position 4 (included) to the end\n",
        "print(word[-2:])  # Characters from the second-last to the end"
      ],
      "metadata": {
        "colab": {
          "base_uri": "https://localhost:8080/"
        },
        "id": "albxqmSOuvmk",
        "outputId": "e282cdf3-ccc4-4034-dc94-d078a76c704b"
      },
      "execution_count": null,
      "outputs": [
        {
          "output_type": "stream",
          "name": "stdout",
          "text": [
            "Py\n",
            "tho\n",
            "Python\n",
            "Python\n",
            "Py\n",
            "on\n",
            "on\n"
          ]
        }
      ]
    },
    {
      "cell_type": "code",
      "source": [
        "# Out of range slice indexes\n",
        "print(word[4:42])\n",
        "print(word[42:])"
      ],
      "metadata": {
        "colab": {
          "base_uri": "https://localhost:8080/"
        },
        "id": "AjeufxF6u50-",
        "outputId": "ba378d73-e00b-44c9-8ec6-9438ceb03492"
      },
      "execution_count": null,
      "outputs": [
        {
          "output_type": "stream",
          "name": "stdout",
          "text": [
            "on\n",
            "\n"
          ]
        }
      ]
    },
    {
      "cell_type": "code",
      "source": [
        "# Immutability\n",
        "print('J' + word[1:])\n",
        "print(word[:2] + 'py')"
      ],
      "metadata": {
        "colab": {
          "base_uri": "https://localhost:8080/"
        },
        "id": "4TEFBeonvA7G",
        "outputId": "e5be3522-f78b-4358-ba73-7e468c3880d6"
      },
      "execution_count": null,
      "outputs": [
        {
          "output_type": "stream",
          "name": "stdout",
          "text": [
            "Jython\n",
            "Pypy\n"
          ]
        }
      ]
    },
    {
      "cell_type": "code",
      "source": [
        "# Length\n",
        "characters = 'supercalifragilisticexpialidocious'\n",
        "print(len(characters))"
      ],
      "metadata": {
        "colab": {
          "base_uri": "https://localhost:8080/"
        },
        "id": "TfAkSKd2zvKh",
        "outputId": "9d0cefb3-da95-4392-cb30-2a78d3134712"
      },
      "execution_count": null,
      "outputs": [
        {
          "output_type": "stream",
          "name": "stdout",
          "text": [
            "34\n"
          ]
        }
      ]
    },
    {
      "source": [
        "# Multiline strings\n",
        "multi_line_string = '''\\\n",
        "        First line\n",
        "        Second line\n",
        "    '''\n",
        "print(multi_line_string)"
      ],
      "cell_type": "code",
      "metadata": {
        "colab": {
          "base_uri": "https://localhost:8080/"
        },
        "id": "6TW3VTLjz9Hw",
        "outputId": "3fcaa089-e321-4b1e-fad6-1d7b651fdfaa"
      },
      "execution_count": null,
      "outputs": [
        {
          "output_type": "stream",
          "name": "stdout",
          "text": [
            "        First line\n",
            "        Second line\n",
            "    \n"
          ]
        }
      ]
    },
    {
      "cell_type": "code",
      "source": [
        "# String operators\n",
        "print(3 * 'un' + 'ium')\n",
        "python = 'Py' 'thon'\n",
        "print(python)\n",
        "text = (\n",
        "    'Put several strings within parentheses '\n",
        "    'to have them joined together.'\n",
        ")\n",
        "print(text)\n",
        "prefix = 'Py'\n",
        "print(prefix + 'thon')"
      ],
      "metadata": {
        "colab": {
          "base_uri": "https://localhost:8080/"
        },
        "id": "oZBbKJYmvHa2",
        "outputId": "77d1d1a7-2cc3-46d0-c833-06b051a00dbc"
      },
      "execution_count": null,
      "outputs": [
        {
          "output_type": "stream",
          "name": "stdout",
          "text": [
            "unununium\n",
            "Python\n",
            "Put several strings within parentheses to have them joined together.\n",
            "Python\n"
          ]
        }
      ]
    },
    {
      "cell_type": "code",
      "source": [
        "# String methods\n",
        "hello_world_string = \"Hello, World!\"\n",
        "string_with_whitespaces = \" Hello, World! \"\n",
        "print(string_with_whitespaces.strip())\n",
        "print(len(hello_world_string))\n",
        "print(hello_world_string.lower())\n",
        "print(hello_world_string.upper())\n",
        "print(hello_world_string.replace('H', 'J'))\n",
        "print(hello_world_string.split(','))"
      ],
      "metadata": {
        "colab": {
          "base_uri": "https://localhost:8080/"
        },
        "id": "ubu1k89ovoMP",
        "outputId": "8f9101c3-48ec-40bd-da41-5545ae89cbfb"
      },
      "execution_count": null,
      "outputs": [
        {
          "output_type": "stream",
          "name": "stdout",
          "text": [
            "Hello, World!\n",
            "13\n",
            "hello, world!\n",
            "HELLO, WORLD!\n",
            "Jello, World!\n",
            "['Hello', ' World!']\n"
          ]
        }
      ]
    },
    {
      "cell_type": "code",
      "source": [
        "print('low letter at the beginning'.capitalize())\n",
        "print('low letter at the beginning'.count('t'))\n",
        "print('Hello, welcome to my world'.find('welcome'))\n",
        "print('Welcome to my world'.title())\n",
        "print('I like bananas'.replace('bananas', 'apples'))"
      ],
      "metadata": {
        "colab": {
          "base_uri": "https://localhost:8080/"
        },
        "id": "Ei2nV-08LH_t",
        "outputId": "e699278b-e17c-4789-b5ff-16b6c5c423c9"
      },
      "execution_count": null,
      "outputs": [
        {
          "output_type": "stream",
          "name": "stdout",
          "text": [
            "Low letter at the beginning\n",
            "4\n",
            "7\n",
            "Welcome To My World\n",
            "I like apples\n"
          ]
        }
      ]
    },
    {
      "cell_type": "code",
      "source": [
        "my_tuple = ('John', 'Peter', 'Vicky')\n",
        "print(', '.join(my_tuple))"
      ],
      "metadata": {
        "colab": {
          "base_uri": "https://localhost:8080/"
        },
        "id": "eBP5Yb18LLFx",
        "outputId": "955dc56c-fc70-4601-f6bc-662b56d132f9"
      },
      "execution_count": null,
      "outputs": [
        {
          "output_type": "stream",
          "name": "stdout",
          "text": [
            "John, Peter, Vicky\n"
          ]
        }
      ]
    },
    {
      "cell_type": "code",
      "source": [
        "print('ABC'.isupper())\n",
        "print('AbC'.isupper())\n",
        "print('CompanyX'.isalpha())\n",
        "print('Company 23'.isalpha())\n",
        "print('1234'.isdecimal())\n",
        "print('a21453'.isdecimal())"
      ],
      "metadata": {
        "colab": {
          "base_uri": "https://localhost:8080/"
        },
        "id": "uw0Lxl2kMWoC",
        "outputId": "7b1a91c1-0451-42d1-fc4d-72100616c554"
      },
      "execution_count": null,
      "outputs": [
        {
          "output_type": "stream",
          "name": "stdout",
          "text": [
            "True\n",
            "False\n",
            "True\n",
            "False\n",
            "True\n",
            "False\n"
          ]
        }
      ]
    },
    {
      "cell_type": "code",
      "source": [
        "# String formatting\n",
        "year = 2018\n",
        "event = 'conference'\n",
        "print(f'Results of the {year} {event}')"
      ],
      "metadata": {
        "colab": {
          "base_uri": "https://localhost:8080/"
        },
        "id": "pSMzOaQ_yJXB",
        "outputId": "538254ef-e62c-44c5-e9ba-c03aad940e89"
      },
      "execution_count": null,
      "outputs": [
        {
          "output_type": "stream",
          "name": "stdout",
          "text": [
            "Results of the 2018 conference\n"
          ]
        }
      ]
    },
    {
      "cell_type": "code",
      "source": [
        "yes_votes = 42_572_654\n",
        "no_votes = 43_132_495\n",
        "percentage = yes_votes / (yes_votes + no_votes)\n",
        "print('{:-9} YES votes  {:2.2%}'.format(yes_votes, percentage))"
      ],
      "metadata": {
        "colab": {
          "base_uri": "https://localhost:8080/"
        },
        "id": "l5-bUVFaLT7v",
        "outputId": "7317eab4-529f-41de-821c-91c4e9d6d1dc"
      },
      "execution_count": null,
      "outputs": [
        {
          "output_type": "stream",
          "name": "stdout",
          "text": [
            " 42572654 YES votes  49.67%\n"
          ]
        }
      ]
    },
    {
      "cell_type": "code",
      "source": [
        "greeting = 'Hello, world.'\n",
        "first_num = 10 * 3.25\n",
        "second_num = 200 * 200\n",
        "print(str(greeting))\n",
        "print(repr(greeting))\n",
        "print(str(1/7))\n",
        "print(repr((first_num, second_num, ('spam', 'eggs'))))"
      ],
      "metadata": {
        "colab": {
          "base_uri": "https://localhost:8080/"
        },
        "id": "5W1wUFj9LYDF",
        "outputId": "e2cc218f-5337-486b-f963-1f5d1eed89fa"
      },
      "execution_count": null,
      "outputs": [
        {
          "output_type": "stream",
          "name": "stdout",
          "text": [
            "Hello, world.\n",
            "'Hello, world.'\n",
            "0.14285714285714285\n",
            "(32.5, 40000, ('spam', 'eggs'))\n"
          ]
        }
      ]
    },
    {
      "cell_type": "code",
      "source": [
        "pi_value = 3.14159\n",
        "print(f'The value of pi is {pi_value:.3f}.')"
      ],
      "metadata": {
        "colab": {
          "base_uri": "https://localhost:8080/"
        },
        "id": "MZ3w59r2Leun",
        "outputId": "f7cc896b-c713-4819-db8b-430868e57dc3"
      },
      "execution_count": null,
      "outputs": [
        {
          "output_type": "stream",
          "name": "stdout",
          "text": [
            "The value of pi is 3.142.\n"
          ]
        }
      ]
    },
    {
      "cell_type": "code",
      "source": [
        "table_data = {'Sjoerd': 4127, 'Jack': 4098, 'Dcab': 7678}\n",
        "for name, phone in table_data.items():\n",
        "    print(f'{name:7}==>{phone:7d}')\n",
        "\n",
        "print('We are {} who say \"{}!\"'.format('knights', 'Ni'))\n",
        "print('{0} and {1}'.format('spam', 'eggs'))\n",
        "print('{1} and {0}'.format('spam', 'eggs'))"
      ],
      "metadata": {
        "colab": {
          "base_uri": "https://localhost:8080/"
        },
        "id": "x-zKD0q5LsL_",
        "outputId": "fb955ff4-5f66-4207-9486-81fdb42d10e4"
      },
      "execution_count": null,
      "outputs": [
        {
          "output_type": "stream",
          "name": "stdout",
          "text": [
            "Sjoerd ==>   4127\n",
            "Jack   ==>   4098\n",
            "Dcab   ==>   7678\n",
            "We are knights who say \"Ni!\"\n",
            "spam and eggs\n",
            "eggs and spam\n"
          ]
        }
      ]
    },
    {
      "cell_type": "code",
      "source": [
        "formatted_string = 'This {food} is {adjective}.'.format(\n",
        "    food='spam',\n",
        "    adjective='absolutely horrible'\n",
        ")\n",
        "print(formatted_string)"
      ],
      "metadata": {
        "colab": {
          "base_uri": "https://localhost:8080/"
        },
        "id": "x9sqDuyJLyxj",
        "outputId": "6bc25b96-ecef-46f0-fe7b-c22b0741c4fe"
      },
      "execution_count": null,
      "outputs": [
        {
          "output_type": "stream",
          "name": "stdout",
          "text": [
            "This spam is absolutely horrible.\n"
          ]
        }
      ]
    },
    {
      "cell_type": "code",
      "source": [
        "formatted_string = 'The story of {0}, {1}, and {other}.'.format(\n",
        "    'Bill',\n",
        "    'Manfred',\n",
        "    other='Georg'\n",
        ")\n",
        "print(formatted_string)"
      ],
      "metadata": {
        "colab": {
          "base_uri": "https://localhost:8080/"
        },
        "id": "ry_tKxreL2g3",
        "outputId": "7b8c6ab4-413b-493f-d971-cbfaa02149a2"
      },
      "execution_count": null,
      "outputs": [
        {
          "output_type": "stream",
          "name": "stdout",
          "text": [
            "The story of Bill, Manfred, and Georg.\n"
          ]
        }
      ]
    },
    {
      "cell_type": "code",
      "source": [
        "table = {'Sjoerd': 4127, 'Jack': 4098, 'Dcab': 8637678}\n",
        "formatted_string = 'Jack: {0[Jack]:d}; Sjoerd: {0[Sjoerd]:d}; Dcab: {0[Dcab]:d}'.format(table)\n",
        "print(formatted_string)"
      ],
      "metadata": {
        "colab": {
          "base_uri": "https://localhost:8080/"
        },
        "id": "3wlCaw8ZL4hZ",
        "outputId": "8e541e5b-24f3-4b94-f70e-80e976af4078"
      },
      "execution_count": null,
      "outputs": [
        {
          "output_type": "stream",
          "name": "stdout",
          "text": [
            "Jack: 4098; Sjoerd: 4127; Dcab: 8637678\n"
          ]
        }
      ]
    },
    {
      "cell_type": "code",
      "source": [
        "formatted_string = 'Jack: {Jack:d}; Sjoerd: {Sjoerd:d}; Dcab: {Dcab:d}'.format(**table)\n",
        "print(formatted_string)"
      ],
      "metadata": {
        "colab": {
          "base_uri": "https://localhost:8080/"
        },
        "id": "qApqx0vvL8rd",
        "outputId": "6d24373f-d496-427d-c595-2679a84b0bef"
      },
      "execution_count": null,
      "outputs": [
        {
          "output_type": "stream",
          "name": "stdout",
          "text": [
            "Jack: 4098; Sjoerd: 4127; Dcab: 8637678\n"
          ]
        }
      ]
    },
    {
      "cell_type": "markdown",
      "source": [
        "# List in Python  🐬\n",
        "- A list in Python is a versatile and widely used data structure that stores a collection of items. These items can be of any data type (e.g., integers, strings, floats, or even other lists"
      ],
      "metadata": {
        "id": "I031qv_A3UWd"
      }
    },
    {
      "cell_type": "code",
      "source": [
        "# List type\n",
        "squares = [1, 4, 9, 16, 25]\n",
        "print(isinstance(squares, list))"
      ],
      "metadata": {
        "colab": {
          "base_uri": "https://localhost:8080/"
        },
        "id": "-wLFUMTvzVlt",
        "outputId": "39b845a0-bb69-4804-d65d-7c94624ab252"
      },
      "execution_count": null,
      "outputs": [
        {
          "output_type": "stream",
          "name": "stdout",
          "text": [
            "True\n"
          ]
        }
      ]
    },
    {
      "cell_type": "code",
      "source": [
        "print(squares[0])  # Indexing returns the item\n",
        "print(squares[-1])\n",
        "print(squares[-3:])  # Slicing returns a new list\n",
        "print(squares[:])\n",
        "print(squares + [36, 49, 64, 81, 100])"
      ],
      "metadata": {
        "colab": {
          "base_uri": "https://localhost:8080/"
        },
        "id": "1PXNMo7INQZa",
        "outputId": "851f079e-4a1f-44ed-c9ab-eac5960633bf"
      },
      "execution_count": null,
      "outputs": [
        {
          "output_type": "stream",
          "name": "stdout",
          "text": [
            "1\n",
            "25\n",
            "[9, 16, 25]\n",
            "[1, 4, 9, 16, 25]\n",
            "[1, 4, 9, 16, 25, 36, 49, 64, 81, 100]\n"
          ]
        }
      ]
    },
    {
      "cell_type": "code",
      "source": [
        "# Lists are mutable\n",
        "cubes = [1, 8, 27, 65, 125]\n",
        "cubes[3] = 64  # Replace the wrong value\n",
        "print(cubes)\n",
        "cubes.append(216)\n",
        "cubes.append(7 ** 3)\n",
        "print(cubes)"
      ],
      "metadata": {
        "colab": {
          "base_uri": "https://localhost:8080/"
        },
        "id": "f3ohveHCNSQ8",
        "outputId": "0e8a7354-c198-48d5-bf52-c78b29822ac5"
      },
      "execution_count": null,
      "outputs": [
        {
          "output_type": "stream",
          "name": "stdout",
          "text": [
            "[1, 8, 27, 64, 125]\n",
            "[1, 8, 27, 64, 125, 216, 343]\n"
          ]
        }
      ]
    },
    {
      "cell_type": "code",
      "source": [
        "# Assignment to slices\n",
        "letters = ['a', 'b', 'c', 'd', 'e', 'f', 'g']\n",
        "letters[2:5] = ['C', 'D', 'E']\n",
        "print(letters)\n",
        "letters[2:5] = []\n",
        "print(letters)\n",
        "letters[:] = []\n",
        "print(letters)"
      ],
      "metadata": {
        "colab": {
          "base_uri": "https://localhost:8080/"
        },
        "id": "ECsnYF86NZVR",
        "outputId": "e2623836-0f30-41a9-d315-0872b9d3535c"
      },
      "execution_count": null,
      "outputs": [
        {
          "output_type": "stream",
          "name": "stdout",
          "text": [
            "['a', 'b', 'C', 'D', 'E', 'f', 'g']\n",
            "['a', 'b', 'f', 'g']\n",
            "[]\n"
          ]
        }
      ]
    },
    {
      "cell_type": "code",
      "source": [
        "# Built-in length function\n",
        "letters = ['a', 'b', 'c', 'd']\n",
        "print(len(letters))"
      ],
      "metadata": {
        "colab": {
          "base_uri": "https://localhost:8080/"
        },
        "id": "t04Bop88NZRS",
        "outputId": "af50e41f-04f6-4c2f-9184-42ce8de58239"
      },
      "execution_count": null,
      "outputs": [
        {
          "output_type": "stream",
          "name": "stdout",
          "text": [
            "4\n"
          ]
        }
      ]
    },
    {
      "cell_type": "code",
      "source": [
        "# Nested lists\n",
        "list_of_chars = ['a', 'b', 'c']\n",
        "list_of_numbers = [1, 2, 3]\n",
        "mixed_list = [list_of_chars, list_of_numbers]\n",
        "print(mixed_list)\n",
        "print(mixed_list[0])\n",
        "print(mixed_list[0][1])"
      ],
      "metadata": {
        "colab": {
          "base_uri": "https://localhost:8080/"
        },
        "id": "yoR2GOdUNf4W",
        "outputId": "bef7e599-abad-4e53-d51b-faecabfadf0d"
      },
      "execution_count": null,
      "outputs": [
        {
          "output_type": "stream",
          "name": "stdout",
          "text": [
            "[['a', 'b', 'c'], [1, 2, 3]]\n",
            "['a', 'b', 'c']\n",
            "b\n"
          ]
        }
      ]
    },
    {
      "cell_type": "code",
      "source": [
        "# List methods\n",
        "fruits = ['orange', 'apple', 'pear', 'banana', 'kiwi', 'apple', 'banana']\n",
        "fruits.append('grape')\n",
        "print(fruits)\n",
        "fruits.remove('grape')\n",
        "print(fruits)"
      ],
      "metadata": {
        "colab": {
          "base_uri": "https://localhost:8080/"
        },
        "id": "l7BXTQMcNitG",
        "outputId": "605d51ba-fead-4283-d406-1c734e35f8ea"
      },
      "execution_count": null,
      "outputs": [
        {
          "output_type": "stream",
          "name": "stdout",
          "text": [
            "['orange', 'apple', 'pear', 'banana', 'kiwi', 'apple', 'banana', 'grape']\n",
            "['orange', 'apple', 'pear', 'banana', 'kiwi', 'apple', 'banana']\n"
          ]
        }
      ]
    },
    {
      "cell_type": "code",
      "source": [
        "fruits.insert(0, 'grape')\n",
        "print(fruits)\n",
        "print(fruits.index('grape'))\n",
        "print(fruits.index('orange'))\n",
        "print(fruits.index('banana'))\n",
        "print(fruits.index('banana', 5))\n",
        "print(fruits.count('tangerine'))\n",
        "print(fruits.count('banana'))"
      ],
      "metadata": {
        "colab": {
          "base_uri": "https://localhost:8080/"
        },
        "id": "WP7s5-gYNp1b",
        "outputId": "049afc44-3d42-4fcd-b765-24c550378173"
      },
      "execution_count": null,
      "outputs": [
        {
          "output_type": "stream",
          "name": "stdout",
          "text": [
            "['grape', 'orange', 'apple', 'pear', 'banana', 'kiwi', 'apple', 'banana']\n",
            "0\n",
            "1\n",
            "4\n",
            "7\n",
            "0\n",
            "2\n"
          ]
        }
      ]
    },
    {
      "cell_type": "code",
      "source": [
        "fruits_copy = fruits.copy()\n",
        "print(fruits_copy)\n",
        "fruits_copy.reverse()\n",
        "print(fruits_copy)\n",
        "fruits_copy.sort()\n",
        "print(fruits_copy)\n",
        "print(fruits.pop())\n",
        "print(fruits)\n",
        "fruits.clear()\n",
        "print(fruits)"
      ],
      "metadata": {
        "colab": {
          "base_uri": "https://localhost:8080/"
        },
        "id": "dZze2QCPNfsA",
        "outputId": "fe858d51-1aa5-44b6-e09f-30cccfd8ca0d"
      },
      "execution_count": null,
      "outputs": [
        {
          "output_type": "stream",
          "name": "stdout",
          "text": [
            "['grape', 'orange', 'apple', 'pear', 'banana', 'kiwi', 'apple', 'banana']\n",
            "['banana', 'apple', 'kiwi', 'banana', 'pear', 'apple', 'orange', 'grape']\n",
            "['apple', 'apple', 'banana', 'banana', 'grape', 'kiwi', 'orange', 'pear']\n",
            "banana\n",
            "['grape', 'orange', 'apple', 'pear', 'banana', 'kiwi', 'apple']\n",
            "[]\n"
          ]
        }
      ]
    },
    {
      "cell_type": "code",
      "source": [
        "# Del statement\n",
        "numbers = [-1, 1, 66.25, 333, 333, 1234.5]\n",
        "del numbers[0]\n",
        "print(numbers)\n",
        "del numbers[2:4]\n",
        "print(numbers)\n",
        "del numbers[:]\n",
        "print(numbers)"
      ],
      "metadata": {
        "colab": {
          "base_uri": "https://localhost:8080/"
        },
        "id": "TOMrnssMNyTC",
        "outputId": "2235ef12-e629-432e-b2d1-0fefbe978079"
      },
      "execution_count": null,
      "outputs": [
        {
          "output_type": "stream",
          "name": "stdout",
          "text": [
            "[1, 66.25, 333, 333, 1234.5]\n",
            "[1, 66.25, 1234.5]\n",
            "[]\n"
          ]
        }
      ]
    },
    {
      "cell_type": "code",
      "source": [
        "# List comprehensions\n",
        "squares = [x ** 2 for x in range(10)]\n",
        "print(squares)"
      ],
      "metadata": {
        "colab": {
          "base_uri": "https://localhost:8080/"
        },
        "id": "d1f39-hINyIY",
        "outputId": "4a269f24-81c7-4a6c-933f-e0eb80c7618f"
      },
      "execution_count": null,
      "outputs": [
        {
          "output_type": "stream",
          "name": "stdout",
          "text": [
            "[0, 1, 4, 9, 16, 25, 36, 49, 64, 81]\n"
          ]
        }
      ]
    },
    {
      "cell_type": "code",
      "source": [
        "combinations = [(x, y) for x in [1, 2, 3] for y in [3, 1, 4] if x != y]\n",
        "print(combinations)"
      ],
      "metadata": {
        "colab": {
          "base_uri": "https://localhost:8080/"
        },
        "id": "mtfzPhi7NyCJ",
        "outputId": "d971e2e0-721c-4710-d1a9-97e1d383ae3c"
      },
      "execution_count": null,
      "outputs": [
        {
          "output_type": "stream",
          "name": "stdout",
          "text": [
            "[(1, 3), (1, 4), (2, 3), (2, 1), (2, 4), (3, 1), (3, 4)]\n"
          ]
        }
      ]
    },
    {
      "cell_type": "code",
      "source": [
        "vector = [-4, -2, 0, 2, 4]\n",
        "print([x * 2 for x in vector])\n",
        "print([x for x in vector if x >= 0])\n",
        "print([abs(x) for x in vector])"
      ],
      "metadata": {
        "colab": {
          "base_uri": "https://localhost:8080/"
        },
        "id": "ykCXGs4yNxoe",
        "outputId": "6e3ea2ef-0003-462c-945d-d183bcef9b80"
      },
      "execution_count": null,
      "outputs": [
        {
          "output_type": "stream",
          "name": "stdout",
          "text": [
            "[-8, -4, 0, 4, 8]\n",
            "[0, 2, 4]\n",
            "[4, 2, 0, 2, 4]\n"
          ]
        }
      ]
    },
    {
      "cell_type": "code",
      "source": [
        "fresh_fruit = ['  banana', '  loganberry ', 'passion fruit  ']\n",
        "print([fruit.strip() for fruit in fresh_fruit])\n",
        "print([(x, x ** 2) for x in range(6)])\n",
        "vector = [[1, 2, 3], [4, 5, 6], [7, 8, 9]]\n",
        "print([num for elem in vector for num in elem])"
      ],
      "metadata": {
        "colab": {
          "base_uri": "https://localhost:8080/"
        },
        "id": "_97umu0LOOIn",
        "outputId": "3376f12d-aa7b-4239-e1a4-7685efc0bb81"
      },
      "execution_count": null,
      "outputs": [
        {
          "output_type": "stream",
          "name": "stdout",
          "text": [
            "['banana', 'loganberry', 'passion fruit']\n",
            "[(0, 0), (1, 1), (2, 4), (3, 9), (4, 16), (5, 25)]\n",
            "[1, 2, 3, 4, 5, 6, 7, 8, 9]\n"
          ]
        }
      ]
    },
    {
      "cell_type": "code",
      "source": [
        "# Nested list comprehensions\n",
        "matrix = [\n",
        "    [1, 2, 3, 4],\n",
        "    [5, 6, 7, 8],\n",
        "    [9, 10, 11, 12],\n",
        "]\n",
        "transposed_matrix = [[row[i] for row in matrix] for i in range(4)]\n",
        "print(transposed_matrix)"
      ],
      "metadata": {
        "colab": {
          "base_uri": "https://localhost:8080/"
        },
        "id": "1tpIGG-IOOD4",
        "outputId": "9f7b4860-1688-4c1a-c37c-3cef411db458"
      },
      "execution_count": null,
      "outputs": [
        {
          "output_type": "stream",
          "name": "stdout",
          "text": [
            "[[1, 5, 9], [2, 6, 10], [3, 7, 11], [4, 8, 12]]\n"
          ]
        }
      ]
    },
    {
      "cell_type": "code",
      "source": [
        "print(list(zip(*matrix)))"
      ],
      "metadata": {
        "colab": {
          "base_uri": "https://localhost:8080/"
        },
        "id": "kcG9x2E_OOBa",
        "outputId": "9c12a8d2-5c28-43bd-e914-01715b8354cf"
      },
      "execution_count": null,
      "outputs": [
        {
          "output_type": "stream",
          "name": "stdout",
          "text": [
            "[(1, 5, 9), (2, 6, 10), (3, 7, 11), (4, 8, 12)]\n"
          ]
        }
      ]
    },
    {
      "cell_type": "markdown",
      "source": [
        "# Tuples in Python 🔗"
      ],
      "metadata": {
        "id": "Jo1Mn4e15PxT"
      }
    },
    {
      "cell_type": "code",
      "source": [
        "# Basic tuple\n",
        "fruits_tuple = (\"apple\", \"banana\", \"cherry\")\n",
        "print(isinstance(fruits_tuple, tuple))\n",
        "print(fruits_tuple[0])\n",
        "print(fruits_tuple[1])\n",
        "print(fruits_tuple[2])"
      ],
      "metadata": {
        "colab": {
          "base_uri": "https://localhost:8080/"
        },
        "id": "WS_RM00O4wDg",
        "outputId": "3eb6bbb1-a1a5-4faa-f54e-d75576fb867f"
      },
      "execution_count": null,
      "outputs": [
        {
          "output_type": "stream",
          "name": "stdout",
          "text": [
            "True\n",
            "apple\n",
            "banana\n",
            "cherry\n"
          ]
        }
      ]
    },
    {
      "cell_type": "code",
      "source": [
        "# You cannot change values in a tuple\n",
        "try:\n",
        "    fruits_tuple[0] = \"pineapple\"\n",
        "except TypeError as e:\n",
        "    print(f\"Error: {e}\")"
      ],
      "metadata": {
        "colab": {
          "base_uri": "https://localhost:8080/"
        },
        "id": "I8Jhwr5t5T_x",
        "outputId": "81239937-6eb1-419d-b44a-879609c74c1d"
      },
      "execution_count": null,
      "outputs": [
        {
          "output_type": "stream",
          "name": "stdout",
          "text": [
            "Error: 'tuple' object does not support item assignment\n"
          ]
        }
      ]
    },
    {
      "cell_type": "code",
      "source": [
        "# Using the tuple() constructor\n",
        "fruits_tuple_via_constructor = tuple((\"apple\", \"banana\", \"cherry\"))\n",
        "print(isinstance(fruits_tuple_via_constructor, tuple))\n",
        "print(len(fruits_tuple_via_constructor))"
      ],
      "metadata": {
        "colab": {
          "base_uri": "https://localhost:8080/"
        },
        "id": "JellCFsn5Ykl",
        "outputId": "7d93f0ea-258a-4287-8aa6-47a2dfbbf4f7"
      },
      "execution_count": null,
      "outputs": [
        {
          "output_type": "stream",
          "name": "stdout",
          "text": [
            "True\n",
            "3\n"
          ]
        }
      ]
    },
    {
      "cell_type": "code",
      "source": [
        "# Omitting brackets when initializing tuples\n",
        "another_tuple = 12345, 54321, 'hello!'\n",
        "print(another_tuple)"
      ],
      "metadata": {
        "colab": {
          "base_uri": "https://localhost:8080/"
        },
        "id": "II4Pi_LB5a4W",
        "outputId": "85c91d1a-05c6-411c-dcba-e2376d6813b6"
      },
      "execution_count": null,
      "outputs": [
        {
          "output_type": "stream",
          "name": "stdout",
          "text": [
            "(12345, 54321, 'hello!')\n"
          ]
        }
      ]
    },
    {
      "cell_type": "code",
      "source": [
        "# Nested tuples\n",
        "nested_tuple = another_tuple, (1, 2, 3, 4, 5)\n",
        "print(nested_tuple)"
      ],
      "metadata": {
        "colab": {
          "base_uri": "https://localhost:8080/"
        },
        "id": "eIWHbxcC5dud",
        "outputId": "5ec7b3f9-52a4-4eb1-cfcb-e790278d4b8a"
      },
      "execution_count": null,
      "outputs": [
        {
          "output_type": "stream",
          "name": "stdout",
          "text": [
            "((12345, 54321, 'hello!'), (1, 2, 3, 4, 5))\n"
          ]
        }
      ]
    },
    {
      "cell_type": "code",
      "source": [
        "# Empty and singleton tuples\n",
        "empty_tuple = ()\n",
        "print(len(empty_tuple))"
      ],
      "metadata": {
        "colab": {
          "base_uri": "https://localhost:8080/"
        },
        "id": "VAjad1t45jTy",
        "outputId": "aad7ff88-2e29-4fbe-8b40-cbb87e164064"
      },
      "execution_count": null,
      "outputs": [
        {
          "output_type": "stream",
          "name": "stdout",
          "text": [
            "0\n"
          ]
        }
      ]
    },
    {
      "cell_type": "code",
      "source": [
        "singleton_tuple = 'hello',\n",
        "print(len(singleton_tuple))\n",
        "print(singleton_tuple)"
      ],
      "metadata": {
        "colab": {
          "base_uri": "https://localhost:8080/"
        },
        "id": "yztpnxm05mgV",
        "outputId": "8739e60f-f65a-458a-8ebb-9c823aaa9b7d"
      },
      "execution_count": null,
      "outputs": [
        {
          "output_type": "stream",
          "name": "stdout",
          "text": [
            "1\n",
            "('hello',)\n"
          ]
        }
      ]
    },
    {
      "cell_type": "code",
      "source": [
        "# Tuple packing and unpacking\n",
        "packed_tuple = 12345, 54321, 'hello!'\n",
        "first_tuple_number, second_tuple_number, third_tuple_string = packed_tuple\n",
        "print(first_tuple_number)\n",
        "print(second_tuple_number)\n",
        "print(third_tuple_string)"
      ],
      "metadata": {
        "colab": {
          "base_uri": "https://localhost:8080/"
        },
        "id": "sZx7NkXH5q-W",
        "outputId": "d957d9cc-61f4-48ca-faae-7886e1fba5f8"
      },
      "execution_count": null,
      "outputs": [
        {
          "output_type": "stream",
          "name": "stdout",
          "text": [
            "12345\n",
            "54321\n",
            "hello!\n"
          ]
        }
      ]
    },
    {
      "cell_type": "code",
      "source": [
        "# Swapping using tuples\n",
        "first_number = 123\n",
        "second_number = 456\n",
        "first_number, second_number = second_number, first_number\n",
        "print(first_number)\n",
        "print(second_number)"
      ],
      "metadata": {
        "colab": {
          "base_uri": "https://localhost:8080/"
        },
        "id": "m5SZxxQd5xlg",
        "outputId": "d4ef8191-6e7d-4efa-a3ec-c65f37459cd5"
      },
      "execution_count": null,
      "outputs": [
        {
          "output_type": "stream",
          "name": "stdout",
          "text": [
            "456\n",
            "123\n"
          ]
        }
      ]
    },
    {
      "cell_type": "markdown",
      "source": [
        "# Sets in python 💲\n",
        "-  A set is a collection which is unordered and unindexed.\n",
        "- In Python sets are written with curly brackets.\n",
        "- Set objects also support mathematical operations like union, intersection, difference, and symmetric difference."
      ],
      "metadata": {
        "id": "oHJa03Ep7nK_"
      }
    },
    {
      "cell_type": "code",
      "source": [
        "# Sets\n",
        "fruits_set = {\"apple\", \"banana\", \"cherry\"}\n",
        "print(isinstance(fruits_set, set))"
      ],
      "metadata": {
        "colab": {
          "base_uri": "https://localhost:8080/"
        },
        "id": "rvqxM1DM-H7H",
        "outputId": "64ac7d55-23fa-44e7-e9df-53aa481e6680"
      },
      "execution_count": null,
      "outputs": [
        {
          "output_type": "stream",
          "name": "stdout",
          "text": [
            "True\n"
          ]
        }
      ]
    },
    {
      "cell_type": "code",
      "source": [
        "# Use the set() constructor to make a set\n",
        "fruits_set_via_constructor = set((\"apple\", \"banana\", \"cherry\"))\n",
        "print(isinstance(fruits_set_via_constructor, set))"
      ],
      "metadata": {
        "colab": {
          "base_uri": "https://localhost:8080/"
        },
        "id": "72FksEqU_OCt",
        "outputId": "1fad8c27-a0e9-4589-bf68-420043b0b2db"
      },
      "execution_count": null,
      "outputs": [
        {
          "output_type": "stream",
          "name": "stdout",
          "text": [
            "True\n"
          ]
        }
      ]
    },
    {
      "cell_type": "code",
      "source": [
        "# Set methods\n",
        "fruits_set = {\"apple\", \"banana\", \"cherry\"}"
      ],
      "metadata": {
        "id": "RtV35_ZQ_QqF"
      },
      "execution_count": null,
      "outputs": []
    },
    {
      "cell_type": "code",
      "source": [
        "# Check if the item is in the set\n",
        "print(\"apple\" in fruits_set)\n",
        "print(\"pineapple\" not in fruits_set)"
      ],
      "metadata": {
        "colab": {
          "base_uri": "https://localhost:8080/"
        },
        "id": "g6Xq7N49_TY9",
        "outputId": "9f6329b4-e6ea-4e88-ba10-3e3d49bbeb6c"
      },
      "execution_count": null,
      "outputs": [
        {
          "output_type": "stream",
          "name": "stdout",
          "text": [
            "True\n",
            "True\n"
          ]
        }
      ]
    },
    {
      "cell_type": "code",
      "source": [
        "# Return the number of items\n",
        "print(len(fruits_set))"
      ],
      "metadata": {
        "colab": {
          "base_uri": "https://localhost:8080/"
        },
        "id": "pNqx9FsT_WDC",
        "outputId": "047fa4e6-a046-4e78-87f6-175946f8553b"
      },
      "execution_count": null,
      "outputs": [
        {
          "output_type": "stream",
          "name": "stdout",
          "text": [
            "3\n"
          ]
        }
      ]
    },
    {
      "cell_type": "code",
      "source": [
        "# Add an item\n",
        "fruits_set.add(\"pineapple\")\n",
        "print(\"pineapple\" in fruits_set)\n",
        "print(len(fruits_set))"
      ],
      "metadata": {
        "colab": {
          "base_uri": "https://localhost:8080/"
        },
        "id": "Lmyim_5H_ZLp",
        "outputId": "101327c1-3c31-4e81-fa02-e3eb98334d1e"
      },
      "execution_count": null,
      "outputs": [
        {
          "output_type": "stream",
          "name": "stdout",
          "text": [
            "True\n",
            "4\n"
          ]
        }
      ]
    },
    {
      "cell_type": "code",
      "source": [
        "# Remove an item\n",
        "fruits_set.remove(\"pineapple\")\n",
        "print(\"pineapple\" not in fruits_set)\n",
        "print(len(fruits_set))"
      ],
      "metadata": {
        "colab": {
          "base_uri": "https://localhost:8080/"
        },
        "id": "f7sRGljJ_bp8",
        "outputId": "44f8844c-db94-4167-e1ef-40ea2637b10c"
      },
      "execution_count": null,
      "outputs": [
        {
          "output_type": "stream",
          "name": "stdout",
          "text": [
            "True\n",
            "3\n"
          ]
        }
      ]
    },
    {
      "cell_type": "code",
      "source": [
        " #Demonstrate set operations on unique letters from two words\n",
        "first_char_set = set('abracadabra')\n",
        "second_char_set = set('alacazam')\n",
        "\n",
        "print(first_char_set)\n",
        "print(second_char_set)"
      ],
      "metadata": {
        "colab": {
          "base_uri": "https://localhost:8080/"
        },
        "id": "vHU-Bd06_e3Q",
        "outputId": "84746a1b-4177-415a-dcf2-632f52f37d85"
      },
      "execution_count": null,
      "outputs": [
        {
          "output_type": "stream",
          "name": "stdout",
          "text": [
            "{'d', 'r', 'a', 'c', 'b'}\n",
            "{'z', 'a', 'm', 'l', 'c'}\n"
          ]
        }
      ]
    },
    {
      "cell_type": "code",
      "source": [
        "# Letters in the first word but not in the second\n",
        "print(first_char_set - second_char_set)"
      ],
      "metadata": {
        "colab": {
          "base_uri": "https://localhost:8080/"
        },
        "id": "9tCM962d_jPA",
        "outputId": "26bb1a4b-8ac1-4033-869d-a1509be45e61"
      },
      "execution_count": null,
      "outputs": [
        {
          "output_type": "stream",
          "name": "stdout",
          "text": [
            "{'d', 'r', 'b'}\n"
          ]
        }
      ]
    },
    {
      "cell_type": "code",
      "source": [
        "# Letters in the first or second word or both\n",
        "print(first_char_set | second_char_set)"
      ],
      "metadata": {
        "colab": {
          "base_uri": "https://localhost:8080/"
        },
        "id": "pzjnewE9_n8T",
        "outputId": "d533d62b-d21f-4a33-9011-1875ea218ef6"
      },
      "execution_count": null,
      "outputs": [
        {
          "output_type": "stream",
          "name": "stdout",
          "text": [
            "{'d', 'r', 'z', 'a', 'm', 'l', 'c', 'b'}\n"
          ]
        }
      ]
    },
    {
      "cell_type": "code",
      "source": [
        "# Common letters in both words\n",
        "print(first_char_set & second_char_set)"
      ],
      "metadata": {
        "colab": {
          "base_uri": "https://localhost:8080/"
        },
        "id": "smwVCMst_qLA",
        "outputId": "005c9d8d-c6c7-41fe-ed86-d0759fbce00d"
      },
      "execution_count": null,
      "outputs": [
        {
          "output_type": "stream",
          "name": "stdout",
          "text": [
            "{'a', 'c'}\n"
          ]
        }
      ]
    },
    {
      "cell_type": "code",
      "source": [
        "# Letters in the first or second word but not both\n",
        "print(first_char_set ^ second_char_set)"
      ],
      "metadata": {
        "colab": {
          "base_uri": "https://localhost:8080/"
        },
        "id": "OuHyFoEW_tVb",
        "outputId": "cd92a3d3-3b77-421b-827a-8f6df91f57ba"
      },
      "execution_count": null,
      "outputs": [
        {
          "output_type": "stream",
          "name": "stdout",
          "text": [
            "{'m', 'l', 'd', 'r', 'b', 'z'}\n"
          ]
        }
      ]
    },
    {
      "cell_type": "code",
      "source": [
        "# Set comprehensions\n",
        "word = {char for char in 'abracadabra' if char not in 'abc'}\n",
        "print(word)"
      ],
      "metadata": {
        "colab": {
          "base_uri": "https://localhost:8080/"
        },
        "id": "26fPKcsd_xn3",
        "outputId": "5f43107a-ef22-4382-b423-d6358514b87a"
      },
      "execution_count": null,
      "outputs": [
        {
          "output_type": "stream",
          "name": "stdout",
          "text": [
            "{'d', 'r'}\n"
          ]
        }
      ]
    },
    {
      "cell_type": "markdown",
      "source": [
        "# Dictionary in python\n",
        "- A dictionary is a collection which is unordered, changeable, and indexed. In Python dictionaries are\n",
        "written with curly brackets, and they have keys and values."
      ],
      "metadata": {
        "id": "JEKtUhRH_7U3"
      }
    },
    {
      "cell_type": "code",
      "source": [
        "# Dictionary\n",
        "fruits_dictionary = {\n",
        "    'cherry': 'red',\n",
        "    'apple': 'green',\n",
        "    'banana': 'yellow',\n",
        "}\n",
        "\n",
        "print(isinstance(fruits_dictionary, dict))"
      ],
      "metadata": {
        "colab": {
          "base_uri": "https://localhost:8080/"
        },
        "id": "Z1Ib0H8M_z0q",
        "outputId": "4f97e1db-d05d-4baf-e51f-439fdd68fada"
      },
      "execution_count": null,
      "outputs": [
        {
          "output_type": "stream",
          "name": "stdout",
          "text": [
            "True\n"
          ]
        }
      ]
    },
    {
      "cell_type": "code",
      "source": [
        "# Access dictionary elements by keys\n",
        "print(fruits_dictionary['apple'])\n",
        "print(fruits_dictionary['banana'])\n",
        "print(fruits_dictionary['cherry'])"
      ],
      "metadata": {
        "colab": {
          "base_uri": "https://localhost:8080/"
        },
        "id": "HgBhX3_zAFnh",
        "outputId": "215cb844-00be-4551-87b8-6ac1d19dbc0d"
      },
      "execution_count": null,
      "outputs": [
        {
          "output_type": "stream",
          "name": "stdout",
          "text": [
            "green\n",
            "yellow\n",
            "red\n"
          ]
        }
      ]
    },
    {
      "cell_type": "code",
      "source": [
        "# Check whether a key exists in the dictionary\n",
        "print('apple' in fruits_dictionary)\n",
        "print('pineapple' not in fruits_dictionary)"
      ],
      "metadata": {
        "colab": {
          "base_uri": "https://localhost:8080/"
        },
        "id": "k9gKbGgkAMfg",
        "outputId": "50222d7f-65e9-4dbc-ead9-58200517de27"
      },
      "execution_count": null,
      "outputs": [
        {
          "output_type": "stream",
          "name": "stdout",
          "text": [
            "True\n",
            "True\n"
          ]
        }
      ]
    },
    {
      "cell_type": "code",
      "source": [
        "# Change the apple color to \"red\"\n",
        "fruits_dictionary['apple'] = 'red'\n",
        "fruits_dictionary"
      ],
      "metadata": {
        "colab": {
          "base_uri": "https://localhost:8080/"
        },
        "id": "AcYpkw9pAOqf",
        "outputId": "79ff89e2-4a72-4d0f-a802-3f4f3b75585a"
      },
      "execution_count": null,
      "outputs": [
        {
          "output_type": "execute_result",
          "data": {
            "text/plain": [
              "{'cherry': 'red', 'apple': 'red', 'banana': 'yellow'}"
            ]
          },
          "metadata": {},
          "execution_count": 91
        }
      ]
    },
    {
      "cell_type": "code",
      "source": [
        "# Add a new key/value pair to the dictionary\n",
        "fruits_dictionary['pineapple'] = 'yellow'\n",
        "print(fruits_dictionary['pineapple'])"
      ],
      "metadata": {
        "colab": {
          "base_uri": "https://localhost:8080/"
        },
        "id": "Hv754OB7AREV",
        "outputId": "73eceb77-5b36-41ec-bc31-e62990afde6e"
      },
      "execution_count": null,
      "outputs": [
        {
          "output_type": "stream",
          "name": "stdout",
          "text": [
            "yellow\n"
          ]
        }
      ]
    },
    {
      "cell_type": "code",
      "source": [
        "# Retrieve keys in insertion order\n",
        "print(list(fruits_dictionary))\n",
        "print(sorted(fruits_dictionary))"
      ],
      "metadata": {
        "colab": {
          "base_uri": "https://localhost:8080/"
        },
        "id": "8xgXD6OOAZMh",
        "outputId": "fc2bc0fc-fcca-45e5-a062-01c868d0552f"
      },
      "execution_count": null,
      "outputs": [
        {
          "output_type": "stream",
          "name": "stdout",
          "text": [
            "['cherry', 'apple', 'banana', 'pineapple']\n",
            "['apple', 'banana', 'cherry', 'pineapple']\n"
          ]
        }
      ]
    },
    {
      "cell_type": "code",
      "source": [
        "# Delete a key:value pair\n",
        "del fruits_dictionary['pineapple']\n",
        "print(list(fruits_dictionary))"
      ],
      "metadata": {
        "colab": {
          "base_uri": "https://localhost:8080/"
        },
        "id": "N29eo6U-Abtx",
        "outputId": "a81f7fe7-232a-4da3-8c22-a1451ef9c591"
      },
      "execution_count": null,
      "outputs": [
        {
          "output_type": "stream",
          "name": "stdout",
          "text": [
            "['cherry', 'apple', 'banana']\n"
          ]
        }
      ]
    },
    {
      "cell_type": "code",
      "source": [
        "# Build a dictionary using the dict() constructor\n",
        "dictionary_via_constructor = dict([('sape', 4139), ('guido', 4127), ('jack', 4098)])\n",
        "\n",
        "print(dictionary_via_constructor['sape'])\n",
        "print(dictionary_via_constructor['guido'])\n",
        "print(dictionary_via_constructor['jack'])"
      ],
      "metadata": {
        "colab": {
          "base_uri": "https://localhost:8080/"
        },
        "id": "3BC6tO-gAeqW",
        "outputId": "8d3acae0-4b7e-43b7-e13b-69ef83fd06d8"
      },
      "execution_count": null,
      "outputs": [
        {
          "output_type": "stream",
          "name": "stdout",
          "text": [
            "4139\n",
            "4127\n",
            "4098\n"
          ]
        }
      ]
    },
    {
      "cell_type": "code",
      "source": [
        "# Dictionary comprehensions\n",
        "dictionary_via_expression = {x: x**2 for x in (2, 4, 6)}\n",
        "\n",
        "print(dictionary_via_expression[2])\n",
        "print(dictionary_via_expression[4])\n",
        "print(dictionary_via_expression[6])"
      ],
      "metadata": {
        "colab": {
          "base_uri": "https://localhost:8080/"
        },
        "id": "V-DTYobXAh9C",
        "outputId": "6d3a1ce8-fe3e-4ce1-e7fe-d291149b6de9"
      },
      "execution_count": null,
      "outputs": [
        {
          "output_type": "stream",
          "name": "stdout",
          "text": [
            "4\n",
            "16\n",
            "36\n"
          ]
        }
      ]
    },
    {
      "cell_type": "code",
      "source": [
        "# Using keyword arguments for simple string keys\n",
        "dictionary_for_string_keys = dict(sape=4139, guido=4127, jack=4098)\n",
        "\n",
        "print(dictionary_for_string_keys['sape'])\n",
        "print(dictionary_for_string_keys['guido'])\n",
        "print(dictionary_for_string_keys['jack'])"
      ],
      "metadata": {
        "colab": {
          "base_uri": "https://localhost:8080/"
        },
        "id": "BNodoemcAk34",
        "outputId": "e94d7875-e0ed-48ad-9000-051130896f83"
      },
      "execution_count": null,
      "outputs": [
        {
          "output_type": "stream",
          "name": "stdout",
          "text": [
            "4139\n",
            "4127\n",
            "4098\n"
          ]
        }
      ]
    },
    {
      "cell_type": "markdown",
      "source": [
        "# Type casting.\n",
        "- int() - constructs an integer number from an integer literal, a float literal (by rounding down\n",
        "to the previous whole number) literal, or a string literal (providing the string represents a\n",
        "whole number)\n",
        "\n",
        "- float() - constructs a float number from an integer literal, a float literal or a string literal\n",
        "(providing the string represents a float or an integer)\n",
        "\n",
        "- str() - constructs a string from a wide variety of data types, including strings, integer\n",
        "literals and float literals\n",
        "\n"
      ],
      "metadata": {
        "id": "_cWBetjQBFhi"
      }
    },
    {
      "cell_type": "code",
      "source": [
        "# Type casting to integer\n",
        "print(int(1))\n",
        "print(int(2.8))\n",
        "print(int('3'))"
      ],
      "metadata": {
        "colab": {
          "base_uri": "https://localhost:8080/"
        },
        "id": "nUvXXWKQAoss",
        "outputId": "4892cf95-77d1-44c1-9863-42c98f0d5d5c"
      },
      "execution_count": null,
      "outputs": [
        {
          "output_type": "stream",
          "name": "stdout",
          "text": [
            "1\n",
            "2\n",
            "3\n"
          ]
        }
      ]
    },
    {
      "cell_type": "code",
      "source": [
        "# Type casting to float\n",
        "print(float(1))\n",
        "print(float(2.8))\n",
        "print(float(\"3\"))\n",
        "print(float(\"4.2\"))"
      ],
      "metadata": {
        "colab": {
          "base_uri": "https://localhost:8080/"
        },
        "id": "vKSRr7UZBPxT",
        "outputId": "5ff04cf6-3ec2-43a0-a9b3-1e381cc29984"
      },
      "execution_count": null,
      "outputs": [
        {
          "output_type": "stream",
          "name": "stdout",
          "text": [
            "1.0\n",
            "2.8\n",
            "3.0\n",
            "4.2\n"
          ]
        }
      ]
    },
    {
      "cell_type": "code",
      "source": [
        "# Type casting to string\n",
        "print(str(\"s1\"))\n",
        "print(str(2))\n",
        "print(str(3.0))"
      ],
      "metadata": {
        "colab": {
          "base_uri": "https://localhost:8080/"
        },
        "id": "rEnY_KjBBSft",
        "outputId": "d5920dfa-1b90-418a-b124-0f666fe9867f"
      },
      "execution_count": null,
      "outputs": [
        {
          "output_type": "stream",
          "name": "stdout",
          "text": [
            "s1\n",
            "2\n",
            "3.0\n"
          ]
        }
      ]
    },
    {
      "cell_type": "markdown",
      "source": [
        "# Control Flow  💻"
      ],
      "metadata": {
        "id": "7jcyRfgeXT73"
      }
    },
    {
      "cell_type": "markdown",
      "source": [
        "# IF statement\n",
        "- An if … elif … elif … sequence is a substitute for the switch or case statements found\n",
        "in other languages"
      ],
      "metadata": {
        "id": "CpIYw-WtXsSE"
      }
    },
    {
      "cell_type": "code",
      "source": [
        "# IF statement\n",
        "\n",
        "number = 15\n",
        "conclusion = ''\n",
        "\n",
        "if number < 0:\n",
        "    conclusion = 'Number is less than zero'\n",
        "elif number == 0:\n",
        "    conclusion = 'Number equals to zero'\n",
        "elif number < 1:\n",
        "    conclusion = 'Number is greater than zero but less than one'\n",
        "else:\n",
        "    conclusion = 'Number bigger than or equal to one'\n",
        "\n",
        "print(conclusion)"
      ],
      "metadata": {
        "colab": {
          "base_uri": "https://localhost:8080/"
        },
        "id": "h8gOt_KtBUp5",
        "outputId": "c6c47e12-87ec-44fb-e8f6-2ccb4615e319"
      },
      "execution_count": null,
      "outputs": [
        {
          "output_type": "stream",
          "name": "stdout",
          "text": [
            "Number bigger than or equal to one\n"
          ]
        }
      ]
    },
    {
      "cell_type": "markdown",
      "source": [
        "# **FOR statement**\n",
        "- The for statement in Python iterates over the items of any sequence (a list or a string),\n",
        "in the order they appear in the sequence"
      ],
      "metadata": {
        "id": "DySBHKxJY8o3"
      }
    },
    {
      "cell_type": "code",
      "source": [
        "# Measure some strings\n",
        "words = ['cat', 'window', 'defenestrate']\n",
        "words_length = 0\n",
        "\n",
        "for word in words:\n",
        "    words_length += len(word)\n",
        "\n",
        "print(words_length)  # Output: Total length of words"
      ],
      "metadata": {
        "colab": {
          "base_uri": "https://localhost:8080/"
        },
        "id": "QggJL9DHX89g",
        "outputId": "9151ea45-8ebe-4307-970b-0ddc18f44c06"
      },
      "execution_count": null,
      "outputs": [
        {
          "output_type": "stream",
          "name": "stdout",
          "text": [
            "21\n"
          ]
        }
      ]
    },
    {
      "cell_type": "code",
      "source": [
        "# Modifying a sequence during iteration using a slice copy\n",
        "for word in words[:]:\n",
        "    if len(word) > 6:\n",
        "        words.insert(0, word)\n",
        "\n",
        "print(words)  # Output: Updated list with inserted items"
      ],
      "metadata": {
        "colab": {
          "base_uri": "https://localhost:8080/"
        },
        "id": "oTjr9nRaZPWG",
        "outputId": "3a7f5115-54b4-4459-dd16-e6159cdfd43a"
      },
      "execution_count": null,
      "outputs": [
        {
          "output_type": "stream",
          "name": "stdout",
          "text": [
            "['defenestrate', 'cat', 'window', 'defenestrate']\n"
          ]
        }
      ]
    },
    {
      "cell_type": "code",
      "source": [
        "# Iterating over a sequence of numbers with range()\n",
        "iterated_numbers = []\n",
        "for number in range(5):\n",
        "    iterated_numbers.append(number)\n",
        "\n",
        "print(iterated_numbers)  # Output: [0, 1, 2, 3, 4]"
      ],
      "metadata": {
        "colab": {
          "base_uri": "https://localhost:8080/"
        },
        "id": "jN074mADZfJH",
        "outputId": "b1c75271-0968-4d35-c9ae-c7e5d722aaf2"
      },
      "execution_count": null,
      "outputs": [
        {
          "output_type": "stream",
          "name": "stdout",
          "text": [
            "[0, 1, 2, 3, 4]\n"
          ]
        }
      ]
    },
    {
      "cell_type": "code",
      "source": [
        "# Iterating over indices using range() and len()\n",
        "words = ['Mary', 'had', 'a', 'little', 'lamb']\n",
        "concatenated_string = ''\n",
        "for word_index in range(len(words)):\n",
        "    concatenated_string += words[word_index] + ' '\n",
        "\n",
        "print(concatenated_string)"
      ],
      "metadata": {
        "colab": {
          "base_uri": "https://localhost:8080/"
        },
        "id": "eEBVs-2uZjT7",
        "outputId": "9b9a8ed1-def7-40a2-d49c-97d2ba921891"
      },
      "execution_count": null,
      "outputs": [
        {
          "output_type": "stream",
          "name": "stdout",
          "text": [
            "Mary had a little lamb \n"
          ]
        }
      ]
    },
    {
      "cell_type": "code",
      "source": [
        "# Using enumerate() for indices and values\n",
        "concatenated_string = ''\n",
        "for word_index, word in enumerate(words):\n",
        "    concatenated_string += word + ' '\n",
        "\n",
        "print(concatenated_string)"
      ],
      "metadata": {
        "colab": {
          "base_uri": "https://localhost:8080/"
        },
        "id": "nxKLrBUMZm6g",
        "outputId": "2b8d8200-9717-4d8c-952a-27af64a58515"
      },
      "execution_count": null,
      "outputs": [
        {
          "output_type": "stream",
          "name": "stdout",
          "text": [
            "Mary had a little lamb \n"
          ]
        }
      ]
    },
    {
      "cell_type": "code",
      "source": [
        "# Looping through dictionaries with items()\n",
        "knights_names = []\n",
        "knights_properties = []\n",
        "knights = {'gallahad': 'the pure', 'robin': 'the brave'}\n",
        "for key, value in knights.items():\n",
        "    knights_names.append(key)\n",
        "    knights_properties.append(value)\n",
        "\n",
        "print(knights_names)\n",
        "print(knights_properties)"
      ],
      "metadata": {
        "colab": {
          "base_uri": "https://localhost:8080/"
        },
        "id": "kMMoedvRZq8x",
        "outputId": "5e720dfa-9c30-42ef-eccc-1f70893926c1"
      },
      "execution_count": null,
      "outputs": [
        {
          "output_type": "stream",
          "name": "stdout",
          "text": [
            "['gallahad', 'robin']\n",
            "['the pure', 'the brave']\n"
          ]
        }
      ]
    },
    {
      "cell_type": "code",
      "source": [
        "# Enumerating indices and values\n",
        "indices = []\n",
        "values = []\n",
        "for index, value in enumerate(['tic', 'tac', 'toe']):\n",
        "    indices.append(index)\n",
        "    values.append(value)\n",
        "\n",
        "print(indices)\n",
        "print(values)"
      ],
      "metadata": {
        "colab": {
          "base_uri": "https://localhost:8080/"
        },
        "id": "Qhk5BBW8aErs",
        "outputId": "cd1ae1fa-c30b-4d29-c0e4-9c5f166e8522"
      },
      "execution_count": null,
      "outputs": [
        {
          "output_type": "stream",
          "name": "stdout",
          "text": [
            "[0, 1, 2]\n",
            "['tic', 'tac', 'toe']\n"
          ]
        }
      ]
    },
    {
      "cell_type": "code",
      "source": [
        "# Looping over two sequences with zip()\n",
        "questions = ['name', 'quest', 'favorite color']\n",
        "answers = ['lancelot', 'the holy grail', 'blue']\n",
        "combinations = []\n",
        "for question, answer in zip(questions, answers):\n",
        "    combinations.append(f'What is your {question}?  It is {answer}.')\n",
        "\n",
        "print(combinations)"
      ],
      "metadata": {
        "colab": {
          "base_uri": "https://localhost:8080/"
        },
        "id": "YqtpkjsOaQtA",
        "outputId": "269b6a3d-6d8f-400b-e0b2-4acf1c6a5946"
      },
      "execution_count": null,
      "outputs": [
        {
          "output_type": "stream",
          "name": "stdout",
          "text": [
            "['What is your name?  It is lancelot.', 'What is your quest?  It is the holy grail.', 'What is your favorite color?  It is blue.']\n"
          ]
        }
      ]
    },
    {
      "cell_type": "code",
      "source": [
        "# Range function\n",
        "print(list(range(5)))\n",
        "print(list(range(5, 10)))\n",
        "print(list(range(0, 10, 3)))\n",
        "print(list(range(-10, -100, -30)))"
      ],
      "metadata": {
        "colab": {
          "base_uri": "https://localhost:8080/"
        },
        "id": "dfIxDTb-aVpz",
        "outputId": "289348b4-b6f0-461d-d656-367e3335f14d"
      },
      "execution_count": null,
      "outputs": [
        {
          "output_type": "stream",
          "name": "stdout",
          "text": [
            "[0, 1, 2, 3, 4]\n",
            "[5, 6, 7, 8, 9]\n",
            "[0, 3, 6, 9]\n",
            "[-10, -40, -70]\n"
          ]
        }
      ]
    },
    {
      "cell_type": "markdown",
      "source": [
        "# WHILE statement\n",
        "- The while loop executes as long as the condition remains true."
      ],
      "metadata": {
        "id": "WCR9x5DUbCGn"
      }
    },
    {
      "cell_type": "code",
      "source": [
        "# WHILE statement\n",
        "\n",
        "# Raising a number to a certain power using a while loop\n",
        "number = 2\n",
        "power = 5\n",
        "result = 1\n",
        "\n",
        "while power > 0:\n",
        "    result *= number\n",
        "    power -= 1\n",
        "\n",
        "# Output the result of 2^5\n",
        "print(result)"
      ],
      "metadata": {
        "colab": {
          "base_uri": "https://localhost:8080/"
        },
        "id": "aRWLmamradTV",
        "outputId": "d111a682-67e1-4c81-83c3-340b6b7dea43"
      },
      "execution_count": null,
      "outputs": [
        {
          "output_type": "stream",
          "name": "stdout",
          "text": [
            "32\n"
          ]
        }
      ]
    },
    {
      "cell_type": "markdown",
      "source": [
        "# TRY statement\n",
        "- \"try\" statement is used for exception handling.\n",
        "When an error occurs, or exception as we call it, Python will normally stop and generate an error\n",
        "message. These exceptions can be handled using the try statement.\n",
        "\n",
        "- The \"try\" block lets you test a block of code for errors.\n",
        "- The \"except\" block lets you handle the error.\n",
        "- The \"else\" block lets you execute the code if no errors were raised.\n",
        "- The \"finally\" block lets you execute code, regardless of the result of the try- and except blocks"
      ],
      "metadata": {
        "id": "TouDlh00bpCq"
      }
    },
    {
      "cell_type": "code",
      "source": [
        "# Example 1: Catching an exception\n",
        "exception_has_been_caught = False\n",
        "\n",
        "try:\n",
        "    print(not_existing_variable)  # This will raise a NameError\n",
        "except NameError:\n",
        "    exception_has_been_caught = True\n",
        "\n",
        "print(exception_has_been_caught)"
      ],
      "metadata": {
        "colab": {
          "base_uri": "https://localhost:8080/"
        },
        "id": "zTeVXhrIbQQT",
        "outputId": "8c83b50e-1895-4a2f-c653-89babed5dd3f"
      },
      "execution_count": null,
      "outputs": [
        {
          "output_type": "stream",
          "name": "stdout",
          "text": [
            "True\n"
          ]
        }
      ]
    },
    {
      "cell_type": "code",
      "source": [
        "# Example 2: Handling a specific exception with a message\n",
        "exception_message = ''\n",
        "\n",
        "try:\n",
        "    print(not_existing_variable)  # This will raise a NameError\n",
        "except NameError:\n",
        "    exception_message = 'Variable is not defined'\n",
        "\n",
        "print(exception_message)"
      ],
      "metadata": {
        "colab": {
          "base_uri": "https://localhost:8080/"
        },
        "id": "_HXiwRQxcjjq",
        "outputId": "8de0c851-4df3-4706-aa14-7b7800c1b9d8"
      },
      "execution_count": null,
      "outputs": [
        {
          "output_type": "stream",
          "name": "stdout",
          "text": [
            "Variable is not defined\n"
          ]
        }
      ]
    },
    {
      "cell_type": "code",
      "source": [
        "# Example 3: Using else for code that runs when no exceptions occur\n",
        "message = ''\n",
        "\n",
        "try:\n",
        "    message += 'Success.'\n",
        "except NameError:\n",
        "    message += 'Something went wrong.'\n",
        "else:\n",
        "    message += 'Nothing went wrong.'\n",
        "\n",
        "print(message)"
      ],
      "metadata": {
        "colab": {
          "base_uri": "https://localhost:8080/"
        },
        "id": "0wYLr5cYcpid",
        "outputId": "7cf683dd-a7d5-4628-a394-4696350be6b6"
      },
      "execution_count": null,
      "outputs": [
        {
          "output_type": "stream",
          "name": "stdout",
          "text": [
            "Success.Nothing went wrong.\n"
          ]
        }
      ]
    },
    {
      "cell_type": "code",
      "source": [
        "# Example 4: Using finally to execute code regardless of exceptions\n",
        "message = ''\n",
        "\n",
        "try:\n",
        "    print(not_existing_variable)  # This will raise a NameError\n",
        "except NameError:\n",
        "    message += 'Something went wrong.'\n",
        "finally:\n",
        "    message += 'The \"try except\" is finished.'\n",
        "\n",
        "print(message)"
      ],
      "metadata": {
        "colab": {
          "base_uri": "https://localhost:8080/"
        },
        "id": "OAoEyFADcvim",
        "outputId": "b41edb50-8ced-4302-e40d-5c35e6a8e1fb"
      },
      "execution_count": null,
      "outputs": [
        {
          "output_type": "stream",
          "name": "stdout",
          "text": [
            "Something went wrong.The \"try except\" is finished.\n"
          ]
        }
      ]
    },
    {
      "cell_type": "markdown",
      "source": [
        "# BREAK statement\n",
        "- The break statement, like in C, breaks out of the innermost enclosing \"for\" or \"while\" loop."
      ],
      "metadata": {
        "id": "IdgyaT9kdCTY"
      }
    },
    {
      "cell_type": "code",
      "source": [
        "# Terminate the loop if the number we need is found\n",
        "number_to_be_found = 42\n",
        "number_of_iterations = 0\n",
        "\n",
        "for number in range(100):\n",
        "    if number == number_to_be_found:\n",
        "        # Break here and don't continue the loop\n",
        "        break\n",
        "    else:\n",
        "        number_of_iterations += 1\n",
        "\n",
        "# Print the number of iterations before the loop was terminated\n",
        "print(number_of_iterations)"
      ],
      "metadata": {
        "colab": {
          "base_uri": "https://localhost:8080/"
        },
        "id": "hy6fzRLqc0JP",
        "outputId": "cafa3a78-abc0-48f4-9dcb-bdc6b5139d2b"
      },
      "execution_count": null,
      "outputs": [
        {
          "output_type": "stream",
          "name": "stdout",
          "text": [
            "42\n"
          ]
        }
      ]
    },
    {
      "cell_type": "markdown",
      "source": [
        "# CONTINUE statement\n",
        "- The continue statement is borrowed from C, continues with the next iteration of the loop."
      ],
      "metadata": {
        "id": "O5Djnnu9dzvG"
      }
    },
    {
      "cell_type": "code",
      "source": [
        "# CONTINUE statement in FOR loop\n",
        "\n",
        "# Lists to separate even and odd numbers\n",
        "even_numbers = []\n",
        "rest_of_the_numbers = []\n",
        "\n",
        "for number in range(0, 10):\n",
        "    # Check if the number is even\n",
        "    if number % 2 == 0:\n",
        "        even_numbers.append(number)\n",
        "        # Skip the rest of the loop for this iteration\n",
        "        continue\n",
        "    rest_of_the_numbers.append(number)\n",
        "\n",
        "# Output the results\n",
        "print(even_numbers)\n",
        "print(rest_of_the_numbers)"
      ],
      "metadata": {
        "colab": {
          "base_uri": "https://localhost:8080/"
        },
        "id": "tudHgWfMdlyo",
        "outputId": "5ca11276-6ef0-4632-d44c-67f83b7dd4eb"
      },
      "execution_count": null,
      "outputs": [
        {
          "output_type": "stream",
          "name": "stdout",
          "text": [
            "[0, 2, 4, 6, 8]\n",
            "[1, 3, 5, 7, 9]\n"
          ]
        }
      ]
    },
    {
      "cell_type": "markdown",
      "source": [
        "# Functions in python\n",
        "- The keyword def introduces a function definition. It must be followed by the function name and the\n",
        "parenthesized list of formal parameters. The statements that form the body of the function start at\n",
        "the next line, and must be indented\n"
      ],
      "metadata": {
        "id": "GTQbteqMegtM"
      }
    },
    {
      "cell_type": "code",
      "source": [
        "# Fibonacci function definition\n",
        "def fibonacci_function_example(number_limit):\n",
        "    \"\"\"Generate a Fibonacci series up to number_limit.\"\"\"\n",
        "    fibonacci_list = []\n",
        "    previous_number, current_number = 0, 1\n",
        "    while previous_number < number_limit:\n",
        "        fibonacci_list.append(previous_number)\n",
        "        previous_number, current_number = current_number, previous_number + current_number\n",
        "    return fibonacci_list\n",
        "\n",
        "# Call the Fibonacci function and print the result\n",
        "print(fibonacci_function_example(300))"
      ],
      "metadata": {
        "colab": {
          "base_uri": "https://localhost:8080/"
        },
        "id": "gMQ9Sx4WeLte",
        "outputId": "21deb407-2fe8-46c7-f6f2-b2a47fcc60db"
      },
      "execution_count": null,
      "outputs": [
        {
          "output_type": "stream",
          "name": "stdout",
          "text": [
            "[0, 1, 1, 2, 3, 5, 8, 13, 21, 34, 55, 89, 144, 233]\n"
          ]
        }
      ]
    },
    {
      "cell_type": "code",
      "source": [
        "# Assign the Fibonacci function to another variable and call it\n",
        "fibonacci_function_clone = fibonacci_function_example\n",
        "print(fibonacci_function_clone(300))"
      ],
      "metadata": {
        "colab": {
          "base_uri": "https://localhost:8080/"
        },
        "id": "W__f6l-HfUTe",
        "outputId": "a76cf688-a7d3-4dfa-857b-aded3ef0f742"
      },
      "execution_count": null,
      "outputs": [
        {
          "output_type": "stream",
          "name": "stdout",
          "text": [
            "[0, 1, 1, 2, 3, 5, 8, 13, 21, 34, 55, 89, 144, 233]\n"
          ]
        }
      ]
    },
    {
      "cell_type": "code",
      "source": [
        "# Functions as first-class objects\n",
        "def greet(name):\n",
        "    return 'Hello, ' + name\n",
        "\n",
        "greet_someone = greet\n",
        "print(greet_someone('rahul'))"
      ],
      "metadata": {
        "colab": {
          "base_uri": "https://localhost:8080/"
        },
        "id": "Ez6WkYx7fgm-",
        "outputId": "7f414b2c-f6ea-4769-8865-ffaced049e9f"
      },
      "execution_count": null,
      "outputs": [
        {
          "output_type": "stream",
          "name": "stdout",
          "text": [
            "Hello, rahul\n"
          ]
        }
      ]
    },
    {
      "cell_type": "code",
      "source": [
        "# Nested function example\n",
        "def greet_again(name):\n",
        "    def get_message():\n",
        "        return 'Hello, '\n",
        "    return get_message() + name\n",
        "\n",
        "print(greet_again('veerasankar reddy'))"
      ],
      "metadata": {
        "colab": {
          "base_uri": "https://localhost:8080/"
        },
        "id": "KqJHTJntfmrx",
        "outputId": "622a47a9-69e7-4a7c-80a6-6c3ca59d4ac9"
      },
      "execution_count": null,
      "outputs": [
        {
          "output_type": "stream",
          "name": "stdout",
          "text": [
            "Hello, veerasankar reddy\n"
          ]
        }
      ]
    },
    {
      "cell_type": "code",
      "source": [
        "# Passing functions as parameters\n",
        "def greet_one_more(name):\n",
        "    return 'Hello, ' + name\n",
        "\n",
        "def call_func(func):\n",
        "    other_name = 'samba'\n",
        "    return func(other_name)\n",
        "\n",
        "print(call_func(greet_one_more))"
      ],
      "metadata": {
        "colab": {
          "base_uri": "https://localhost:8080/"
        },
        "id": "2NHLtdFxf00z",
        "outputId": "1e8240e1-8cff-4eb6-d9b9-d27fd0eddb6a"
      },
      "execution_count": null,
      "outputs": [
        {
          "output_type": "stream",
          "name": "stdout",
          "text": [
            "Hello, samba\n"
          ]
        }
      ]
    },
    {
      "cell_type": "code",
      "source": [
        "# Functions returning other functions\n",
        "def compose_greet_func():\n",
        "    def get_message():\n",
        "        return 'Hello there!'\n",
        "    return get_message\n",
        "\n",
        "greet_function = compose_greet_func()\n",
        "print(greet_function())"
      ],
      "metadata": {
        "colab": {
          "base_uri": "https://localhost:8080/"
        },
        "id": "7duhI2rmgDuU",
        "outputId": "5bf6b460-ee98-4a01-fb5a-eba60f1a650f"
      },
      "execution_count": null,
      "outputs": [
        {
          "output_type": "stream",
          "name": "stdout",
          "text": [
            "Hello there!\n"
          ]
        }
      ]
    },
    {
      "cell_type": "code",
      "source": [
        "# Closure example\n",
        "def compose_greet_func_with_closure(name):\n",
        "    def get_message():\n",
        "        return 'Hello there, ' + name + '!'\n",
        "    return get_message\n",
        "\n",
        "greet_with_closure = compose_greet_func_with_closure('rajamouli')\n",
        "print(greet_with_closure())"
      ],
      "metadata": {
        "colab": {
          "base_uri": "https://localhost:8080/"
        },
        "id": "eW-zc2jwgZzp",
        "outputId": "810de8ce-1e67-47f8-892e-97d91f0cab05"
      },
      "execution_count": null,
      "outputs": [
        {
          "output_type": "stream",
          "name": "stdout",
          "text": [
            "Hello there, rajamouli!\n"
          ]
        }
      ]
    },
    {
      "cell_type": "markdown",
      "source": [
        "# Scopes and Namespaces"
      ],
      "metadata": {
        "id": "4EvbA4yUhEUD"
      }
    },
    {
      "cell_type": "markdown",
      "source": [
        "A NAMESPACE is a mapping from names to objects. Most namespaces are currently implemented as Python\n",
        "dictionaries, but that’s normally not noticeable in any way (except for performance), and it may\n",
        "change in the future. Examples of namespaces are: the set of built-in names (containing functions\n",
        "such as abs(), and built-in exception names); the global names in a module; and the local names\n",
        "in a function invocation. In a sense the set of attributes of an object also form a namespace.\n",
        "The important thing to know about namespaces is that there is absolutely no relation between names\n",
        "in different namespaces; for instance, two different modules may both define a function maximize\n",
        "without confusion — users of the modules must prefix it with the module name."
      ],
      "metadata": {
        "id": "BUmhHigPjA7x"
      }
    },
    {
      "cell_type": "code",
      "source": [
        "# Global variable\n",
        "test_variable = 'initial global value'\n",
        "\n",
        "# Example demonstrating scopes and namespaces\n",
        "def test_scopes():\n",
        "    # Local variable in the enclosing function scope\n",
        "    test_variable = 'initial value inside test function'\n",
        "\n",
        "    def do_local():\n",
        "        # Create a variable only accessible inside this function\n",
        "        test_variable = 'local value'\n",
        "        return test_variable\n",
        "\n",
        "    def do_nonlocal():\n",
        "        # Modify the variable from the enclosing scope\n",
        "        nonlocal test_variable\n",
        "        test_variable = 'nonlocal value'\n",
        "        return test_variable\n",
        "\n",
        "    def do_global():\n",
        "        # Modify the global variable\n",
        "        global test_variable\n",
        "        test_variable = 'global value'\n",
        "        return test_variable\n",
        "\n",
        "    # Accessing the local variable\n",
        "    print(test_variable)\n",
        "    # Local assignment does not change the enclosing variable\n",
        "    do_local()\n",
        "    print(test_variable)\n",
        "\n",
        "    # Nonlocal assignment modifies the variable in the enclosing scope\n",
        "    do_nonlocal()\n",
        "    print(test_variable)\n",
        "\n",
        "    # Global assignment changes the global variable\n",
        "    do_global()\n",
        "    print(test_variable)\n",
        "\n",
        "# Run the test scopes\n",
        "test_scopes()\n",
        "\n",
        "# Checking global variable access\n",
        "print(test_variable)"
      ],
      "metadata": {
        "colab": {
          "base_uri": "https://localhost:8080/"
        },
        "id": "49I3PJA3iXiC",
        "outputId": "e3f3b7db-4967-4f48-9597-031099cf5214"
      },
      "execution_count": null,
      "outputs": [
        {
          "output_type": "stream",
          "name": "stdout",
          "text": [
            "initial value inside test function\n",
            "initial value inside test function\n",
            "nonlocal value\n",
            "nonlocal value\n",
            "global value\n"
          ]
        }
      ]
    },
    {
      "cell_type": "markdown",
      "source": [
        "# Default Argument Values\n",
        "-  The most useful form is to specify a default value for one or more arguments. This creates a\n",
        "function that can be called with fewer arguments than it is defined to allow."
      ],
      "metadata": {
        "id": "msVwMY0VjWKG"
      }
    },
    {
      "cell_type": "code",
      "source": [
        "# Function definition with default argument\n",
        "def power_of(number, power=2):\n",
        "    return number ** power\n",
        "\n",
        "# Demonstration of the function\n",
        "\n",
        "# Call the function with the default argument\n",
        "result = power_of(3)\n",
        "print(result)"
      ],
      "metadata": {
        "colab": {
          "base_uri": "https://localhost:8080/"
        },
        "id": "qBr-GKHkithj",
        "outputId": "0a4959d3-dc2d-4ff2-c73e-ed0dcb6b97cf"
      },
      "execution_count": null,
      "outputs": [
        {
          "output_type": "stream",
          "name": "stdout",
          "text": [
            "9\n"
          ]
        }
      ]
    },
    {
      "cell_type": "code",
      "source": [
        "# Call the function with an overridden second argument\n",
        "result = power_of(3, 2)\n",
        "print(result)"
      ],
      "metadata": {
        "colab": {
          "base_uri": "https://localhost:8080/"
        },
        "id": "djeS_Y0ejjZC",
        "outputId": "d26650d6-7638-4e57-920b-d4e96b54bda4"
      },
      "execution_count": null,
      "outputs": [
        {
          "output_type": "stream",
          "name": "stdout",
          "text": [
            "9\n"
          ]
        }
      ]
    },
    {
      "cell_type": "code",
      "source": [
        "result = power_of(3, 3)\n",
        "print(result)"
      ],
      "metadata": {
        "colab": {
          "base_uri": "https://localhost:8080/"
        },
        "id": "Va1jFkSKjoG5",
        "outputId": "c486b844-30d0-4376-f317-6657fa53831f"
      },
      "execution_count": null,
      "outputs": [
        {
          "output_type": "stream",
          "name": "stdout",
          "text": [
            "27\n"
          ]
        }
      ]
    },
    {
      "cell_type": "markdown",
      "source": [
        "# Keyword Arguments\n",
        "- Functions can be called using keyword arguments of the form kwarg=value."
      ],
      "metadata": {
        "id": "OCf6IZKkj2QO"
      }
    },
    {
      "cell_type": "code",
      "source": [
        "def parrot(voltage, state='a stiff', action='voom', parrot_type='Norwegian Blue'):\n",
        "    \"\"\"Example of multi-argument function\n",
        "\n",
        "    This function accepts one required argument (voltage) and three optional arguments\n",
        "    (state, action, and type).\n",
        "    \"\"\"\n",
        "    message = 'This parrot wouldn\\'t ' + action + ' '\n",
        "    message += 'if you put ' + str(voltage) + ' volts through it. '\n",
        "    message += 'Lovely plumage, the ' + parrot_type + '. '\n",
        "    message += 'It\\'s ' + state + '!'\n",
        "    return message\n",
        "\n",
        "print(parrot(1000))\n",
        "print(parrot(voltage=1000))\n",
        "\n",
        "print(parrot(voltage=1000000, action='VOOOOOM'))\n",
        "print(parrot(action='VOOOOOM', voltage=1000000))\n",
        "\n",
        "print(parrot(1000000, 'bereft of life', 'jump'))\n",
        "\n",
        "print(parrot(1000, state='pushing up the daisies'))\n",
        "\n",
        "try:\n",
        "    print(parrot())\n",
        "except Exception as e:\n",
        "    print(\"Error:\", e)\n",
        "try:\n",
        "    print(parrot(110, voltage=220))\n",
        "except Exception as e:\n",
        "    print(\"Error:\", e)\n",
        "try:\n",
        "    print(parrot(actor='John Cleese'))\n",
        "except Exception as e:\n",
        "    print(\"Error:\", e)\n",
        "\n",
        "def function_with_one_argument(number):\n",
        "    return number\n",
        "try:\n",
        "    print(function_with_one_argument(0, number=0))\n",
        "except Exception as e:\n",
        "    print(\"Error:\", e)\n",
        "\n",
        "def test_function(first_param, *arguments, **keywords):\n",
        "    \"\"\"This function accepts its arguments through \"arguments\" tuple and keywords dictionary.\"\"\"\n",
        "    print(\"First param:\", first_param)\n",
        "    print(\"Arguments tuple:\", arguments)\n",
        "    print(\"Keywords dict:\", keywords)\n",
        "test_function(\n",
        "    'first param',\n",
        "    'second param',\n",
        "    'third param',\n",
        "    fourth_param_name='fourth named param',\n",
        "    fifth_param_name='fifth named param',\n",
        ")"
      ],
      "metadata": {
        "colab": {
          "base_uri": "https://localhost:8080/"
        },
        "id": "qvFwnx7cjrNw",
        "outputId": "52f403e2-5dd4-444f-a797-b3dca96be05e"
      },
      "execution_count": null,
      "outputs": [
        {
          "output_type": "stream",
          "name": "stdout",
          "text": [
            "This parrot wouldn't voom if you put 1000 volts through it. Lovely plumage, the Norwegian Blue. It's a stiff!\n",
            "This parrot wouldn't voom if you put 1000 volts through it. Lovely plumage, the Norwegian Blue. It's a stiff!\n",
            "This parrot wouldn't VOOOOOM if you put 1000000 volts through it. Lovely plumage, the Norwegian Blue. It's a stiff!\n",
            "This parrot wouldn't VOOOOOM if you put 1000000 volts through it. Lovely plumage, the Norwegian Blue. It's a stiff!\n",
            "This parrot wouldn't jump if you put 1000000 volts through it. Lovely plumage, the Norwegian Blue. It's bereft of life!\n",
            "This parrot wouldn't voom if you put 1000 volts through it. Lovely plumage, the Norwegian Blue. It's pushing up the daisies!\n",
            "Error: parrot() missing 1 required positional argument: 'voltage'\n",
            "Error: parrot() got multiple values for argument 'voltage'\n",
            "Error: parrot() got an unexpected keyword argument 'actor'\n",
            "Error: function_with_one_argument() got multiple values for argument 'number'\n",
            "First param: first param\n",
            "Arguments tuple: ('second param', 'third param')\n",
            "Keywords dict: {'fourth_param_name': 'fourth named param', 'fifth_param_name': 'fifth named param'}\n"
          ]
        }
      ]
    },
    {
      "cell_type": "markdown",
      "source": [
        "# Arbitrary Argument Lists\n",
        "- Function can be called with an arbitrary number of arguments. These arguments will be wrapped up in\n",
        "a tuple. Before the variable number of arguments, zero or more normal arguments may occur."
      ],
      "metadata": {
        "id": "Y2GBXj88n83D"
      }
    },
    {
      "cell_type": "code",
      "source": [
        "def test_function(first_param, *arguments):\n",
        "    \"\"\"This function accepts its arguments through an \"arguments\" tuple.\"\"\"\n",
        "    print(\"First parameter:\", first_param)\n",
        "    print(\"Arguments tuple:\", arguments)\n",
        "\n",
        "\n",
        "# Example usage of test_function\n",
        "test_function('first param', 'second param', 'third param')\n",
        "\n",
        "\n",
        "def concat(*args, sep='/'):\n",
        "    \"\"\"Concatenates arguments with the specified separator.\"\"\"\n",
        "    return sep.join(args)\n",
        "\n",
        "\n",
        "# Example usage of concat\n",
        "print(concat('earth', 'mars', 'venus'))\n",
        "print(concat('earth', 'mars', 'venus', sep='.'))\n"
      ],
      "metadata": {
        "colab": {
          "base_uri": "https://localhost:8080/"
        },
        "id": "_J5PFPzSm6Zh",
        "outputId": "5906a1e3-569a-46f8-b32a-e8e48774a10a"
      },
      "execution_count": null,
      "outputs": [
        {
          "output_type": "stream",
          "name": "stdout",
          "text": [
            "First parameter: first param\n",
            "Arguments tuple: ('second param', 'third param')\n",
            "earth/mars/venus\n",
            "earth.mars.venus\n"
          ]
        }
      ]
    },
    {
      "cell_type": "markdown",
      "source": [
        "# Unpacking Argument Lists\n",
        "- Unpacking arguments may be executed via * and ** operators. See below for further details."
      ],
      "metadata": {
        "id": "nirpV1oNofrV"
      }
    },
    {
      "cell_type": "code",
      "source": [
        "# Example 1: Normal call with separate arguments\n",
        "print(\"Range with separate arguments:\", list(range(3, 6)))"
      ],
      "metadata": {
        "colab": {
          "base_uri": "https://localhost:8080/"
        },
        "id": "2AuWQ6uonwY_",
        "outputId": "4a9744b7-ba38-4800-8497-65d8e685c612"
      },
      "execution_count": null,
      "outputs": [
        {
          "output_type": "stream",
          "name": "stdout",
          "text": [
            "Range with separate arguments: [3, 4, 5]\n"
          ]
        }
      ]
    },
    {
      "cell_type": "code",
      "source": [
        "# Example 2: Call with arguments unpacked from a list\n",
        "arguments_list = [3, 6]\n",
        "print(\"Range with unpacked list arguments:\", list(range(*arguments_list)))"
      ],
      "metadata": {
        "colab": {
          "base_uri": "https://localhost:8080/"
        },
        "id": "AF601_7Hosl-",
        "outputId": "adfabf14-e200-43c9-fd94-441c04438a92"
      },
      "execution_count": null,
      "outputs": [
        {
          "output_type": "stream",
          "name": "stdout",
          "text": [
            "Range with unpacked list arguments: [3, 4, 5]\n"
          ]
        }
      ]
    },
    {
      "cell_type": "code",
      "source": [
        "# Example 3: Function receiving named arguments via unpacked dictionary\n",
        "def function_that_receives_named_arguments(first_word, second_word):\n",
        "    return first_word + ', ' + second_word + '!'\n",
        "\n",
        "arguments_dictionary = {'first_word': 'rahul', 'second_word': 'chirra'}\n",
        "print(\n",
        "    \"Function with unpacked dictionary arguments:\",\n",
        "    function_that_receives_named_arguments(**arguments_dictionary),\n",
        ")"
      ],
      "metadata": {
        "colab": {
          "base_uri": "https://localhost:8080/"
        },
        "id": "nVMYKKMDove2",
        "outputId": "8856d7ff-339a-46ec-cbd3-ec22cf21014f"
      },
      "execution_count": null,
      "outputs": [
        {
          "output_type": "stream",
          "name": "stdout",
          "text": [
            "Function with unpacked dictionary arguments: rahul, chirra!\n"
          ]
        }
      ]
    },
    {
      "cell_type": "markdown",
      "source": [
        "# Lambda Expressions\n",
        "- Small anonymous functions can be created with the lambda keyword. Lambda functions can be used\n",
        "wherever function objects are required. They are syntactically restricted to a single expression.\n",
        "Semantically, they are just syntactic sugar for a normal function definition. Like nested function\n",
        "definitions, lambda functions can reference variables from the containing scope.\n"
      ],
      "metadata": {
        "id": "5sfvxkf90TBm"
      }
    },
    {
      "cell_type": "code",
      "source": [
        "def make_increment_function(delta):\n",
        "    \"\"\"This example uses a lambda expression to return a function\"\"\"\n",
        "    return lambda number: number + delta\n",
        "\n",
        "# Creating an increment function\n",
        "increment_function = make_increment_function(42)\n",
        "\n",
        "# Testing the increment function with various inputs\n",
        "print(f\"increment_function(0): {increment_function(0)}\")  # Expected: 42\n",
        "print(f\"increment_function(1): {increment_function(1)}\")  # Expected: 43\n",
        "print(f\"increment_function(2): {increment_function(2)}\")  # Expected: 44\n",
        "\n",
        "# Another use of lambda is to pass a small function as an argument.\n",
        "pairs = [(1, 'one'), (2, 'two'), (3, 'three'), (4, 'four')]\n",
        "\n",
        "# Sorting pairs by the text key using a lambda function\n",
        "pairs.sort(key=lambda pair: pair[1])\n",
        "\n",
        "# Displaying the sorted pairs\n",
        "print(f\"Sorted pairs: {pairs}\")"
      ],
      "metadata": {
        "id": "f8D_QHOPo0kn",
        "colab": {
          "base_uri": "https://localhost:8080/"
        },
        "outputId": "d1ea5848-2335-4cae-ba71-ac1f566d0d89"
      },
      "execution_count": null,
      "outputs": [
        {
          "output_type": "stream",
          "name": "stdout",
          "text": [
            "increment_function(0): 42\n",
            "increment_function(1): 43\n",
            "increment_function(2): 44\n",
            "Sorted pairs: [(4, 'four'), (1, 'one'), (3, 'three'), (2, 'two')]\n"
          ]
        }
      ]
    },
    {
      "cell_type": "markdown",
      "source": [
        ":# Documentation Strings\n",
        "- The first line of a docstring should briefly describe the purpose, without naming the object or type (unless it's a verb describing an operation).\n",
        "Start with a capital letter and end with a period.\n",
        "Leave a blank second line if more content follows.\n",
        "Use subsequent lines for details on usage, side effects, and conventions."
      ],
      "metadata": {
        "id": "kMkrFfp_1gcS"
      }
    },
    {
      "cell_type": "code",
      "source": [],
      "metadata": {
        "id": "2DdfL7dkUZGw"
      },
      "execution_count": null,
      "outputs": []
    },
    {
      "cell_type": "markdown",
      "source": [],
      "metadata": {
        "id": "fvbFMv6-4kXI"
      }
    },
    {
      "cell_type": "code",
      "source": [
        "def do_nothing():\n",
        "    pass\n",
        "\n",
        "\n",
        "# Sequential script execution\n",
        "print(\"Documentation string of 'do_nothing':\")\n",
        "print(do_nothing.__doc__)"
      ],
      "metadata": {
        "id": "V6AHiQlZ03-8",
        "colab": {
          "base_uri": "https://localhost:8080/"
        },
        "outputId": "0ecb3180-e6d6-4432-f1da-794f01055e9f"
      },
      "execution_count": 1,
      "outputs": [
        {
          "output_type": "stream",
          "name": "stdout",
          "text": [
            "Documentation string of 'do_nothing':\n",
            "None\n"
          ]
        }
      ]
    },
    {
      "cell_type": "markdown",
      "source": [
        "# Function Annotations.\n",
        "- Function annotations are completely optional metadata information about the types used\n",
        "by user-defined functions.\n"
      ],
      "metadata": {
        "id": "aObBVIUJWX48"
      }
    },
    {
      "cell_type": "code",
      "source": [
        "def breakfast(ham: str, eggs: str = 'eggs') -> str:\n",
        "    return ham + ' and ' + eggs\n",
        "\n",
        "\n",
        "# Sequential execution\n",
        "print(\"Function annotations of 'breakfast':\")\n",
        "print(breakfast.__annotations__)"
      ],
      "metadata": {
        "colab": {
          "base_uri": "https://localhost:8080/"
        },
        "id": "jiJA2BT6V--X",
        "outputId": "e2913ae3-6e22-4bb1-9ed9-f3813a53d7c5"
      },
      "execution_count": 3,
      "outputs": [
        {
          "output_type": "stream",
          "name": "stdout",
          "text": [
            "Function annotations of 'breakfast':\n",
            "{'ham': <class 'str'>, 'eggs': <class 'str'>, 'return': <class 'str'>}\n"
          ]
        }
      ]
    },
    {
      "cell_type": "markdown",
      "source": [
        "# Function Decorators\n",
        "-  Function Decorators"
      ],
      "metadata": {
        "id": "cpYBw15GW5Tu"
      }
    },
    {
      "cell_type": "code",
      "source": [
        "# This is the function that we want to decorate.\n",
        "def greeting(name):\n",
        "    return \"Hello, {0}!\".format(name)\n",
        "\n",
        "# This function decorates another function's output with a <p> tag.\n",
        "def decorate_with_p(func):\n",
        "    def function_wrapper(name):\n",
        "        return \"<p>{0}</p>\".format(func(name))\n",
        "    return function_wrapper\n",
        "\n",
        "# Using Python's decorator syntax.\n",
        "@decorate_with_p\n",
        "def greeting_with_p(name):\n",
        "    return \"Hello, {0}!\".format(name)\n",
        "\n",
        "# Adding another decorator for wrapping with <div>.\n",
        "def decorate_with_div(func):\n",
        "    def function_wrapper(name):\n",
        "        return \"<div>{0}</div>\".format(func(name))\n",
        "    return function_wrapper\n",
        "\n",
        "# Using multiple decorators.\n",
        "@decorate_with_div\n",
        "@decorate_with_p\n",
        "def greeting_with_div_p(name):\n",
        "    return \"Hello, {0}!\".format(name)\n",
        "\n",
        "# Generalized decorator accepting a tag name.\n",
        "def tags(tag_name):\n",
        "    def tags_decorator(func):\n",
        "        def func_wrapper(name):\n",
        "            return \"<{0}>{1}</{0}>\".format(tag_name, func(name))\n",
        "        return func_wrapper\n",
        "    return tags_decorator\n",
        "\n",
        "@tags('div')\n",
        "@tags('p')\n",
        "def greeting_with_tags(name):\n",
        "    return \"Hello, {0}!\".format(name)\n",
        "\n",
        "# Sequential execution\n",
        "# Create a decorated function.\n",
        "my_get_text = decorate_with_p(greeting)\n",
        "\n",
        "# Display results.\n",
        "print(\"Decorated function output with <p>:\")\n",
        "print(my_get_text('rahul'))  # With decorator.\n",
        "\n",
        "print(\"Original function output without decoration:\")\n",
        "print(greeting('rahul'))  # Without decorator.\n",
        "\n",
        "print(\"Function output decorated with @decorate_with_p:\")\n",
        "print(greeting_with_p('rahul'))\n",
        "\n",
        "print(\"Function output decorated with <div> and <p>:\")\n",
        "print(greeting_with_div_p('rahul'))\n",
        "\n",
        "print(\"Function output with generalized tag-based decorators:\")\n",
        "print(greeting_with_tags('rahul'))"
      ],
      "metadata": {
        "colab": {
          "base_uri": "https://localhost:8080/"
        },
        "id": "iEwfDu-7XNvZ",
        "outputId": "e1466b44-b382-490e-aa20-cb7a21ae8c51"
      },
      "execution_count": 6,
      "outputs": [
        {
          "output_type": "stream",
          "name": "stdout",
          "text": [
            "Decorated function output with <p>:\n",
            "<p>Hello, rahul!</p>\n",
            "Original function output without decoration:\n",
            "Hello, rahul!\n",
            "Function output decorated with @decorate_with_p:\n",
            "<p>Hello, rahul!</p>\n",
            "Function output decorated with <div> and <p>:\n",
            "<div><p>Hello, rahul!</p></div>\n",
            "Function output with generalized tag-based decorators:\n",
            "<div><p>Hello, rahul!</p></div>\n"
          ]
        }
      ]
    },
    {
      "cell_type": "markdown",
      "source": [
        "# Function Decorators"
      ],
      "metadata": {
        "id": "fz8d6yJxbrNy"
      }
    },
    {
      "cell_type": "code",
      "source": [
        "def greeting(name):\n",
        "    return \"Hello, {0}!\".format(name)\n",
        "\n",
        "def decorate_with_p(func):\n",
        "    def function_wrapper(name):\n",
        "        return \"<p>{0}</p>\".format(func(name))\n",
        "    return function_wrapper\n",
        "\n",
        "# Using the decorator manually\n",
        "my_get_text = decorate_with_p(greeting)\n",
        "print(my_get_text('fuck'))\n",
        "print(greeting('you'))"
      ],
      "metadata": {
        "colab": {
          "base_uri": "https://localhost:8080/"
        },
        "id": "L_KFGKSyX_j9",
        "outputId": "5aa67577-9b2e-471f-f8b0-8b51c763badc"
      },
      "execution_count": 7,
      "outputs": [
        {
          "output_type": "stream",
          "name": "stdout",
          "text": [
            "<p>Hello, fuck!</p>\n",
            "Hello, you!\n"
          ]
        }
      ]
    },
    {
      "cell_type": "code",
      "source": [
        "# Using Python's decorator syntax\n",
        "@decorate_with_p\n",
        "def greeting_with_p(name):\n",
        "    return \"Hello, {0}!\".format(name)\n",
        "\n",
        "print(greeting_with_p('rahul'))  # Output with @decorate_with_p\n",
        "\n",
        "def decorate_with_div(func):\n",
        "    def function_wrapper(text):\n",
        "        return \"<div>{0}</div>\".format(func(text))\n",
        "    return function_wrapper"
      ],
      "metadata": {
        "colab": {
          "base_uri": "https://localhost:8080/"
        },
        "id": "VDZc90kib65u",
        "outputId": "415a9c1d-1345-491c-bc1d-82f02e6ba843"
      },
      "execution_count": 9,
      "outputs": [
        {
          "output_type": "stream",
          "name": "stdout",
          "text": [
            "<p>Hello, rahul!</p>\n"
          ]
        }
      ]
    },
    {
      "cell_type": "code",
      "source": [
        "# Combining decorators\n",
        "@decorate_with_div\n",
        "@decorate_with_p\n",
        "def greeting_with_div_p(name):\n",
        "    return \"Hello, {0}!\".format(name)\n",
        "\n",
        "print(greeting_with_div_p('rishi'))"
      ],
      "metadata": {
        "colab": {
          "base_uri": "https://localhost:8080/"
        },
        "id": "JivEZGO-b_kZ",
        "outputId": "36b85d5f-b0bf-443f-cefa-d0ce3504be59"
      },
      "execution_count": 10,
      "outputs": [
        {
          "output_type": "stream",
          "name": "stdout",
          "text": [
            "<div><p>Hello, rishi!</p></div>\n"
          ]
        }
      ]
    },
    {
      "cell_type": "code",
      "source": [
        "def tags(tag_name):\n",
        "    def tags_decorator(func):\n",
        "        def func_wrapper(name):\n",
        "            return \"<{0}>{1}</{0}>\".format(tag_name, func(name))\n",
        "        return func_wrapper\n",
        "    return tags_decorator\n",
        "\n",
        "@tags('div')\n",
        "@tags('p')\n",
        "def greeting_with_tags(name):\n",
        "    return \"Hello, {0}!\".format(name)\n",
        "\n",
        "print(greeting_with_tags('rahul'))"
      ],
      "metadata": {
        "colab": {
          "base_uri": "https://localhost:8080/"
        },
        "id": "XjTVXtGmcMtE",
        "outputId": "d1424ec1-97a8-4d06-fd9d-832b493fe0a5"
      },
      "execution_count": 11,
      "outputs": [
        {
          "output_type": "stream",
          "name": "stdout",
          "text": [
            "<div><p>Hello, rahul!</p></div>\n"
          ]
        }
      ]
    },
    {
      "cell_type": "markdown",
      "source": [
        "# Class Definition Syntax\n",
        "- Python is an object oriented programming language.\n",
        "Almost everything in Python is an object, with its properties and methods.\n",
        "A Class is like an object constructor, or a \"blueprint\" for creating objects."
      ],
      "metadata": {
        "id": "CWieHPSycpHF"
      }
    },
    {
      "cell_type": "code",
      "source": [
        "class GreetingClass:\n",
        "\n",
        "    name = 'user'\n",
        "\n",
        "    def say_hello(self):\n",
        "\n",
        "        return 'Hello ' + self.name\n",
        "\n",
        "    def say_goodbye(self):\n",
        "        \"\"\"Class method.\"\"\"\n",
        "        return 'Goodbye ' + self.name\n",
        "\n",
        "# Instantiate the class\n",
        "greeter = GreetingClass()\n",
        "\n",
        "# Sequential operations with outputs\n",
        "print(greeter.say_hello())  # Expected output: Hello user\n",
        "print(greeter.say_goodbye())  # Expected output: Goodbye user"
      ],
      "metadata": {
        "colab": {
          "base_uri": "https://localhost:8080/"
        },
        "id": "6CDVIeOgcahw",
        "outputId": "8b0e7ae5-0753-4605-f69c-e4d0433e0526"
      },
      "execution_count": 13,
      "outputs": [
        {
          "output_type": "stream",
          "name": "stdout",
          "text": [
            "Hello user\n",
            "Goodbye user\n"
          ]
        }
      ]
    },
    {
      "cell_type": "markdown",
      "source": [
        "# Class Definition Syntax."
      ],
      "metadata": {
        "id": "5E4Cy_qcfLEK"
      }
    },
    {
      "cell_type": "code",
      "source": [
        "class ComplexNumber:\n",
        "    \"\"\"Example of the complex numbers class\"\"\"\n",
        "\n",
        "    real = 0\n",
        "    imaginary = 0\n",
        "\n",
        "    def get_real(self):\n",
        "        \"\"\"Return real part of complex number.\"\"\"\n",
        "        return self.real\n",
        "\n",
        "    def get_imaginary(self):\n",
        "        \"\"\"Return imaginary part of complex number.\"\"\"\n",
        "        return self.imaginary\n",
        "\n",
        "\n",
        "# Display the default attributes and docstring\n",
        "print(\"Default real part:\", ComplexNumber.real)\n",
        "print(\"Docstring of class:\", ComplexNumber.__doc__)\n",
        "\n",
        "# Change class attributes and display the updated values\n",
        "ComplexNumber.real = 10\n",
        "print(\"Updated real part:\", ComplexNumber.real)\n",
        "\n",
        "# Instantiate the class and display the instance attributes\n",
        "complex_number = ComplexNumber()\n",
        "print(\"Instance real part (from class):\", complex_number.real)\n",
        "print(\"Instance real part (via method):\", complex_number.get_real())\n",
        "\n",
        "# CLASS INSTANTIATION with constructor to initialize specific attributes\n",
        "class ComplexNumberWithConstructor:\n",
        "    \"\"\"Example of the class with constructor\"\"\"\n",
        "    def __init__(self, real_part, imaginary_part):\n",
        "        self.real = real_part\n",
        "        self.imaginary = imaginary_part\n",
        "\n",
        "    def get_real(self):\n",
        "        \"\"\"Return real part of complex number.\"\"\"\n",
        "        return self.real\n",
        "\n",
        "    def get_imaginary(self):\n",
        "        \"\"\"Return imaginary part of complex number.\"\"\"\n",
        "        return self.imaginary\n",
        "\n",
        "\n",
        "# Instantiate the class with specific values and display them\n",
        "complex_number_with_constructor = ComplexNumberWithConstructor(3.0, -4.5)\n",
        "print(\"Real part of instantiated object:\", complex_number_with_constructor.real)\n",
        "print(\"Imaginary part of instantiated object:\", complex_number_with_constructor.imaginary)"
      ],
      "metadata": {
        "colab": {
          "base_uri": "https://localhost:8080/"
        },
        "id": "QXz62IBNer9V",
        "outputId": "5de48a6a-06a3-45f8-a3a7-a80cdc90779c"
      },
      "execution_count": 14,
      "outputs": [
        {
          "output_type": "stream",
          "name": "stdout",
          "text": [
            "Default real part: 0\n",
            "Docstring of class: Example of the complex numbers class\n",
            "Updated real part: 10\n",
            "Instance real part (from class): 10\n",
            "Instance real part (via method): 10\n",
            "Real part of instantiated object: 3.0\n",
            "Imaginary part of instantiated object: -4.5\n"
          ]
        }
      ]
    },
    {
      "cell_type": "markdown",
      "source": [
        "# Class Definition Syntax.\n",
        "- The only operations understood by instance objects are attribute references:\n",
        "- Data attributes\n",
        "- Methods.\n"
      ],
      "metadata": {
        "id": "TJyr1TqFf1MV"
      }
    },
    {
      "cell_type": "code",
      "source": [
        "class DummyClass:\n",
        "    \"\"\"Dummy class.\"\"\"\n",
        "    pass\n",
        "\n",
        "# Create an instance of DummyClass\n",
        "dummy_instance = DummyClass()\n",
        "\n",
        "# Add a temporary attribute dynamically and display its value\n",
        "dummy_instance.temporary_attribute = 1\n",
        "print(\"Temporary attribute value:\", dummy_instance.temporary_attribute)\n",
        "\n",
        "# Delete the temporary attribute and confirm it is removed\n",
        "del dummy_instance.temporary_attribute\n",
        "try:\n",
        "    print(dummy_instance.temporary_attribute)\n",
        "except AttributeError:\n",
        "    print(\"Temporary attribute has been deleted.\")"
      ],
      "metadata": {
        "colab": {
          "base_uri": "https://localhost:8080/"
        },
        "id": "qitmbn9Nfe33",
        "outputId": "84a1a2ea-ba79-4a09-e408-73d8e947c729"
      },
      "execution_count": 15,
      "outputs": [
        {
          "output_type": "stream",
          "name": "stdout",
          "text": [
            "Temporary attribute value: 1\n",
            "Temporary attribute has been deleted.\n"
          ]
        }
      ]
    },
    {
      "cell_type": "markdown",
      "source": [
        "Standalone Script Without Assertions.**bold text**"
      ],
      "metadata": {
        "id": "qauuAncBh6pa"
      }
    },
    {
      "cell_type": "code",
      "source": [
        "class MyCounter:\n",
        "    \"\"\"A simple example of the counter class\"\"\"\n",
        "    counter = 10\n",
        "\n",
        "    def get_counter(self):\n",
        "        \"\"\"Return the counter\"\"\"\n",
        "        return self.counter\n",
        "\n",
        "    def increment_counter(self):\n",
        "        \"\"\"Increment the counter\"\"\"\n",
        "        self.counter += 1\n",
        "        return self.counter\n",
        "\n",
        "\n",
        "# Method Objects demonstration\n",
        "counter = MyCounter()\n",
        "\n",
        "# Directly displaying the results instead of using assertions\n",
        "print(\"Initial counter value (using instance method):\", counter.get_counter())\n",
        "\n",
        "# Storing method object and calling it later\n",
        "get_counter = counter.get_counter\n",
        "print(\"Stored method call result:\", get_counter())\n",
        "\n",
        "# Equivalent of calling the method via the class by passing the instance\n",
        "print(\"Counter value (using class method with instance):\", MyCounter.get_counter(counter))"
      ],
      "metadata": {
        "colab": {
          "base_uri": "https://localhost:8080/"
        },
        "id": "B649Yq2kh8Lx",
        "outputId": "753f3b1a-4edd-4623-da84-f52a376adcc4"
      },
      "execution_count": 16,
      "outputs": [
        {
          "output_type": "stream",
          "name": "stdout",
          "text": [
            "Initial counter value (using instance method): 10\n",
            "Stored method call result: 10\n",
            "Counter value (using class method with instance): 10\n"
          ]
        }
      ]
    },
    {
      "cell_type": "markdown",
      "source": [
        "# Standalone Script Without **Assertions**"
      ],
      "metadata": {
        "id": "EhHxffWAiUJR"
      }
    },
    {
      "cell_type": "code",
      "source": [
        "# Class and Instance Variables\n",
        "class Dog:\n",
        "    \"\"\"Dog class example\"\"\"\n",
        "    kind = 'canine'  # Class variable shared by all instances.\n",
        "\n",
        "    def __init__(self, name):\n",
        "        self.name = name  # Instance variable unique to each instance.\n",
        "\n",
        "# Demonstration of class and instance variables\n",
        "fido = Dog('Fido')\n",
        "buddy = Dog('Buddy')\n",
        "\n",
        "print(\"Fido's kind:\", fido.kind)\n",
        "print(\"Buddy's kind:\", buddy.kind)\n",
        "\n",
        "print(\"Fido's name:\", fido.name)\n",
        "print(\"Buddy's name:\", buddy.name)\n",
        "\n",
        "# Shared data issue with mutable objects\n",
        "class DogWithSharedTricks:\n",
        "    \"\"\"Dog class example with wrong shared variable usage\"\"\"\n",
        "    tricks = []  # Mistaken use of a class variable for mutable objects.\n",
        "\n",
        "    def __init__(self, name):\n",
        "        self.name = name  # Instance variable unique to each instance.\n",
        "\n",
        "    def add_trick(self, trick):\n",
        "        \"\"\"Add trick to the dog\"\"\"\n",
        "        self.tricks.append(trick)\n",
        "\n",
        "fido = DogWithSharedTricks('Fido')\n",
        "buddy = DogWithSharedTricks('Buddy')\n",
        "\n",
        "fido.add_trick('roll over')\n",
        "buddy.add_trick('play dead')\n",
        "\n",
        "print(\"Shared tricks (Fido):\", fido.tricks)\n",
        "print(\"Shared tricks (Buddy):\", buddy.tricks)\n",
        "\n",
        "# Correct design using instance variables\n",
        "class DogWithTricks:\n",
        "    \"\"\"Dog class example\"\"\"\n",
        "\n",
        "    def __init__(self, name):\n",
        "        self.name = name  # Instance variable unique to each instance.\n",
        "        self.tricks = []  # creates a new empty list for each dog\n",
        "\n",
        "    def add_trick(self, trick):\n",
        "        \"\"\"Add trick to the dog\"\"\"\n",
        "        self.tricks.append(trick)\n",
        "\n",
        "fido = DogWithTricks('Fido')\n",
        "buddy = DogWithTricks('Buddy')\n",
        "\n",
        "fido.add_trick('roll over')\n",
        "buddy.add_trick('play dead')\n",
        "\n",
        "print(\"Tricks for Fido:\", fido.tricks)\n",
        "print(\"Tricks for Buddy:\", buddy.tricks)"
      ],
      "metadata": {
        "colab": {
          "base_uri": "https://localhost:8080/"
        },
        "id": "aN42pG7SiCpB",
        "outputId": "029e91d0-f8e4-4b2b-9283-30aaacdb6430"
      },
      "execution_count": 17,
      "outputs": [
        {
          "output_type": "stream",
          "name": "stdout",
          "text": [
            "Fido's kind: canine\n",
            "Buddy's kind: canine\n",
            "Fido's name: Fido\n",
            "Buddy's name: Buddy\n",
            "Shared tricks (Fido): ['roll over', 'play dead']\n",
            "Shared tricks (Buddy): ['roll over', 'play dead']\n",
            "Tricks for Fido: ['roll over']\n",
            "Tricks for Buddy: ['play dead']\n"
          ]
        }
      ]
    },
    {
      "cell_type": "markdown",
      "source": [
        "Standalone Script Demonstrating **Inheritance**"
      ],
      "metadata": {
        "id": "HK-vS3p7i2FF"
      }
    },
    {
      "cell_type": "code",
      "source": [
        "# Base class\n",
        "class Person:\n",
        "    \"\"\"Example of the base class\"\"\"\n",
        "    def __init__(self, name):\n",
        "        self.name = name\n",
        "\n",
        "    def get_name(self):\n",
        "        \"\"\"Get person name\"\"\"\n",
        "        return self.name\n",
        "\n",
        "\n",
        "# Derived class\n",
        "class Employee(Person):\n",
        "    \"\"\"Example of the derived class\"\"\"\n",
        "    def __init__(self, name, staff_id):\n",
        "        super().__init__(name)  # Using super() to initialize the base class\n",
        "        self.staff_id = staff_id\n",
        "\n",
        "    def get_full_id(self):\n",
        "        \"\"\"Get full employee id\"\"\"\n",
        "        return self.get_name() + ', ' + self.staff_id\n",
        "\n",
        "\n",
        "# Demonstrating inheritance and functionality\n",
        "person = Person('CHIRRA')\n",
        "employee = Employee('RAHUL', 'A23')\n",
        "\n",
        "print(\"Person's name:\", person.get_name())\n",
        "print(\"Employee's name:\", employee.get_name())\n",
        "print(\"Employee's full ID:\", employee.get_full_id())\n",
        "\n",
        "# Demonstrating isinstance and issubclass functions\n",
        "print(\"Is 'employee' an instance of Employee?\", isinstance(employee, Employee))\n",
        "print(\"Is 'person' an instance of Employee?\", isinstance(person, Employee))\n",
        "\n",
        "print(\"Is 'person' an instance of Person?\", isinstance(person, Person))\n",
        "print(\"Is 'employee' an instance of Person?\", isinstance(employee, Person))\n",
        "\n",
        "print(\"Is Employee a subclass of Person?\", issubclass(Employee, Person))\n",
        "print(\"Is Person a subclass of Employee?\", issubclass(Person, Employee))"
      ],
      "metadata": {
        "colab": {
          "base_uri": "https://localhost:8080/"
        },
        "id": "54oQtnjYifFm",
        "outputId": "c4c45097-4cd9-4877-ed69-cb6f5bb7505a"
      },
      "execution_count": 19,
      "outputs": [
        {
          "output_type": "stream",
          "name": "stdout",
          "text": [
            "Person's name: CHIRRA\n",
            "Employee's name: RAHUL\n",
            "Employee's full ID: RAHUL, A23\n",
            "Is 'employee' an instance of Employee? True\n",
            "Is 'person' an instance of Employee? False\n",
            "Is 'person' an instance of Person? True\n",
            "Is 'employee' an instance of Person? True\n",
            "Is Employee a subclass of Person? True\n",
            "Is Person a subclass of Employee? False\n"
          ]
        }
      ]
    },
    {
      "cell_type": "markdown",
      "source": [
        "Multiple **Inheritance**\n",
        "- Some classes may derive from multiple classes. This means that the derived class would have\n",
        "its attributes, along with the attributes of all the classes that it was derived from."
      ],
      "metadata": {
        "id": "-SIxg8GRlkWp"
      }
    },
    {
      "source": [
        "# Base class\n",
        "class Clock:\n",
        "    time = '11:23 PM'  # Example of class variable\n",
        "\n",
        "    def get_time(self):\n",
        "        return self.time\n",
        "\n",
        "# pylint: disable=too-few-public-methods\n",
        "class Calendar:\n",
        "    date = '01/01/2025'\n",
        "\n",
        "    def get_date(self):\n",
        "        return self.date\n",
        "\n",
        "# Python supports a form of multiple inheritance as well. A class definition with multiple\n",
        "# base classes looks like this.\n",
        "class CalendarClock(Clock, Calendar):\n",
        "    \"\"\"CalendarClock class inheriting from Clock and Calendar\"\"\"\n",
        "    def __init__(self):\n",
        "        # optionally initialize some attributes here if needed\n",
        "        pass\n",
        "\n",
        "calendar_clock = CalendarClock()\n",
        "\n",
        "# Print statements to verify the functionality\n",
        "print(calendar_clock.get_date())  # Expected output: '12/08/2018'\n",
        "print(calendar_clock.get_time())  # Expected output: '11:23 PM'"
      ],
      "cell_type": "code",
      "metadata": {
        "colab": {
          "base_uri": "https://localhost:8080/"
        },
        "id": "HCxLVWwdmCUw",
        "outputId": "56d2d155-655e-41b0-b2aa-a3f6b71bb21e"
      },
      "execution_count": 22,
      "outputs": [
        {
          "output_type": "stream",
          "name": "stdout",
          "text": [
            "01/01/2025\n",
            "11:23 PM\n"
          ]
        }
      ]
    },
    {
      "cell_type": "markdown",
      "source": [
        "ends."
      ],
      "metadata": {
        "id": "_OQozPGomc6M"
      }
    }
  ]
}